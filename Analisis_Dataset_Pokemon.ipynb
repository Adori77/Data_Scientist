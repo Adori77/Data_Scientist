{
  "nbformat": 4,
  "nbformat_minor": 0,
  "metadata": {
    "colab": {
      "provenance": []
    },
    "kernelspec": {
      "name": "python3",
      "display_name": "Python 3"
    },
    "language_info": {
      "name": "python"
    }
  },
  "cells": [
    {
      "cell_type": "markdown",
      "metadata": {
        "id": "gN2-JXtZLTKP"
      },
      "source": [
        "# Análisis del dataset Pokemon"
      ]
    },
    {
      "cell_type": "markdown",
      "metadata": {
        "id": "gV1P-B_dwoR2"
      },
      "source": [
        "1. Importa la librería de pandas y numpy"
      ]
    },
    {
      "cell_type": "code",
      "source": [
        "import pandas as pd\n",
        "import numpy as np"
      ],
      "metadata": {
        "id": "v0xY6bUbyyee"
      },
      "execution_count": null,
      "outputs": []
    },
    {
      "cell_type": "markdown",
      "metadata": {
        "id": "0Zm-Z-bkwfu1"
      },
      "source": [
        "2. Importar dataset"
      ]
    },
    {
      "cell_type": "code",
      "metadata": {
        "id": "IuNG9AkIwJjT"
      },
      "source": [
        "df = pd.read_csv('/content/Pokemon.csv')"
      ],
      "execution_count": null,
      "outputs": []
    },
    {
      "cell_type": "markdown",
      "source": [
        "# Sección nueva"
      ],
      "metadata": {
        "id": "-bbs4ln3aWsI"
      }
    },
    {
      "cell_type": "markdown",
      "metadata": {
        "id": "RWYRS3sTw_V1"
      },
      "source": [
        "3. Imprime las 10 primeras líneas de nuestro nuevo dataframe mediante la función head"
      ]
    },
    {
      "cell_type": "code",
      "metadata": {
        "id": "28NLkIztw--d",
        "colab": {
          "base_uri": "https://localhost:8080/",
          "height": 496
        },
        "outputId": "b56fb3d6-f234-42f4-a170-1b7ff9a5e5a0"
      },
      "source": [
        "df.head(10)"
      ],
      "execution_count": null,
      "outputs": [
        {
          "output_type": "execute_result",
          "data": {
            "text/plain": [
              "   #                       Name Type 1  Type 2  Total  HP  Attack  Defense  \\\n",
              "0  1                  Bulbasaur  Grass  Poison    318  45      49       49   \n",
              "1  2                    Ivysaur  Grass  Poison    405  60      62       63   \n",
              "2  3                   Venusaur  Grass  Poison    525  80      82       83   \n",
              "3  3      VenusaurMega Venusaur  Grass  Poison    625  80     100      123   \n",
              "4  4                 Charmander   Fire     NaN    309  39      52       43   \n",
              "5  5                 Charmeleon   Fire     NaN    405  58      64       58   \n",
              "6  6                  Charizard   Fire  Flying    534  78      84       78   \n",
              "7  6  CharizardMega Charizard X   Fire  Dragon    634  78     130      111   \n",
              "8  6  CharizardMega Charizard Y   Fire  Flying    634  78     104       78   \n",
              "9  7                   Squirtle  Water     NaN    314  44      48       65   \n",
              "\n",
              "   Sp. Atk  Sp. Def  Speed  Generation  Legendary  \n",
              "0       65       65     45           1      False  \n",
              "1       80       80     60           1      False  \n",
              "2      100      100     80           1      False  \n",
              "3      122      120     80           1      False  \n",
              "4       60       50     65           1      False  \n",
              "5       80       65     80           1      False  \n",
              "6      109       85    100           1      False  \n",
              "7      130       85    100           1      False  \n",
              "8      159      115    100           1      False  \n",
              "9       50       64     43           1      False  "
            ],
            "text/html": [
              "\n",
              "  <div id=\"df-a4ca1ff5-12da-46d5-9d7c-a6bb699a560a\">\n",
              "    <div class=\"colab-df-container\">\n",
              "      <div>\n",
              "<style scoped>\n",
              "    .dataframe tbody tr th:only-of-type {\n",
              "        vertical-align: middle;\n",
              "    }\n",
              "\n",
              "    .dataframe tbody tr th {\n",
              "        vertical-align: top;\n",
              "    }\n",
              "\n",
              "    .dataframe thead th {\n",
              "        text-align: right;\n",
              "    }\n",
              "</style>\n",
              "<table border=\"1\" class=\"dataframe\">\n",
              "  <thead>\n",
              "    <tr style=\"text-align: right;\">\n",
              "      <th></th>\n",
              "      <th>#</th>\n",
              "      <th>Name</th>\n",
              "      <th>Type 1</th>\n",
              "      <th>Type 2</th>\n",
              "      <th>Total</th>\n",
              "      <th>HP</th>\n",
              "      <th>Attack</th>\n",
              "      <th>Defense</th>\n",
              "      <th>Sp. Atk</th>\n",
              "      <th>Sp. Def</th>\n",
              "      <th>Speed</th>\n",
              "      <th>Generation</th>\n",
              "      <th>Legendary</th>\n",
              "    </tr>\n",
              "  </thead>\n",
              "  <tbody>\n",
              "    <tr>\n",
              "      <th>0</th>\n",
              "      <td>1</td>\n",
              "      <td>Bulbasaur</td>\n",
              "      <td>Grass</td>\n",
              "      <td>Poison</td>\n",
              "      <td>318</td>\n",
              "      <td>45</td>\n",
              "      <td>49</td>\n",
              "      <td>49</td>\n",
              "      <td>65</td>\n",
              "      <td>65</td>\n",
              "      <td>45</td>\n",
              "      <td>1</td>\n",
              "      <td>False</td>\n",
              "    </tr>\n",
              "    <tr>\n",
              "      <th>1</th>\n",
              "      <td>2</td>\n",
              "      <td>Ivysaur</td>\n",
              "      <td>Grass</td>\n",
              "      <td>Poison</td>\n",
              "      <td>405</td>\n",
              "      <td>60</td>\n",
              "      <td>62</td>\n",
              "      <td>63</td>\n",
              "      <td>80</td>\n",
              "      <td>80</td>\n",
              "      <td>60</td>\n",
              "      <td>1</td>\n",
              "      <td>False</td>\n",
              "    </tr>\n",
              "    <tr>\n",
              "      <th>2</th>\n",
              "      <td>3</td>\n",
              "      <td>Venusaur</td>\n",
              "      <td>Grass</td>\n",
              "      <td>Poison</td>\n",
              "      <td>525</td>\n",
              "      <td>80</td>\n",
              "      <td>82</td>\n",
              "      <td>83</td>\n",
              "      <td>100</td>\n",
              "      <td>100</td>\n",
              "      <td>80</td>\n",
              "      <td>1</td>\n",
              "      <td>False</td>\n",
              "    </tr>\n",
              "    <tr>\n",
              "      <th>3</th>\n",
              "      <td>3</td>\n",
              "      <td>VenusaurMega Venusaur</td>\n",
              "      <td>Grass</td>\n",
              "      <td>Poison</td>\n",
              "      <td>625</td>\n",
              "      <td>80</td>\n",
              "      <td>100</td>\n",
              "      <td>123</td>\n",
              "      <td>122</td>\n",
              "      <td>120</td>\n",
              "      <td>80</td>\n",
              "      <td>1</td>\n",
              "      <td>False</td>\n",
              "    </tr>\n",
              "    <tr>\n",
              "      <th>4</th>\n",
              "      <td>4</td>\n",
              "      <td>Charmander</td>\n",
              "      <td>Fire</td>\n",
              "      <td>NaN</td>\n",
              "      <td>309</td>\n",
              "      <td>39</td>\n",
              "      <td>52</td>\n",
              "      <td>43</td>\n",
              "      <td>60</td>\n",
              "      <td>50</td>\n",
              "      <td>65</td>\n",
              "      <td>1</td>\n",
              "      <td>False</td>\n",
              "    </tr>\n",
              "    <tr>\n",
              "      <th>5</th>\n",
              "      <td>5</td>\n",
              "      <td>Charmeleon</td>\n",
              "      <td>Fire</td>\n",
              "      <td>NaN</td>\n",
              "      <td>405</td>\n",
              "      <td>58</td>\n",
              "      <td>64</td>\n",
              "      <td>58</td>\n",
              "      <td>80</td>\n",
              "      <td>65</td>\n",
              "      <td>80</td>\n",
              "      <td>1</td>\n",
              "      <td>False</td>\n",
              "    </tr>\n",
              "    <tr>\n",
              "      <th>6</th>\n",
              "      <td>6</td>\n",
              "      <td>Charizard</td>\n",
              "      <td>Fire</td>\n",
              "      <td>Flying</td>\n",
              "      <td>534</td>\n",
              "      <td>78</td>\n",
              "      <td>84</td>\n",
              "      <td>78</td>\n",
              "      <td>109</td>\n",
              "      <td>85</td>\n",
              "      <td>100</td>\n",
              "      <td>1</td>\n",
              "      <td>False</td>\n",
              "    </tr>\n",
              "    <tr>\n",
              "      <th>7</th>\n",
              "      <td>6</td>\n",
              "      <td>CharizardMega Charizard X</td>\n",
              "      <td>Fire</td>\n",
              "      <td>Dragon</td>\n",
              "      <td>634</td>\n",
              "      <td>78</td>\n",
              "      <td>130</td>\n",
              "      <td>111</td>\n",
              "      <td>130</td>\n",
              "      <td>85</td>\n",
              "      <td>100</td>\n",
              "      <td>1</td>\n",
              "      <td>False</td>\n",
              "    </tr>\n",
              "    <tr>\n",
              "      <th>8</th>\n",
              "      <td>6</td>\n",
              "      <td>CharizardMega Charizard Y</td>\n",
              "      <td>Fire</td>\n",
              "      <td>Flying</td>\n",
              "      <td>634</td>\n",
              "      <td>78</td>\n",
              "      <td>104</td>\n",
              "      <td>78</td>\n",
              "      <td>159</td>\n",
              "      <td>115</td>\n",
              "      <td>100</td>\n",
              "      <td>1</td>\n",
              "      <td>False</td>\n",
              "    </tr>\n",
              "    <tr>\n",
              "      <th>9</th>\n",
              "      <td>7</td>\n",
              "      <td>Squirtle</td>\n",
              "      <td>Water</td>\n",
              "      <td>NaN</td>\n",
              "      <td>314</td>\n",
              "      <td>44</td>\n",
              "      <td>48</td>\n",
              "      <td>65</td>\n",
              "      <td>50</td>\n",
              "      <td>64</td>\n",
              "      <td>43</td>\n",
              "      <td>1</td>\n",
              "      <td>False</td>\n",
              "    </tr>\n",
              "  </tbody>\n",
              "</table>\n",
              "</div>\n",
              "      <button class=\"colab-df-convert\" onclick=\"convertToInteractive('df-a4ca1ff5-12da-46d5-9d7c-a6bb699a560a')\"\n",
              "              title=\"Convert this dataframe to an interactive table.\"\n",
              "              style=\"display:none;\">\n",
              "        \n",
              "  <svg xmlns=\"http://www.w3.org/2000/svg\" height=\"24px\"viewBox=\"0 0 24 24\"\n",
              "       width=\"24px\">\n",
              "    <path d=\"M0 0h24v24H0V0z\" fill=\"none\"/>\n",
              "    <path d=\"M18.56 5.44l.94 2.06.94-2.06 2.06-.94-2.06-.94-.94-2.06-.94 2.06-2.06.94zm-11 1L8.5 8.5l.94-2.06 2.06-.94-2.06-.94L8.5 2.5l-.94 2.06-2.06.94zm10 10l.94 2.06.94-2.06 2.06-.94-2.06-.94-.94-2.06-.94 2.06-2.06.94z\"/><path d=\"M17.41 7.96l-1.37-1.37c-.4-.4-.92-.59-1.43-.59-.52 0-1.04.2-1.43.59L10.3 9.45l-7.72 7.72c-.78.78-.78 2.05 0 2.83L4 21.41c.39.39.9.59 1.41.59.51 0 1.02-.2 1.41-.59l7.78-7.78 2.81-2.81c.8-.78.8-2.07 0-2.86zM5.41 20L4 18.59l7.72-7.72 1.47 1.35L5.41 20z\"/>\n",
              "  </svg>\n",
              "      </button>\n",
              "      \n",
              "  <style>\n",
              "    .colab-df-container {\n",
              "      display:flex;\n",
              "      flex-wrap:wrap;\n",
              "      gap: 12px;\n",
              "    }\n",
              "\n",
              "    .colab-df-convert {\n",
              "      background-color: #E8F0FE;\n",
              "      border: none;\n",
              "      border-radius: 50%;\n",
              "      cursor: pointer;\n",
              "      display: none;\n",
              "      fill: #1967D2;\n",
              "      height: 32px;\n",
              "      padding: 0 0 0 0;\n",
              "      width: 32px;\n",
              "    }\n",
              "\n",
              "    .colab-df-convert:hover {\n",
              "      background-color: #E2EBFA;\n",
              "      box-shadow: 0px 1px 2px rgba(60, 64, 67, 0.3), 0px 1px 3px 1px rgba(60, 64, 67, 0.15);\n",
              "      fill: #174EA6;\n",
              "    }\n",
              "\n",
              "    [theme=dark] .colab-df-convert {\n",
              "      background-color: #3B4455;\n",
              "      fill: #D2E3FC;\n",
              "    }\n",
              "\n",
              "    [theme=dark] .colab-df-convert:hover {\n",
              "      background-color: #434B5C;\n",
              "      box-shadow: 0px 1px 3px 1px rgba(0, 0, 0, 0.15);\n",
              "      filter: drop-shadow(0px 1px 2px rgba(0, 0, 0, 0.3));\n",
              "      fill: #FFFFFF;\n",
              "    }\n",
              "  </style>\n",
              "\n",
              "      <script>\n",
              "        const buttonEl =\n",
              "          document.querySelector('#df-a4ca1ff5-12da-46d5-9d7c-a6bb699a560a button.colab-df-convert');\n",
              "        buttonEl.style.display =\n",
              "          google.colab.kernel.accessAllowed ? 'block' : 'none';\n",
              "\n",
              "        async function convertToInteractive(key) {\n",
              "          const element = document.querySelector('#df-a4ca1ff5-12da-46d5-9d7c-a6bb699a560a');\n",
              "          const dataTable =\n",
              "            await google.colab.kernel.invokeFunction('convertToInteractive',\n",
              "                                                     [key], {});\n",
              "          if (!dataTable) return;\n",
              "\n",
              "          const docLinkHtml = 'Like what you see? Visit the ' +\n",
              "            '<a target=\"_blank\" href=https://colab.research.google.com/notebooks/data_table.ipynb>data table notebook</a>'\n",
              "            + ' to learn more about interactive tables.';\n",
              "          element.innerHTML = '';\n",
              "          dataTable['output_type'] = 'display_data';\n",
              "          await google.colab.output.renderOutput(dataTable, element);\n",
              "          const docLink = document.createElement('div');\n",
              "          docLink.innerHTML = docLinkHtml;\n",
              "          element.appendChild(docLink);\n",
              "        }\n",
              "      </script>\n",
              "    </div>\n",
              "  </div>\n",
              "  "
            ]
          },
          "metadata": {},
          "execution_count": 5
        }
      ]
    },
    {
      "cell_type": "markdown",
      "metadata": {
        "id": "HHAuSJf4ziZU"
      },
      "source": [
        "4. Encuentra cuántas filas y columnas tiene df mediante la función shape"
      ]
    },
    {
      "cell_type": "code",
      "metadata": {
        "id": "4NQbqk4xzSAf",
        "colab": {
          "base_uri": "https://localhost:8080/"
        },
        "outputId": "407351f6-da53-4020-8a4d-de59b4d5b035"
      },
      "source": [
        "df.shape"
      ],
      "execution_count": null,
      "outputs": [
        {
          "output_type": "execute_result",
          "data": {
            "text/plain": [
              "(800, 13)"
            ]
          },
          "metadata": {},
          "execution_count": 6
        }
      ]
    },
    {
      "cell_type": "markdown",
      "metadata": {
        "id": "e36Ix0Li0Exc"
      },
      "source": [
        "5. Obtén la información básica del dataframe mediante la función info. Fíjate en si hay alguna columna con elementos nulos, de que tipo son los datos de cada columna."
      ]
    },
    {
      "cell_type": "code",
      "metadata": {
        "id": "znQK0ql80D1D",
        "colab": {
          "base_uri": "https://localhost:8080/"
        },
        "outputId": "22bbb5aa-d866-4002-d017-11ed0d54ded1"
      },
      "source": [
        "df.info() # Hay elementos nulos en la columna Type 2"
      ],
      "execution_count": null,
      "outputs": [
        {
          "output_type": "stream",
          "name": "stdout",
          "text": [
            "<class 'pandas.core.frame.DataFrame'>\n",
            "RangeIndex: 800 entries, 0 to 799\n",
            "Data columns (total 13 columns):\n",
            " #   Column      Non-Null Count  Dtype \n",
            "---  ------      --------------  ----- \n",
            " 0   #           800 non-null    int64 \n",
            " 1   Name        800 non-null    object\n",
            " 2   Type 1      800 non-null    object\n",
            " 3   Type 2      414 non-null    object\n",
            " 4   Total       800 non-null    int64 \n",
            " 5   HP          800 non-null    int64 \n",
            " 6   Attack      800 non-null    int64 \n",
            " 7   Defense     800 non-null    int64 \n",
            " 8   Sp. Atk     800 non-null    int64 \n",
            " 9   Sp. Def     800 non-null    int64 \n",
            " 10  Speed       800 non-null    int64 \n",
            " 11  Generation  800 non-null    int64 \n",
            " 12  Legendary   800 non-null    bool  \n",
            "dtypes: bool(1), int64(9), object(3)\n",
            "memory usage: 75.9+ KB\n"
          ]
        }
      ]
    },
    {
      "cell_type": "markdown",
      "metadata": {
        "id": "7YXTUHYV1VQj"
      },
      "source": [
        "6. Aplica la función drop_duplicates a df para eliminar duplicados si los hay. Luego imprime la shape del nuevo dataframe y mira si se han borrado duplicados. Si había duplicados, ahora debería haber menos filas en df."
      ]
    },
    {
      "cell_type": "code",
      "metadata": {
        "id": "7v1q_n7r1sct"
      },
      "source": [
        "df2 = df.drop_duplicates()"
      ],
      "execution_count": null,
      "outputs": []
    },
    {
      "cell_type": "code",
      "source": [
        "df2.shape"
      ],
      "metadata": {
        "colab": {
          "base_uri": "https://localhost:8080/"
        },
        "id": "pBULnTCim1gb",
        "outputId": "384b751b-4e2f-4c10-de68-0a849b98c4aa"
      },
      "execution_count": null,
      "outputs": [
        {
          "output_type": "execute_result",
          "data": {
            "text/plain": [
              "(800, 13)"
            ]
          },
          "metadata": {},
          "execution_count": 9
        }
      ]
    },
    {
      "cell_type": "markdown",
      "metadata": {
        "id": "XLEyI3ta0vJ4"
      },
      "source": [
        "En el ejercicio anterior te debería haber salido que no hay duplicados. Pero si nos fijamos en el ejercicio 3, cuándo hemos imprimido las 10 primeras filas de df vemos que hay elementos que tienen el mismo id en la columna '#', como el pokemon con '#'==3. Esto es porque la función drop_duplicates elimina aquellos registros (filas) que tienen  el mismo valor **en todas las columnas** que otro registro.\n",
        "\n",
        "\n",
        "Si queremos un dataset sin megaevoluciones, deberemos eliminar las filas que tienen el id repetido en la columna '#' y quedarnos solo con la primera aparición de ese id. Para ello usaremos la función drop_duplicates especificando el parámetro subset=['column_name'] donde column_name será el nombre de la columna con duplicados que queremos tomar como referencia. En este caso el column_name será #"
      ]
    },
    {
      "cell_type": "markdown",
      "metadata": {
        "id": "n8YBw0au2t_J"
      },
      "source": [
        "7. Quédate con una versión de df sin megaevoluciones, es decir, si hay más de un pokemon con el mismo número en la columna # quédate solo con su primera aparición. Y guárdala en un dataframe llamado sub_df"
      ]
    },
    {
      "cell_type": "code",
      "metadata": {
        "id": "kkF3dnoP1ULU"
      },
      "source": [
        "sub_df = df.drop_duplicates(subset = ['#'])"
      ],
      "execution_count": null,
      "outputs": []
    },
    {
      "cell_type": "markdown",
      "metadata": {
        "id": "Z8gk_8HH3NTE"
      },
      "source": [
        "8. Aplica la función head a sub_df para ver como ha quedado nuestro subdataset e imprime su shape para ver con cuántos registros nos hemos quedado."
      ]
    },
    {
      "cell_type": "code",
      "metadata": {
        "id": "KzH9p-I73jJN",
        "colab": {
          "base_uri": "https://localhost:8080/",
          "height": 444
        },
        "outputId": "da4cfd42-4d00-47f2-c486-44e98cec9e65"
      },
      "source": [
        "sub_df.head(10)"
      ],
      "execution_count": null,
      "outputs": [
        {
          "output_type": "execute_result",
          "data": {
            "text/plain": [
              "     #        Name Type 1  Type 2  Total  HP  Attack  Defense  Sp. Atk  \\\n",
              "0    1   Bulbasaur  Grass  Poison    318  45      49       49       65   \n",
              "1    2     Ivysaur  Grass  Poison    405  60      62       63       80   \n",
              "2    3    Venusaur  Grass  Poison    525  80      82       83      100   \n",
              "4    4  Charmander   Fire     NaN    309  39      52       43       60   \n",
              "5    5  Charmeleon   Fire     NaN    405  58      64       58       80   \n",
              "6    6   Charizard   Fire  Flying    534  78      84       78      109   \n",
              "9    7    Squirtle  Water     NaN    314  44      48       65       50   \n",
              "10   8   Wartortle  Water     NaN    405  59      63       80       65   \n",
              "11   9   Blastoise  Water     NaN    530  79      83      100       85   \n",
              "13  10    Caterpie    Bug     NaN    195  45      30       35       20   \n",
              "\n",
              "    Sp. Def  Speed  Generation  Legendary  \n",
              "0        65     45           1      False  \n",
              "1        80     60           1      False  \n",
              "2       100     80           1      False  \n",
              "4        50     65           1      False  \n",
              "5        65     80           1      False  \n",
              "6        85    100           1      False  \n",
              "9        64     43           1      False  \n",
              "10       80     58           1      False  \n",
              "11      105     78           1      False  \n",
              "13       20     45           1      False  "
            ],
            "text/html": [
              "\n",
              "  <div id=\"df-15228cf1-134c-489d-bb06-01d0ec8cabf1\">\n",
              "    <div class=\"colab-df-container\">\n",
              "      <div>\n",
              "<style scoped>\n",
              "    .dataframe tbody tr th:only-of-type {\n",
              "        vertical-align: middle;\n",
              "    }\n",
              "\n",
              "    .dataframe tbody tr th {\n",
              "        vertical-align: top;\n",
              "    }\n",
              "\n",
              "    .dataframe thead th {\n",
              "        text-align: right;\n",
              "    }\n",
              "</style>\n",
              "<table border=\"1\" class=\"dataframe\">\n",
              "  <thead>\n",
              "    <tr style=\"text-align: right;\">\n",
              "      <th></th>\n",
              "      <th>#</th>\n",
              "      <th>Name</th>\n",
              "      <th>Type 1</th>\n",
              "      <th>Type 2</th>\n",
              "      <th>Total</th>\n",
              "      <th>HP</th>\n",
              "      <th>Attack</th>\n",
              "      <th>Defense</th>\n",
              "      <th>Sp. Atk</th>\n",
              "      <th>Sp. Def</th>\n",
              "      <th>Speed</th>\n",
              "      <th>Generation</th>\n",
              "      <th>Legendary</th>\n",
              "    </tr>\n",
              "  </thead>\n",
              "  <tbody>\n",
              "    <tr>\n",
              "      <th>0</th>\n",
              "      <td>1</td>\n",
              "      <td>Bulbasaur</td>\n",
              "      <td>Grass</td>\n",
              "      <td>Poison</td>\n",
              "      <td>318</td>\n",
              "      <td>45</td>\n",
              "      <td>49</td>\n",
              "      <td>49</td>\n",
              "      <td>65</td>\n",
              "      <td>65</td>\n",
              "      <td>45</td>\n",
              "      <td>1</td>\n",
              "      <td>False</td>\n",
              "    </tr>\n",
              "    <tr>\n",
              "      <th>1</th>\n",
              "      <td>2</td>\n",
              "      <td>Ivysaur</td>\n",
              "      <td>Grass</td>\n",
              "      <td>Poison</td>\n",
              "      <td>405</td>\n",
              "      <td>60</td>\n",
              "      <td>62</td>\n",
              "      <td>63</td>\n",
              "      <td>80</td>\n",
              "      <td>80</td>\n",
              "      <td>60</td>\n",
              "      <td>1</td>\n",
              "      <td>False</td>\n",
              "    </tr>\n",
              "    <tr>\n",
              "      <th>2</th>\n",
              "      <td>3</td>\n",
              "      <td>Venusaur</td>\n",
              "      <td>Grass</td>\n",
              "      <td>Poison</td>\n",
              "      <td>525</td>\n",
              "      <td>80</td>\n",
              "      <td>82</td>\n",
              "      <td>83</td>\n",
              "      <td>100</td>\n",
              "      <td>100</td>\n",
              "      <td>80</td>\n",
              "      <td>1</td>\n",
              "      <td>False</td>\n",
              "    </tr>\n",
              "    <tr>\n",
              "      <th>4</th>\n",
              "      <td>4</td>\n",
              "      <td>Charmander</td>\n",
              "      <td>Fire</td>\n",
              "      <td>NaN</td>\n",
              "      <td>309</td>\n",
              "      <td>39</td>\n",
              "      <td>52</td>\n",
              "      <td>43</td>\n",
              "      <td>60</td>\n",
              "      <td>50</td>\n",
              "      <td>65</td>\n",
              "      <td>1</td>\n",
              "      <td>False</td>\n",
              "    </tr>\n",
              "    <tr>\n",
              "      <th>5</th>\n",
              "      <td>5</td>\n",
              "      <td>Charmeleon</td>\n",
              "      <td>Fire</td>\n",
              "      <td>NaN</td>\n",
              "      <td>405</td>\n",
              "      <td>58</td>\n",
              "      <td>64</td>\n",
              "      <td>58</td>\n",
              "      <td>80</td>\n",
              "      <td>65</td>\n",
              "      <td>80</td>\n",
              "      <td>1</td>\n",
              "      <td>False</td>\n",
              "    </tr>\n",
              "    <tr>\n",
              "      <th>6</th>\n",
              "      <td>6</td>\n",
              "      <td>Charizard</td>\n",
              "      <td>Fire</td>\n",
              "      <td>Flying</td>\n",
              "      <td>534</td>\n",
              "      <td>78</td>\n",
              "      <td>84</td>\n",
              "      <td>78</td>\n",
              "      <td>109</td>\n",
              "      <td>85</td>\n",
              "      <td>100</td>\n",
              "      <td>1</td>\n",
              "      <td>False</td>\n",
              "    </tr>\n",
              "    <tr>\n",
              "      <th>9</th>\n",
              "      <td>7</td>\n",
              "      <td>Squirtle</td>\n",
              "      <td>Water</td>\n",
              "      <td>NaN</td>\n",
              "      <td>314</td>\n",
              "      <td>44</td>\n",
              "      <td>48</td>\n",
              "      <td>65</td>\n",
              "      <td>50</td>\n",
              "      <td>64</td>\n",
              "      <td>43</td>\n",
              "      <td>1</td>\n",
              "      <td>False</td>\n",
              "    </tr>\n",
              "    <tr>\n",
              "      <th>10</th>\n",
              "      <td>8</td>\n",
              "      <td>Wartortle</td>\n",
              "      <td>Water</td>\n",
              "      <td>NaN</td>\n",
              "      <td>405</td>\n",
              "      <td>59</td>\n",
              "      <td>63</td>\n",
              "      <td>80</td>\n",
              "      <td>65</td>\n",
              "      <td>80</td>\n",
              "      <td>58</td>\n",
              "      <td>1</td>\n",
              "      <td>False</td>\n",
              "    </tr>\n",
              "    <tr>\n",
              "      <th>11</th>\n",
              "      <td>9</td>\n",
              "      <td>Blastoise</td>\n",
              "      <td>Water</td>\n",
              "      <td>NaN</td>\n",
              "      <td>530</td>\n",
              "      <td>79</td>\n",
              "      <td>83</td>\n",
              "      <td>100</td>\n",
              "      <td>85</td>\n",
              "      <td>105</td>\n",
              "      <td>78</td>\n",
              "      <td>1</td>\n",
              "      <td>False</td>\n",
              "    </tr>\n",
              "    <tr>\n",
              "      <th>13</th>\n",
              "      <td>10</td>\n",
              "      <td>Caterpie</td>\n",
              "      <td>Bug</td>\n",
              "      <td>NaN</td>\n",
              "      <td>195</td>\n",
              "      <td>45</td>\n",
              "      <td>30</td>\n",
              "      <td>35</td>\n",
              "      <td>20</td>\n",
              "      <td>20</td>\n",
              "      <td>45</td>\n",
              "      <td>1</td>\n",
              "      <td>False</td>\n",
              "    </tr>\n",
              "  </tbody>\n",
              "</table>\n",
              "</div>\n",
              "      <button class=\"colab-df-convert\" onclick=\"convertToInteractive('df-15228cf1-134c-489d-bb06-01d0ec8cabf1')\"\n",
              "              title=\"Convert this dataframe to an interactive table.\"\n",
              "              style=\"display:none;\">\n",
              "        \n",
              "  <svg xmlns=\"http://www.w3.org/2000/svg\" height=\"24px\"viewBox=\"0 0 24 24\"\n",
              "       width=\"24px\">\n",
              "    <path d=\"M0 0h24v24H0V0z\" fill=\"none\"/>\n",
              "    <path d=\"M18.56 5.44l.94 2.06.94-2.06 2.06-.94-2.06-.94-.94-2.06-.94 2.06-2.06.94zm-11 1L8.5 8.5l.94-2.06 2.06-.94-2.06-.94L8.5 2.5l-.94 2.06-2.06.94zm10 10l.94 2.06.94-2.06 2.06-.94-2.06-.94-.94-2.06-.94 2.06-2.06.94z\"/><path d=\"M17.41 7.96l-1.37-1.37c-.4-.4-.92-.59-1.43-.59-.52 0-1.04.2-1.43.59L10.3 9.45l-7.72 7.72c-.78.78-.78 2.05 0 2.83L4 21.41c.39.39.9.59 1.41.59.51 0 1.02-.2 1.41-.59l7.78-7.78 2.81-2.81c.8-.78.8-2.07 0-2.86zM5.41 20L4 18.59l7.72-7.72 1.47 1.35L5.41 20z\"/>\n",
              "  </svg>\n",
              "      </button>\n",
              "      \n",
              "  <style>\n",
              "    .colab-df-container {\n",
              "      display:flex;\n",
              "      flex-wrap:wrap;\n",
              "      gap: 12px;\n",
              "    }\n",
              "\n",
              "    .colab-df-convert {\n",
              "      background-color: #E8F0FE;\n",
              "      border: none;\n",
              "      border-radius: 50%;\n",
              "      cursor: pointer;\n",
              "      display: none;\n",
              "      fill: #1967D2;\n",
              "      height: 32px;\n",
              "      padding: 0 0 0 0;\n",
              "      width: 32px;\n",
              "    }\n",
              "\n",
              "    .colab-df-convert:hover {\n",
              "      background-color: #E2EBFA;\n",
              "      box-shadow: 0px 1px 2px rgba(60, 64, 67, 0.3), 0px 1px 3px 1px rgba(60, 64, 67, 0.15);\n",
              "      fill: #174EA6;\n",
              "    }\n",
              "\n",
              "    [theme=dark] .colab-df-convert {\n",
              "      background-color: #3B4455;\n",
              "      fill: #D2E3FC;\n",
              "    }\n",
              "\n",
              "    [theme=dark] .colab-df-convert:hover {\n",
              "      background-color: #434B5C;\n",
              "      box-shadow: 0px 1px 3px 1px rgba(0, 0, 0, 0.15);\n",
              "      filter: drop-shadow(0px 1px 2px rgba(0, 0, 0, 0.3));\n",
              "      fill: #FFFFFF;\n",
              "    }\n",
              "  </style>\n",
              "\n",
              "      <script>\n",
              "        const buttonEl =\n",
              "          document.querySelector('#df-15228cf1-134c-489d-bb06-01d0ec8cabf1 button.colab-df-convert');\n",
              "        buttonEl.style.display =\n",
              "          google.colab.kernel.accessAllowed ? 'block' : 'none';\n",
              "\n",
              "        async function convertToInteractive(key) {\n",
              "          const element = document.querySelector('#df-15228cf1-134c-489d-bb06-01d0ec8cabf1');\n",
              "          const dataTable =\n",
              "            await google.colab.kernel.invokeFunction('convertToInteractive',\n",
              "                                                     [key], {});\n",
              "          if (!dataTable) return;\n",
              "\n",
              "          const docLinkHtml = 'Like what you see? Visit the ' +\n",
              "            '<a target=\"_blank\" href=https://colab.research.google.com/notebooks/data_table.ipynb>data table notebook</a>'\n",
              "            + ' to learn more about interactive tables.';\n",
              "          element.innerHTML = '';\n",
              "          dataTable['output_type'] = 'display_data';\n",
              "          await google.colab.output.renderOutput(dataTable, element);\n",
              "          const docLink = document.createElement('div');\n",
              "          docLink.innerHTML = docLinkHtml;\n",
              "          element.appendChild(docLink);\n",
              "        }\n",
              "      </script>\n",
              "    </div>\n",
              "  </div>\n",
              "  "
            ]
          },
          "metadata": {},
          "execution_count": 11
        }
      ]
    },
    {
      "cell_type": "code",
      "source": [
        "sub_df.shape # El número de filas disminuyó"
      ],
      "metadata": {
        "colab": {
          "base_uri": "https://localhost:8080/"
        },
        "id": "2tVcOKY_ncGM",
        "outputId": "8386ac83-a1f8-4c29-b37a-bac46f3ab2cb"
      },
      "execution_count": null,
      "outputs": [
        {
          "output_type": "execute_result",
          "data": {
            "text/plain": [
              "(721, 13)"
            ]
          },
          "metadata": {},
          "execution_count": 12
        }
      ]
    },
    {
      "cell_type": "markdown",
      "metadata": {
        "id": "rt0Jgkp-3ypU"
      },
      "source": [
        "9. Aplica la función .nunique() a la columna '#' de df para ver cuántos valores únicos tenía. Este número deberá coincidir con el número de filas de sub_df"
      ]
    },
    {
      "cell_type": "code",
      "metadata": {
        "id": "VnFH_qVh3ySQ",
        "colab": {
          "base_uri": "https://localhost:8080/"
        },
        "outputId": "2cdb8fae-b097-416d-8cb5-b56f86ee5bce"
      },
      "source": [
        "df['#'].nunique() # si coincide"
      ],
      "execution_count": null,
      "outputs": [
        {
          "output_type": "execute_result",
          "data": {
            "text/plain": [
              "721"
            ]
          },
          "metadata": {},
          "execution_count": 13
        }
      ]
    },
    {
      "cell_type": "markdown",
      "metadata": {
        "id": "TDSTQpR54W3r"
      },
      "source": [
        "10. Haz que la columna # ahora sea el index de sub_df, aplica la función .set_index() con inplace=True"
      ]
    },
    {
      "cell_type": "code",
      "metadata": {
        "id": "970OYYoZ4Wcb"
      },
      "source": [
        "sub_df.set_index('#',inplace=True)"
      ],
      "execution_count": null,
      "outputs": []
    },
    {
      "cell_type": "markdown",
      "metadata": {
        "id": "s6gZfBbq40KM"
      },
      "source": [
        "Aplica la función head a sub_df para ver que has establecido el índice correctamente. A partir de aquí trabajaremos siempre con sub_df a nos ser que se indicara lo contrario."
      ]
    },
    {
      "cell_type": "code",
      "source": [
        "sub_df.head(10)"
      ],
      "metadata": {
        "id": "LD4_YAZvZ-Bm",
        "colab": {
          "base_uri": "https://localhost:8080/",
          "height": 455
        },
        "outputId": "775788d9-f171-475f-9606-7d116db8a2c2"
      },
      "execution_count": null,
      "outputs": [
        {
          "output_type": "execute_result",
          "data": {
            "text/plain": [
              "          Name Type 1  Type 2  Total  HP  Attack  Defense  Sp. Atk  Sp. Def  \\\n",
              "#                                                                             \n",
              "1    Bulbasaur  Grass  Poison    318  45      49       49       65       65   \n",
              "2      Ivysaur  Grass  Poison    405  60      62       63       80       80   \n",
              "3     Venusaur  Grass  Poison    525  80      82       83      100      100   \n",
              "4   Charmander   Fire     NaN    309  39      52       43       60       50   \n",
              "5   Charmeleon   Fire     NaN    405  58      64       58       80       65   \n",
              "6    Charizard   Fire  Flying    534  78      84       78      109       85   \n",
              "7     Squirtle  Water     NaN    314  44      48       65       50       64   \n",
              "8    Wartortle  Water     NaN    405  59      63       80       65       80   \n",
              "9    Blastoise  Water     NaN    530  79      83      100       85      105   \n",
              "10    Caterpie    Bug     NaN    195  45      30       35       20       20   \n",
              "\n",
              "    Speed  Generation  Legendary  \n",
              "#                                 \n",
              "1      45           1      False  \n",
              "2      60           1      False  \n",
              "3      80           1      False  \n",
              "4      65           1      False  \n",
              "5      80           1      False  \n",
              "6     100           1      False  \n",
              "7      43           1      False  \n",
              "8      58           1      False  \n",
              "9      78           1      False  \n",
              "10     45           1      False  "
            ],
            "text/html": [
              "\n",
              "  <div id=\"df-6c3280a1-45f9-403a-a1bf-7385522a826b\">\n",
              "    <div class=\"colab-df-container\">\n",
              "      <div>\n",
              "<style scoped>\n",
              "    .dataframe tbody tr th:only-of-type {\n",
              "        vertical-align: middle;\n",
              "    }\n",
              "\n",
              "    .dataframe tbody tr th {\n",
              "        vertical-align: top;\n",
              "    }\n",
              "\n",
              "    .dataframe thead th {\n",
              "        text-align: right;\n",
              "    }\n",
              "</style>\n",
              "<table border=\"1\" class=\"dataframe\">\n",
              "  <thead>\n",
              "    <tr style=\"text-align: right;\">\n",
              "      <th></th>\n",
              "      <th>Name</th>\n",
              "      <th>Type 1</th>\n",
              "      <th>Type 2</th>\n",
              "      <th>Total</th>\n",
              "      <th>HP</th>\n",
              "      <th>Attack</th>\n",
              "      <th>Defense</th>\n",
              "      <th>Sp. Atk</th>\n",
              "      <th>Sp. Def</th>\n",
              "      <th>Speed</th>\n",
              "      <th>Generation</th>\n",
              "      <th>Legendary</th>\n",
              "    </tr>\n",
              "    <tr>\n",
              "      <th>#</th>\n",
              "      <th></th>\n",
              "      <th></th>\n",
              "      <th></th>\n",
              "      <th></th>\n",
              "      <th></th>\n",
              "      <th></th>\n",
              "      <th></th>\n",
              "      <th></th>\n",
              "      <th></th>\n",
              "      <th></th>\n",
              "      <th></th>\n",
              "      <th></th>\n",
              "    </tr>\n",
              "  </thead>\n",
              "  <tbody>\n",
              "    <tr>\n",
              "      <th>1</th>\n",
              "      <td>Bulbasaur</td>\n",
              "      <td>Grass</td>\n",
              "      <td>Poison</td>\n",
              "      <td>318</td>\n",
              "      <td>45</td>\n",
              "      <td>49</td>\n",
              "      <td>49</td>\n",
              "      <td>65</td>\n",
              "      <td>65</td>\n",
              "      <td>45</td>\n",
              "      <td>1</td>\n",
              "      <td>False</td>\n",
              "    </tr>\n",
              "    <tr>\n",
              "      <th>2</th>\n",
              "      <td>Ivysaur</td>\n",
              "      <td>Grass</td>\n",
              "      <td>Poison</td>\n",
              "      <td>405</td>\n",
              "      <td>60</td>\n",
              "      <td>62</td>\n",
              "      <td>63</td>\n",
              "      <td>80</td>\n",
              "      <td>80</td>\n",
              "      <td>60</td>\n",
              "      <td>1</td>\n",
              "      <td>False</td>\n",
              "    </tr>\n",
              "    <tr>\n",
              "      <th>3</th>\n",
              "      <td>Venusaur</td>\n",
              "      <td>Grass</td>\n",
              "      <td>Poison</td>\n",
              "      <td>525</td>\n",
              "      <td>80</td>\n",
              "      <td>82</td>\n",
              "      <td>83</td>\n",
              "      <td>100</td>\n",
              "      <td>100</td>\n",
              "      <td>80</td>\n",
              "      <td>1</td>\n",
              "      <td>False</td>\n",
              "    </tr>\n",
              "    <tr>\n",
              "      <th>4</th>\n",
              "      <td>Charmander</td>\n",
              "      <td>Fire</td>\n",
              "      <td>NaN</td>\n",
              "      <td>309</td>\n",
              "      <td>39</td>\n",
              "      <td>52</td>\n",
              "      <td>43</td>\n",
              "      <td>60</td>\n",
              "      <td>50</td>\n",
              "      <td>65</td>\n",
              "      <td>1</td>\n",
              "      <td>False</td>\n",
              "    </tr>\n",
              "    <tr>\n",
              "      <th>5</th>\n",
              "      <td>Charmeleon</td>\n",
              "      <td>Fire</td>\n",
              "      <td>NaN</td>\n",
              "      <td>405</td>\n",
              "      <td>58</td>\n",
              "      <td>64</td>\n",
              "      <td>58</td>\n",
              "      <td>80</td>\n",
              "      <td>65</td>\n",
              "      <td>80</td>\n",
              "      <td>1</td>\n",
              "      <td>False</td>\n",
              "    </tr>\n",
              "    <tr>\n",
              "      <th>6</th>\n",
              "      <td>Charizard</td>\n",
              "      <td>Fire</td>\n",
              "      <td>Flying</td>\n",
              "      <td>534</td>\n",
              "      <td>78</td>\n",
              "      <td>84</td>\n",
              "      <td>78</td>\n",
              "      <td>109</td>\n",
              "      <td>85</td>\n",
              "      <td>100</td>\n",
              "      <td>1</td>\n",
              "      <td>False</td>\n",
              "    </tr>\n",
              "    <tr>\n",
              "      <th>7</th>\n",
              "      <td>Squirtle</td>\n",
              "      <td>Water</td>\n",
              "      <td>NaN</td>\n",
              "      <td>314</td>\n",
              "      <td>44</td>\n",
              "      <td>48</td>\n",
              "      <td>65</td>\n",
              "      <td>50</td>\n",
              "      <td>64</td>\n",
              "      <td>43</td>\n",
              "      <td>1</td>\n",
              "      <td>False</td>\n",
              "    </tr>\n",
              "    <tr>\n",
              "      <th>8</th>\n",
              "      <td>Wartortle</td>\n",
              "      <td>Water</td>\n",
              "      <td>NaN</td>\n",
              "      <td>405</td>\n",
              "      <td>59</td>\n",
              "      <td>63</td>\n",
              "      <td>80</td>\n",
              "      <td>65</td>\n",
              "      <td>80</td>\n",
              "      <td>58</td>\n",
              "      <td>1</td>\n",
              "      <td>False</td>\n",
              "    </tr>\n",
              "    <tr>\n",
              "      <th>9</th>\n",
              "      <td>Blastoise</td>\n",
              "      <td>Water</td>\n",
              "      <td>NaN</td>\n",
              "      <td>530</td>\n",
              "      <td>79</td>\n",
              "      <td>83</td>\n",
              "      <td>100</td>\n",
              "      <td>85</td>\n",
              "      <td>105</td>\n",
              "      <td>78</td>\n",
              "      <td>1</td>\n",
              "      <td>False</td>\n",
              "    </tr>\n",
              "    <tr>\n",
              "      <th>10</th>\n",
              "      <td>Caterpie</td>\n",
              "      <td>Bug</td>\n",
              "      <td>NaN</td>\n",
              "      <td>195</td>\n",
              "      <td>45</td>\n",
              "      <td>30</td>\n",
              "      <td>35</td>\n",
              "      <td>20</td>\n",
              "      <td>20</td>\n",
              "      <td>45</td>\n",
              "      <td>1</td>\n",
              "      <td>False</td>\n",
              "    </tr>\n",
              "  </tbody>\n",
              "</table>\n",
              "</div>\n",
              "      <button class=\"colab-df-convert\" onclick=\"convertToInteractive('df-6c3280a1-45f9-403a-a1bf-7385522a826b')\"\n",
              "              title=\"Convert this dataframe to an interactive table.\"\n",
              "              style=\"display:none;\">\n",
              "        \n",
              "  <svg xmlns=\"http://www.w3.org/2000/svg\" height=\"24px\"viewBox=\"0 0 24 24\"\n",
              "       width=\"24px\">\n",
              "    <path d=\"M0 0h24v24H0V0z\" fill=\"none\"/>\n",
              "    <path d=\"M18.56 5.44l.94 2.06.94-2.06 2.06-.94-2.06-.94-.94-2.06-.94 2.06-2.06.94zm-11 1L8.5 8.5l.94-2.06 2.06-.94-2.06-.94L8.5 2.5l-.94 2.06-2.06.94zm10 10l.94 2.06.94-2.06 2.06-.94-2.06-.94-.94-2.06-.94 2.06-2.06.94z\"/><path d=\"M17.41 7.96l-1.37-1.37c-.4-.4-.92-.59-1.43-.59-.52 0-1.04.2-1.43.59L10.3 9.45l-7.72 7.72c-.78.78-.78 2.05 0 2.83L4 21.41c.39.39.9.59 1.41.59.51 0 1.02-.2 1.41-.59l7.78-7.78 2.81-2.81c.8-.78.8-2.07 0-2.86zM5.41 20L4 18.59l7.72-7.72 1.47 1.35L5.41 20z\"/>\n",
              "  </svg>\n",
              "      </button>\n",
              "      \n",
              "  <style>\n",
              "    .colab-df-container {\n",
              "      display:flex;\n",
              "      flex-wrap:wrap;\n",
              "      gap: 12px;\n",
              "    }\n",
              "\n",
              "    .colab-df-convert {\n",
              "      background-color: #E8F0FE;\n",
              "      border: none;\n",
              "      border-radius: 50%;\n",
              "      cursor: pointer;\n",
              "      display: none;\n",
              "      fill: #1967D2;\n",
              "      height: 32px;\n",
              "      padding: 0 0 0 0;\n",
              "      width: 32px;\n",
              "    }\n",
              "\n",
              "    .colab-df-convert:hover {\n",
              "      background-color: #E2EBFA;\n",
              "      box-shadow: 0px 1px 2px rgba(60, 64, 67, 0.3), 0px 1px 3px 1px rgba(60, 64, 67, 0.15);\n",
              "      fill: #174EA6;\n",
              "    }\n",
              "\n",
              "    [theme=dark] .colab-df-convert {\n",
              "      background-color: #3B4455;\n",
              "      fill: #D2E3FC;\n",
              "    }\n",
              "\n",
              "    [theme=dark] .colab-df-convert:hover {\n",
              "      background-color: #434B5C;\n",
              "      box-shadow: 0px 1px 3px 1px rgba(0, 0, 0, 0.15);\n",
              "      filter: drop-shadow(0px 1px 2px rgba(0, 0, 0, 0.3));\n",
              "      fill: #FFFFFF;\n",
              "    }\n",
              "  </style>\n",
              "\n",
              "      <script>\n",
              "        const buttonEl =\n",
              "          document.querySelector('#df-6c3280a1-45f9-403a-a1bf-7385522a826b button.colab-df-convert');\n",
              "        buttonEl.style.display =\n",
              "          google.colab.kernel.accessAllowed ? 'block' : 'none';\n",
              "\n",
              "        async function convertToInteractive(key) {\n",
              "          const element = document.querySelector('#df-6c3280a1-45f9-403a-a1bf-7385522a826b');\n",
              "          const dataTable =\n",
              "            await google.colab.kernel.invokeFunction('convertToInteractive',\n",
              "                                                     [key], {});\n",
              "          if (!dataTable) return;\n",
              "\n",
              "          const docLinkHtml = 'Like what you see? Visit the ' +\n",
              "            '<a target=\"_blank\" href=https://colab.research.google.com/notebooks/data_table.ipynb>data table notebook</a>'\n",
              "            + ' to learn more about interactive tables.';\n",
              "          element.innerHTML = '';\n",
              "          dataTable['output_type'] = 'display_data';\n",
              "          await google.colab.output.renderOutput(dataTable, element);\n",
              "          const docLink = document.createElement('div');\n",
              "          docLink.innerHTML = docLinkHtml;\n",
              "          element.appendChild(docLink);\n",
              "        }\n",
              "      </script>\n",
              "    </div>\n",
              "  </div>\n",
              "  "
            ]
          },
          "metadata": {},
          "execution_count": 15
        }
      ]
    },
    {
      "cell_type": "markdown",
      "metadata": {
        "id": "PqOrUJOz4KGE"
      },
      "source": [
        "11. Mira que columnas de sub_df tienen nulos y cuántos registros nulos tienen mediante la función isnull"
      ]
    },
    {
      "cell_type": "code",
      "metadata": {
        "id": "3yxwVIi54J3M",
        "colab": {
          "base_uri": "https://localhost:8080/"
        },
        "outputId": "c1aca960-eed2-4558-ad0d-20c60c78853d"
      },
      "source": [
        "sub_df.isnull().sum() # Type 2 tiene registros nulos"
      ],
      "execution_count": null,
      "outputs": [
        {
          "output_type": "execute_result",
          "data": {
            "text/plain": [
              "Name            0\n",
              "Type 1          0\n",
              "Type 2        371\n",
              "Total           0\n",
              "HP              0\n",
              "Attack          0\n",
              "Defense         0\n",
              "Sp. Atk         0\n",
              "Sp. Def         0\n",
              "Speed           0\n",
              "Generation      0\n",
              "Legendary       0\n",
              "dtype: int64"
            ]
          },
          "metadata": {},
          "execution_count": 16
        }
      ]
    },
    {
      "cell_type": "markdown",
      "metadata": {
        "id": "D7hs-EkA5FgF"
      },
      "source": [
        "12. Deberías haber obtenido que solamente tenemos nulos en la columna Type 2. Sustituye los nulos de Type 2 con la string 'No type 2', usa la función .fillna() y pásale un diccionario con key el nombre de la columna a la que queremos reemplazar los nulos, en este caso 'Type 2' y con value el valor por el que queremos reemplazar los nulos, en este caso 'No type 2'. Recuerda usar inplace=True para alterar el propio dataframe."
      ]
    },
    {
      "cell_type": "code",
      "source": [
        "sub_df['Type 2'].fillna('No type 2', inplace = True)\n",
        "\n",
        "# sub_df.fillna({'Type 2' : 'No type 2', 'Attack' : 0}, inplace = True) Sustituye los nulos de varias columnas con diccionarios"
      ],
      "metadata": {
        "id": "FRrg55Eay_xp",
        "colab": {
          "base_uri": "https://localhost:8080/"
        },
        "outputId": "6ad574ff-41ba-41d9-d49e-594cd6c194d8"
      },
      "execution_count": null,
      "outputs": [
        {
          "output_type": "stream",
          "name": "stderr",
          "text": [
            "<ipython-input-17-a4fef8d67eeb>:1: SettingWithCopyWarning: \n",
            "A value is trying to be set on a copy of a slice from a DataFrame\n",
            "\n",
            "See the caveats in the documentation: https://pandas.pydata.org/pandas-docs/stable/user_guide/indexing.html#returning-a-view-versus-a-copy\n",
            "  sub_df['Type 2'].fillna('No type 2', inplace = True)\n"
          ]
        }
      ]
    },
    {
      "cell_type": "code",
      "source": [
        "sub_df.isnull().sum()"
      ],
      "metadata": {
        "colab": {
          "base_uri": "https://localhost:8080/"
        },
        "id": "m4PSZ8f0pAyt",
        "outputId": "f7b7b960-504a-4790-bb58-98d49caf7806"
      },
      "execution_count": null,
      "outputs": [
        {
          "output_type": "execute_result",
          "data": {
            "text/plain": [
              "Name          0\n",
              "Type 1        0\n",
              "Type 2        0\n",
              "Total         0\n",
              "HP            0\n",
              "Attack        0\n",
              "Defense       0\n",
              "Sp. Atk       0\n",
              "Sp. Def       0\n",
              "Speed         0\n",
              "Generation    0\n",
              "Legendary     0\n",
              "dtype: int64"
            ]
          },
          "metadata": {},
          "execution_count": 18
        }
      ]
    },
    {
      "cell_type": "markdown",
      "metadata": {
        "id": "RY9R3w_F7B71"
      },
      "source": [
        "13. Imprime los nombres de las columnas. Luego renombra las columnas de manera que no contengan espacios y que todas sus letras sean minúsculas"
      ]
    },
    {
      "cell_type": "code",
      "source": [
        "sub_df.columns"
      ],
      "metadata": {
        "id": "x0ztv6ITzBJo",
        "colab": {
          "base_uri": "https://localhost:8080/"
        },
        "outputId": "f9fafffb-eaf3-4104-86a6-edd96834bc24"
      },
      "execution_count": null,
      "outputs": [
        {
          "output_type": "execute_result",
          "data": {
            "text/plain": [
              "Index(['Name', 'Type 1', 'Type 2', 'Total', 'HP', 'Attack', 'Defense',\n",
              "       'Sp. Atk', 'Sp. Def', 'Speed', 'Generation', 'Legendary'],\n",
              "      dtype='object')"
            ]
          },
          "metadata": {},
          "execution_count": 19
        }
      ]
    },
    {
      "cell_type": "code",
      "source": [
        "sub_df.columns = ['Name', 'Type_1', 'Type_2', 'Total', 'HP', 'Attack', 'Defense',\n",
        "       'Sp.Atk', 'Sp.Def', 'Speed', 'Generation', 'Legendary']"
      ],
      "metadata": {
        "id": "TYC7iATlqd4c"
      },
      "execution_count": null,
      "outputs": []
    },
    {
      "cell_type": "code",
      "source": [
        "sub_df.columns"
      ],
      "metadata": {
        "colab": {
          "base_uri": "https://localhost:8080/"
        },
        "id": "OTPYaeN4q5KM",
        "outputId": "ffdebec3-24e4-4b8e-a02b-1e93647d7dcb"
      },
      "execution_count": null,
      "outputs": [
        {
          "output_type": "execute_result",
          "data": {
            "text/plain": [
              "Index(['Name', 'Type_1', 'Type_2', 'Total', 'HP', 'Attack', 'Defense',\n",
              "       'Sp.Atk', 'Sp.Def', 'Speed', 'Generation', 'Legendary'],\n",
              "      dtype='object')"
            ]
          },
          "metadata": {},
          "execution_count": 21
        }
      ]
    },
    {
      "cell_type": "code",
      "source": [
        "sub_df.columns = [col.lower() for col in sub_df]"
      ],
      "metadata": {
        "id": "axO4kd5Qq8k9"
      },
      "execution_count": null,
      "outputs": []
    },
    {
      "cell_type": "code",
      "source": [
        "sub_df.columns"
      ],
      "metadata": {
        "colab": {
          "base_uri": "https://localhost:8080/"
        },
        "id": "-7Y9R_0Rre71",
        "outputId": "7bc13199-3ffd-41bd-c7e0-8e10f38d29ba"
      },
      "execution_count": null,
      "outputs": [
        {
          "output_type": "execute_result",
          "data": {
            "text/plain": [
              "Index(['name', 'type_1', 'type_2', 'total', 'hp', 'attack', 'defense',\n",
              "       'sp.atk', 'sp.def', 'speed', 'generation', 'legendary'],\n",
              "      dtype='object')"
            ]
          },
          "metadata": {},
          "execution_count": 23
        }
      ]
    },
    {
      "cell_type": "code",
      "source": [
        "#sub_df.columns = sub_df.columns.str.lower"
      ],
      "metadata": {
        "id": "_eVLSwhNx8JN"
      },
      "execution_count": null,
      "outputs": []
    },
    {
      "cell_type": "code",
      "source": [
        "# sub_df.columns = [col.lower().replace(' ', '') for col in sub_df]"
      ],
      "metadata": {
        "id": "SwB7c9n0yn0A"
      },
      "execution_count": null,
      "outputs": []
    },
    {
      "cell_type": "code",
      "source": [
        "# otro método\n",
        "# sub_df.rename(columns = {'sp.atk' :'sp.attack', 'sp.def':'sp.defense'}, inplace = True)"
      ],
      "metadata": {
        "id": "h6Tf03E8y1i1"
      },
      "execution_count": null,
      "outputs": []
    },
    {
      "cell_type": "markdown",
      "metadata": {
        "id": "NB3ctFjU_4kc"
      },
      "source": [
        "14. Cuántos pokemons legendarios hay en sub_df?"
      ]
    },
    {
      "cell_type": "code",
      "source": [
        "sum(sub_df['legendary'] == True)\n",
        "#sub_df['legendary'].value_counts()"
      ],
      "metadata": {
        "id": "RDt1mHnKzEQ6",
        "colab": {
          "base_uri": "https://localhost:8080/"
        },
        "outputId": "1963484b-f8b4-441a-af12-80c2756f002c"
      },
      "execution_count": null,
      "outputs": [
        {
          "output_type": "execute_result",
          "data": {
            "text/plain": [
              "46"
            ]
          },
          "metadata": {},
          "execution_count": 27
        }
      ]
    },
    {
      "cell_type": "markdown",
      "metadata": {
        "id": "feemGthbCfh8"
      },
      "source": [
        "15. Encuentra cuántos pokemons hay de cada type1 y haz que se muestren en pantalla en orden, del tipo del que hay más pokemons al que hay menos"
      ]
    },
    {
      "cell_type": "code",
      "source": [
        "sub_df['type_1'].value_counts()\n",
        "# sub_df[['type_1', 'name']].groupby('type_1').count()  Ordena por el type 1\n",
        "# sub_df[['type_1', 'name']].groupby('type_1').count().sort_values(by='name', ascending=False)\n",
        "# sub_df[['type_1', 'name']].groupby('type_1').agg()"
      ],
      "metadata": {
        "id": "Crcg4qRizFYV",
        "colab": {
          "base_uri": "https://localhost:8080/"
        },
        "outputId": "80278544-a956-4655-e2be-f1d27be7514a"
      },
      "execution_count": null,
      "outputs": [
        {
          "output_type": "execute_result",
          "data": {
            "text/plain": [
              "Water       105\n",
              "Normal       93\n",
              "Grass        66\n",
              "Bug          63\n",
              "Fire         47\n",
              "Psychic      47\n",
              "Rock         41\n",
              "Electric     36\n",
              "Ground       30\n",
              "Poison       28\n",
              "Dark         28\n",
              "Fighting     25\n",
              "Dragon       24\n",
              "Ghost        23\n",
              "Ice          23\n",
              "Steel        22\n",
              "Fairy        17\n",
              "Flying        3\n",
              "Name: type_1, dtype: int64"
            ]
          },
          "metadata": {},
          "execution_count": 28
        }
      ]
    },
    {
      "cell_type": "markdown",
      "metadata": {
        "id": "7Il70j5OEIA8"
      },
      "source": [
        "16. Toma el código del ejercicio anterior, pero ahora guarda el resultado en un dataframe llamado pokemons_type1, que contenga type1 como índice y una columna llamada count donde se almacene la cuenta"
      ]
    },
    {
      "cell_type": "code",
      "source": [
        "pokemons_type1 = pd.DataFrame(sub_df['type_1'].value_counts())"
      ],
      "metadata": {
        "id": "gAVrwWpUzFzG"
      },
      "execution_count": null,
      "outputs": []
    },
    {
      "cell_type": "code",
      "source": [
        "pokemons_type1.columns = ['count']"
      ],
      "metadata": {
        "id": "wfvIcrWWtDC-"
      },
      "execution_count": null,
      "outputs": []
    },
    {
      "cell_type": "code",
      "source": [
        "pokemons_type1"
      ],
      "metadata": {
        "colab": {
          "base_uri": "https://localhost:8080/",
          "height": 613
        },
        "id": "v9-DNfM8uNdY",
        "outputId": "e64cc441-05fe-4cfe-be2f-3958ec155cf6"
      },
      "execution_count": null,
      "outputs": [
        {
          "output_type": "execute_result",
          "data": {
            "text/plain": [
              "          count\n",
              "Water       105\n",
              "Normal       93\n",
              "Grass        66\n",
              "Bug          63\n",
              "Fire         47\n",
              "Psychic      47\n",
              "Rock         41\n",
              "Electric     36\n",
              "Ground       30\n",
              "Poison       28\n",
              "Dark         28\n",
              "Fighting     25\n",
              "Dragon       24\n",
              "Ghost        23\n",
              "Ice          23\n",
              "Steel        22\n",
              "Fairy        17\n",
              "Flying        3"
            ],
            "text/html": [
              "\n",
              "  <div id=\"df-8679378e-1222-42e7-8bb6-94dea58f03d2\">\n",
              "    <div class=\"colab-df-container\">\n",
              "      <div>\n",
              "<style scoped>\n",
              "    .dataframe tbody tr th:only-of-type {\n",
              "        vertical-align: middle;\n",
              "    }\n",
              "\n",
              "    .dataframe tbody tr th {\n",
              "        vertical-align: top;\n",
              "    }\n",
              "\n",
              "    .dataframe thead th {\n",
              "        text-align: right;\n",
              "    }\n",
              "</style>\n",
              "<table border=\"1\" class=\"dataframe\">\n",
              "  <thead>\n",
              "    <tr style=\"text-align: right;\">\n",
              "      <th></th>\n",
              "      <th>count</th>\n",
              "    </tr>\n",
              "  </thead>\n",
              "  <tbody>\n",
              "    <tr>\n",
              "      <th>Water</th>\n",
              "      <td>105</td>\n",
              "    </tr>\n",
              "    <tr>\n",
              "      <th>Normal</th>\n",
              "      <td>93</td>\n",
              "    </tr>\n",
              "    <tr>\n",
              "      <th>Grass</th>\n",
              "      <td>66</td>\n",
              "    </tr>\n",
              "    <tr>\n",
              "      <th>Bug</th>\n",
              "      <td>63</td>\n",
              "    </tr>\n",
              "    <tr>\n",
              "      <th>Fire</th>\n",
              "      <td>47</td>\n",
              "    </tr>\n",
              "    <tr>\n",
              "      <th>Psychic</th>\n",
              "      <td>47</td>\n",
              "    </tr>\n",
              "    <tr>\n",
              "      <th>Rock</th>\n",
              "      <td>41</td>\n",
              "    </tr>\n",
              "    <tr>\n",
              "      <th>Electric</th>\n",
              "      <td>36</td>\n",
              "    </tr>\n",
              "    <tr>\n",
              "      <th>Ground</th>\n",
              "      <td>30</td>\n",
              "    </tr>\n",
              "    <tr>\n",
              "      <th>Poison</th>\n",
              "      <td>28</td>\n",
              "    </tr>\n",
              "    <tr>\n",
              "      <th>Dark</th>\n",
              "      <td>28</td>\n",
              "    </tr>\n",
              "    <tr>\n",
              "      <th>Fighting</th>\n",
              "      <td>25</td>\n",
              "    </tr>\n",
              "    <tr>\n",
              "      <th>Dragon</th>\n",
              "      <td>24</td>\n",
              "    </tr>\n",
              "    <tr>\n",
              "      <th>Ghost</th>\n",
              "      <td>23</td>\n",
              "    </tr>\n",
              "    <tr>\n",
              "      <th>Ice</th>\n",
              "      <td>23</td>\n",
              "    </tr>\n",
              "    <tr>\n",
              "      <th>Steel</th>\n",
              "      <td>22</td>\n",
              "    </tr>\n",
              "    <tr>\n",
              "      <th>Fairy</th>\n",
              "      <td>17</td>\n",
              "    </tr>\n",
              "    <tr>\n",
              "      <th>Flying</th>\n",
              "      <td>3</td>\n",
              "    </tr>\n",
              "  </tbody>\n",
              "</table>\n",
              "</div>\n",
              "      <button class=\"colab-df-convert\" onclick=\"convertToInteractive('df-8679378e-1222-42e7-8bb6-94dea58f03d2')\"\n",
              "              title=\"Convert this dataframe to an interactive table.\"\n",
              "              style=\"display:none;\">\n",
              "        \n",
              "  <svg xmlns=\"http://www.w3.org/2000/svg\" height=\"24px\"viewBox=\"0 0 24 24\"\n",
              "       width=\"24px\">\n",
              "    <path d=\"M0 0h24v24H0V0z\" fill=\"none\"/>\n",
              "    <path d=\"M18.56 5.44l.94 2.06.94-2.06 2.06-.94-2.06-.94-.94-2.06-.94 2.06-2.06.94zm-11 1L8.5 8.5l.94-2.06 2.06-.94-2.06-.94L8.5 2.5l-.94 2.06-2.06.94zm10 10l.94 2.06.94-2.06 2.06-.94-2.06-.94-.94-2.06-.94 2.06-2.06.94z\"/><path d=\"M17.41 7.96l-1.37-1.37c-.4-.4-.92-.59-1.43-.59-.52 0-1.04.2-1.43.59L10.3 9.45l-7.72 7.72c-.78.78-.78 2.05 0 2.83L4 21.41c.39.39.9.59 1.41.59.51 0 1.02-.2 1.41-.59l7.78-7.78 2.81-2.81c.8-.78.8-2.07 0-2.86zM5.41 20L4 18.59l7.72-7.72 1.47 1.35L5.41 20z\"/>\n",
              "  </svg>\n",
              "      </button>\n",
              "      \n",
              "  <style>\n",
              "    .colab-df-container {\n",
              "      display:flex;\n",
              "      flex-wrap:wrap;\n",
              "      gap: 12px;\n",
              "    }\n",
              "\n",
              "    .colab-df-convert {\n",
              "      background-color: #E8F0FE;\n",
              "      border: none;\n",
              "      border-radius: 50%;\n",
              "      cursor: pointer;\n",
              "      display: none;\n",
              "      fill: #1967D2;\n",
              "      height: 32px;\n",
              "      padding: 0 0 0 0;\n",
              "      width: 32px;\n",
              "    }\n",
              "\n",
              "    .colab-df-convert:hover {\n",
              "      background-color: #E2EBFA;\n",
              "      box-shadow: 0px 1px 2px rgba(60, 64, 67, 0.3), 0px 1px 3px 1px rgba(60, 64, 67, 0.15);\n",
              "      fill: #174EA6;\n",
              "    }\n",
              "\n",
              "    [theme=dark] .colab-df-convert {\n",
              "      background-color: #3B4455;\n",
              "      fill: #D2E3FC;\n",
              "    }\n",
              "\n",
              "    [theme=dark] .colab-df-convert:hover {\n",
              "      background-color: #434B5C;\n",
              "      box-shadow: 0px 1px 3px 1px rgba(0, 0, 0, 0.15);\n",
              "      filter: drop-shadow(0px 1px 2px rgba(0, 0, 0, 0.3));\n",
              "      fill: #FFFFFF;\n",
              "    }\n",
              "  </style>\n",
              "\n",
              "      <script>\n",
              "        const buttonEl =\n",
              "          document.querySelector('#df-8679378e-1222-42e7-8bb6-94dea58f03d2 button.colab-df-convert');\n",
              "        buttonEl.style.display =\n",
              "          google.colab.kernel.accessAllowed ? 'block' : 'none';\n",
              "\n",
              "        async function convertToInteractive(key) {\n",
              "          const element = document.querySelector('#df-8679378e-1222-42e7-8bb6-94dea58f03d2');\n",
              "          const dataTable =\n",
              "            await google.colab.kernel.invokeFunction('convertToInteractive',\n",
              "                                                     [key], {});\n",
              "          if (!dataTable) return;\n",
              "\n",
              "          const docLinkHtml = 'Like what you see? Visit the ' +\n",
              "            '<a target=\"_blank\" href=https://colab.research.google.com/notebooks/data_table.ipynb>data table notebook</a>'\n",
              "            + ' to learn more about interactive tables.';\n",
              "          element.innerHTML = '';\n",
              "          dataTable['output_type'] = 'display_data';\n",
              "          await google.colab.output.renderOutput(dataTable, element);\n",
              "          const docLink = document.createElement('div');\n",
              "          docLink.innerHTML = docLinkHtml;\n",
              "          element.appendChild(docLink);\n",
              "        }\n",
              "      </script>\n",
              "    </div>\n",
              "  </div>\n",
              "  "
            ]
          },
          "metadata": {},
          "execution_count": 31
        }
      ]
    },
    {
      "cell_type": "code",
      "source": [
        "pokemons_type1.shape"
      ],
      "metadata": {
        "colab": {
          "base_uri": "https://localhost:8080/"
        },
        "id": "MGPfjlVWuHG-",
        "outputId": "85f79c1b-60c5-4534-9176-409cb3a64646"
      },
      "execution_count": null,
      "outputs": [
        {
          "output_type": "execute_result",
          "data": {
            "text/plain": [
              "(18, 1)"
            ]
          },
          "metadata": {},
          "execution_count": 32
        }
      ]
    },
    {
      "cell_type": "markdown",
      "metadata": {
        "id": "bxRNbSM7EjBf"
      },
      "source": [
        "17. En base a los ejercicios anteriores, cuál es el tipo de pokemon del que hay más de ellos? Cuál es el que hay menos?"
      ]
    },
    {
      "cell_type": "markdown",
      "metadata": {
        "id": "tupEGgFeEqE7"
      },
      "source": [
        "Hay mas pokemones Agua (105), Hay solo 3 de tipo Volador"
      ]
    },
    {
      "cell_type": "markdown",
      "metadata": {
        "id": "ExrltbSfEqzD"
      },
      "source": [
        "18. Cuál es la media de ataque y la media de defensa de los pokemons con type1 igual a Fire? Y de los pokemons con type1 igual a Water?"
      ]
    },
    {
      "cell_type": "code",
      "source": [
        "pokemon_fire = sub_df[sub_df['type_1'] == 'Fire']\n",
        "print(pokemon_fire)"
      ],
      "metadata": {
        "id": "LCdpKPHkzLBE",
        "colab": {
          "base_uri": "https://localhost:8080/"
        },
        "outputId": "240f20dd-646d-4a4e-c4b3-8a8bd0c7d3d0"
      },
      "execution_count": null,
      "outputs": [
        {
          "output_type": "stream",
          "name": "stdout",
          "text": [
            "                        name type_1     type_2  total   hp  attack  defense  \\\n",
            "#                                                                             \n",
            "4                 Charmander   Fire  No type 2    309   39      52       43   \n",
            "5                 Charmeleon   Fire  No type 2    405   58      64       58   \n",
            "6                  Charizard   Fire     Flying    534   78      84       78   \n",
            "37                    Vulpix   Fire  No type 2    299   38      41       40   \n",
            "38                 Ninetales   Fire  No type 2    505   73      76       75   \n",
            "58                 Growlithe   Fire  No type 2    350   55      70       45   \n",
            "59                  Arcanine   Fire  No type 2    555   90     110       80   \n",
            "77                    Ponyta   Fire  No type 2    410   50      85       55   \n",
            "78                  Rapidash   Fire  No type 2    500   65     100       70   \n",
            "126                   Magmar   Fire  No type 2    495   65      95       57   \n",
            "136                  Flareon   Fire  No type 2    525   65     130       60   \n",
            "146                  Moltres   Fire     Flying    580   90     100       90   \n",
            "155                Cyndaquil   Fire  No type 2    309   39      52       43   \n",
            "156                  Quilava   Fire  No type 2    405   58      64       58   \n",
            "157               Typhlosion   Fire  No type 2    534   78      84       78   \n",
            "218                   Slugma   Fire  No type 2    250   40      40       40   \n",
            "219                 Magcargo   Fire       Rock    410   50      50      120   \n",
            "240                    Magby   Fire  No type 2    365   45      75       37   \n",
            "244                    Entei   Fire  No type 2    580  115     115       85   \n",
            "250                    Ho-oh   Fire     Flying    680  106     130       90   \n",
            "255                  Torchic   Fire  No type 2    310   45      60       40   \n",
            "256                Combusken   Fire   Fighting    405   60      85       60   \n",
            "257                 Blaziken   Fire   Fighting    530   80     120       70   \n",
            "322                    Numel   Fire     Ground    305   60      60       40   \n",
            "323                 Camerupt   Fire     Ground    460   70     100       70   \n",
            "324                  Torkoal   Fire  No type 2    470   70      85      140   \n",
            "390                 Chimchar   Fire  No type 2    309   44      58       44   \n",
            "391                 Monferno   Fire   Fighting    405   64      78       52   \n",
            "392                Infernape   Fire   Fighting    534   76     104       71   \n",
            "467                Magmortar   Fire  No type 2    540   75      95       67   \n",
            "485                  Heatran   Fire      Steel    600   91      90      106   \n",
            "498                    Tepig   Fire  No type 2    308   65      63       45   \n",
            "499                  Pignite   Fire   Fighting    418   90      93       55   \n",
            "500                   Emboar   Fire   Fighting    528  110     123       65   \n",
            "513                  Pansear   Fire  No type 2    316   50      53       48   \n",
            "514                 Simisear   Fire  No type 2    498   75      98       63   \n",
            "554                 Darumaka   Fire  No type 2    315   70      90       45   \n",
            "555  DarmanitanStandard Mode   Fire  No type 2    480  105     140       55   \n",
            "631                  Heatmor   Fire  No type 2    484   85      97       66   \n",
            "653                 Fennekin   Fire  No type 2    307   40      45       40   \n",
            "654                  Braixen   Fire  No type 2    409   59      59       58   \n",
            "655                  Delphox   Fire    Psychic    534   75      69       72   \n",
            "662              Fletchinder   Fire     Flying    382   62      73       55   \n",
            "663               Talonflame   Fire     Flying    499   78      81       71   \n",
            "667                   Litleo   Fire     Normal    369   62      50       58   \n",
            "668                   Pyroar   Fire     Normal    507   86      68       72   \n",
            "721                Volcanion   Fire      Water    600   80     110      120   \n",
            "\n",
            "     sp.atk  sp.def  speed  generation  legendary  \n",
            "#                                                  \n",
            "4        60      50     65           1      False  \n",
            "5        80      65     80           1      False  \n",
            "6       109      85    100           1      False  \n",
            "37       50      65     65           1      False  \n",
            "38       81     100    100           1      False  \n",
            "58       70      50     60           1      False  \n",
            "59      100      80     95           1      False  \n",
            "77       65      65     90           1      False  \n",
            "78       80      80    105           1      False  \n",
            "126     100      85     93           1      False  \n",
            "136      95     110     65           1      False  \n",
            "146     125      85     90           1       True  \n",
            "155      60      50     65           2      False  \n",
            "156      80      65     80           2      False  \n",
            "157     109      85    100           2      False  \n",
            "218      70      40     20           2      False  \n",
            "219      80      80     30           2      False  \n",
            "240      70      55     83           2      False  \n",
            "244      90      75    100           2       True  \n",
            "250     110     154     90           2       True  \n",
            "255      70      50     45           3      False  \n",
            "256      85      60     55           3      False  \n",
            "257     110      70     80           3      False  \n",
            "322      65      45     35           3      False  \n",
            "323     105      75     40           3      False  \n",
            "324      85      70     20           3      False  \n",
            "390      58      44     61           4      False  \n",
            "391      78      52     81           4      False  \n",
            "392     104      71    108           4      False  \n",
            "467     125      95     83           4      False  \n",
            "485     130     106     77           4       True  \n",
            "498      45      45     45           5      False  \n",
            "499      70      55     55           5      False  \n",
            "500     100      65     65           5      False  \n",
            "513      53      48     64           5      False  \n",
            "514      98      63    101           5      False  \n",
            "554      15      45     50           5      False  \n",
            "555      30      55     95           5      False  \n",
            "631     105      66     65           5      False  \n",
            "653      62      60     60           6      False  \n",
            "654      90      70     73           6      False  \n",
            "655     114     100    104           6      False  \n",
            "662      56      52     84           6      False  \n",
            "663      74      69    126           6      False  \n",
            "667      73      54     72           6      False  \n",
            "668     109      66    106           6      False  \n",
            "721     130      90     70           6       True  \n"
          ]
        }
      ]
    },
    {
      "cell_type": "code",
      "source": [
        "print('El ataque promedio de los pokemones fuego es: ',np.mean(pokemon_fire['attack']))\n",
        "print('La defensa promedio de los pokemones fuego es: ',np.mean(pokemon_fire['defense']))"
      ],
      "metadata": {
        "colab": {
          "base_uri": "https://localhost:8080/"
        },
        "id": "8oUp_U5jw2QX",
        "outputId": "c94728bc-259a-4abb-ebb8-3e4e695b9357"
      },
      "execution_count": null,
      "outputs": [
        {
          "output_type": "stream",
          "name": "stdout",
          "text": [
            "El ataque promedio de los pokemones fuego es:  82.2127659574468\n",
            "La defensa promedio de los pokemones fuego es:  64.8936170212766\n"
          ]
        }
      ]
    },
    {
      "cell_type": "code",
      "source": [
        "pokemon_water = sub_df[sub_df['type_1'] == 'Water']\n",
        "print(pokemon_water)"
      ],
      "metadata": {
        "colab": {
          "base_uri": "https://localhost:8080/"
        },
        "id": "HD0SUY0MxNTu",
        "outputId": "52a5c0dd-cd98-4e5a-f7fb-a2cb9aca40db"
      },
      "execution_count": null,
      "outputs": [
        {
          "output_type": "stream",
          "name": "stdout",
          "text": [
            "          name type_1     type_2  total  hp  attack  defense  sp.atk  sp.def  \\\n",
            "#                                                                              \n",
            "7     Squirtle  Water  No type 2    314  44      48       65      50      64   \n",
            "8    Wartortle  Water  No type 2    405  59      63       80      65      80   \n",
            "9    Blastoise  Water  No type 2    530  79      83      100      85     105   \n",
            "54     Psyduck  Water  No type 2    320  50      52       48      65      50   \n",
            "55     Golduck  Water  No type 2    500  80      82       78      95      80   \n",
            "..         ...    ...        ...    ...  ..     ...      ...     ...     ...   \n",
            "656    Froakie  Water  No type 2    314  41      56       40      62      44   \n",
            "657  Frogadier  Water  No type 2    405  54      63       52      83      56   \n",
            "658   Greninja  Water       Dark    530  72      95       67     103      71   \n",
            "692  Clauncher  Water  No type 2    330  50      53       62      58      63   \n",
            "693  Clawitzer  Water  No type 2    500  71      73       88     120      89   \n",
            "\n",
            "     speed  generation  legendary  \n",
            "#                                  \n",
            "7       43           1      False  \n",
            "8       58           1      False  \n",
            "9       78           1      False  \n",
            "54      55           1      False  \n",
            "55      85           1      False  \n",
            "..     ...         ...        ...  \n",
            "656     71           6      False  \n",
            "657     97           6      False  \n",
            "658    122           6      False  \n",
            "692     44           6      False  \n",
            "693     59           6      False  \n",
            "\n",
            "[105 rows x 12 columns]\n"
          ]
        }
      ]
    },
    {
      "cell_type": "code",
      "source": [
        "#df_fire[['attack', 'defense]].mean()\n",
        "print('El ataque promedio de los pokemones de agua es: ', np.mean(pokemon_water['attack']))\n",
        "print('La defensa promedio de los pokemones de agua es: ', np.mean(pokemon_water['defense']))"
      ],
      "metadata": {
        "colab": {
          "base_uri": "https://localhost:8080/"
        },
        "id": "iy0g_jyJxTam",
        "outputId": "ad1817b1-dc4d-41f3-8e59-667d76f3f271"
      },
      "execution_count": null,
      "outputs": [
        {
          "output_type": "stream",
          "name": "stdout",
          "text": [
            "El ataque promedio de los pokemones de agua es:  71.04761904761905\n",
            "La defensa promedio de los pokemones de agua es:  70.48571428571428\n"
          ]
        }
      ]
    },
    {
      "cell_type": "code",
      "source": [
        "#sub_df[sub_df['type_1']=='Fire'][['attack','defense']].mean()"
      ],
      "metadata": {
        "id": "-sIbPkuu41LC"
      },
      "execution_count": null,
      "outputs": []
    },
    {
      "cell_type": "markdown",
      "metadata": {
        "id": "upq9kG6jBv5x"
      },
      "source": [
        "Quién tiene una media de ataque mayor, los pokemons de fuego o los de agua? Y una media de defensa mayor?"
      ]
    },
    {
      "cell_type": "markdown",
      "metadata": {
        "id": "47i6uNGNBv1k"
      },
      "source": [
        "\n",
        "*   Los pokemones de fuego tienen mayor ataque que los de agua\n",
        "*   Los pokemones de agua tienen mayor defensa que los de fuego\n",
        "\n"
      ]
    },
    {
      "cell_type": "markdown",
      "metadata": {
        "id": "WQhCLdYTFhBL"
      },
      "source": [
        "19. Calcula la media de ataque (attack) de los pokemons por tipo (type1). Es decir, queremos obtener un dataframe con índice type1 y una columna que contenga la media de attack para cada uno de estos type1"
      ]
    },
    {
      "cell_type": "code",
      "source": [
        "sub_df[['type_1','attack']].groupby('type_1').agg(np.mean).sort_values('attack', ascending = False)\n"
      ],
      "metadata": {
        "id": "eqQlUBEvzNNb",
        "colab": {
          "base_uri": "https://localhost:8080/",
          "height": 644
        },
        "outputId": "a4c0dcf2-f517-4aa6-e5f6-9b19c94a0afd"
      },
      "execution_count": null,
      "outputs": [
        {
          "output_type": "execute_result",
          "data": {
            "text/plain": [
              "              attack\n",
              "type_1              \n",
              "Dragon    102.625000\n",
              "Fighting   94.720000\n",
              "Ground     91.300000\n",
              "Rock       88.463415\n",
              "Steel      88.090909\n",
              "Dark       86.250000\n",
              "Fire       82.212766\n",
              "Poison     74.678571\n",
              "Normal     71.731183\n",
              "Flying     71.666667\n",
              "Water      71.047619\n",
              "Grass      70.909091\n",
              "Ice        70.695652\n",
              "Electric   67.777778\n",
              "Ghost      66.652174\n",
              "Bug        65.222222\n",
              "Fairy      61.529412\n",
              "Psychic    61.276596"
            ],
            "text/html": [
              "\n",
              "  <div id=\"df-c5372be5-1cf0-4696-8d8a-6e6fb61e685c\">\n",
              "    <div class=\"colab-df-container\">\n",
              "      <div>\n",
              "<style scoped>\n",
              "    .dataframe tbody tr th:only-of-type {\n",
              "        vertical-align: middle;\n",
              "    }\n",
              "\n",
              "    .dataframe tbody tr th {\n",
              "        vertical-align: top;\n",
              "    }\n",
              "\n",
              "    .dataframe thead th {\n",
              "        text-align: right;\n",
              "    }\n",
              "</style>\n",
              "<table border=\"1\" class=\"dataframe\">\n",
              "  <thead>\n",
              "    <tr style=\"text-align: right;\">\n",
              "      <th></th>\n",
              "      <th>attack</th>\n",
              "    </tr>\n",
              "    <tr>\n",
              "      <th>type_1</th>\n",
              "      <th></th>\n",
              "    </tr>\n",
              "  </thead>\n",
              "  <tbody>\n",
              "    <tr>\n",
              "      <th>Dragon</th>\n",
              "      <td>102.625000</td>\n",
              "    </tr>\n",
              "    <tr>\n",
              "      <th>Fighting</th>\n",
              "      <td>94.720000</td>\n",
              "    </tr>\n",
              "    <tr>\n",
              "      <th>Ground</th>\n",
              "      <td>91.300000</td>\n",
              "    </tr>\n",
              "    <tr>\n",
              "      <th>Rock</th>\n",
              "      <td>88.463415</td>\n",
              "    </tr>\n",
              "    <tr>\n",
              "      <th>Steel</th>\n",
              "      <td>88.090909</td>\n",
              "    </tr>\n",
              "    <tr>\n",
              "      <th>Dark</th>\n",
              "      <td>86.250000</td>\n",
              "    </tr>\n",
              "    <tr>\n",
              "      <th>Fire</th>\n",
              "      <td>82.212766</td>\n",
              "    </tr>\n",
              "    <tr>\n",
              "      <th>Poison</th>\n",
              "      <td>74.678571</td>\n",
              "    </tr>\n",
              "    <tr>\n",
              "      <th>Normal</th>\n",
              "      <td>71.731183</td>\n",
              "    </tr>\n",
              "    <tr>\n",
              "      <th>Flying</th>\n",
              "      <td>71.666667</td>\n",
              "    </tr>\n",
              "    <tr>\n",
              "      <th>Water</th>\n",
              "      <td>71.047619</td>\n",
              "    </tr>\n",
              "    <tr>\n",
              "      <th>Grass</th>\n",
              "      <td>70.909091</td>\n",
              "    </tr>\n",
              "    <tr>\n",
              "      <th>Ice</th>\n",
              "      <td>70.695652</td>\n",
              "    </tr>\n",
              "    <tr>\n",
              "      <th>Electric</th>\n",
              "      <td>67.777778</td>\n",
              "    </tr>\n",
              "    <tr>\n",
              "      <th>Ghost</th>\n",
              "      <td>66.652174</td>\n",
              "    </tr>\n",
              "    <tr>\n",
              "      <th>Bug</th>\n",
              "      <td>65.222222</td>\n",
              "    </tr>\n",
              "    <tr>\n",
              "      <th>Fairy</th>\n",
              "      <td>61.529412</td>\n",
              "    </tr>\n",
              "    <tr>\n",
              "      <th>Psychic</th>\n",
              "      <td>61.276596</td>\n",
              "    </tr>\n",
              "  </tbody>\n",
              "</table>\n",
              "</div>\n",
              "      <button class=\"colab-df-convert\" onclick=\"convertToInteractive('df-c5372be5-1cf0-4696-8d8a-6e6fb61e685c')\"\n",
              "              title=\"Convert this dataframe to an interactive table.\"\n",
              "              style=\"display:none;\">\n",
              "        \n",
              "  <svg xmlns=\"http://www.w3.org/2000/svg\" height=\"24px\"viewBox=\"0 0 24 24\"\n",
              "       width=\"24px\">\n",
              "    <path d=\"M0 0h24v24H0V0z\" fill=\"none\"/>\n",
              "    <path d=\"M18.56 5.44l.94 2.06.94-2.06 2.06-.94-2.06-.94-.94-2.06-.94 2.06-2.06.94zm-11 1L8.5 8.5l.94-2.06 2.06-.94-2.06-.94L8.5 2.5l-.94 2.06-2.06.94zm10 10l.94 2.06.94-2.06 2.06-.94-2.06-.94-.94-2.06-.94 2.06-2.06.94z\"/><path d=\"M17.41 7.96l-1.37-1.37c-.4-.4-.92-.59-1.43-.59-.52 0-1.04.2-1.43.59L10.3 9.45l-7.72 7.72c-.78.78-.78 2.05 0 2.83L4 21.41c.39.39.9.59 1.41.59.51 0 1.02-.2 1.41-.59l7.78-7.78 2.81-2.81c.8-.78.8-2.07 0-2.86zM5.41 20L4 18.59l7.72-7.72 1.47 1.35L5.41 20z\"/>\n",
              "  </svg>\n",
              "      </button>\n",
              "      \n",
              "  <style>\n",
              "    .colab-df-container {\n",
              "      display:flex;\n",
              "      flex-wrap:wrap;\n",
              "      gap: 12px;\n",
              "    }\n",
              "\n",
              "    .colab-df-convert {\n",
              "      background-color: #E8F0FE;\n",
              "      border: none;\n",
              "      border-radius: 50%;\n",
              "      cursor: pointer;\n",
              "      display: none;\n",
              "      fill: #1967D2;\n",
              "      height: 32px;\n",
              "      padding: 0 0 0 0;\n",
              "      width: 32px;\n",
              "    }\n",
              "\n",
              "    .colab-df-convert:hover {\n",
              "      background-color: #E2EBFA;\n",
              "      box-shadow: 0px 1px 2px rgba(60, 64, 67, 0.3), 0px 1px 3px 1px rgba(60, 64, 67, 0.15);\n",
              "      fill: #174EA6;\n",
              "    }\n",
              "\n",
              "    [theme=dark] .colab-df-convert {\n",
              "      background-color: #3B4455;\n",
              "      fill: #D2E3FC;\n",
              "    }\n",
              "\n",
              "    [theme=dark] .colab-df-convert:hover {\n",
              "      background-color: #434B5C;\n",
              "      box-shadow: 0px 1px 3px 1px rgba(0, 0, 0, 0.15);\n",
              "      filter: drop-shadow(0px 1px 2px rgba(0, 0, 0, 0.3));\n",
              "      fill: #FFFFFF;\n",
              "    }\n",
              "  </style>\n",
              "\n",
              "      <script>\n",
              "        const buttonEl =\n",
              "          document.querySelector('#df-c5372be5-1cf0-4696-8d8a-6e6fb61e685c button.colab-df-convert');\n",
              "        buttonEl.style.display =\n",
              "          google.colab.kernel.accessAllowed ? 'block' : 'none';\n",
              "\n",
              "        async function convertToInteractive(key) {\n",
              "          const element = document.querySelector('#df-c5372be5-1cf0-4696-8d8a-6e6fb61e685c');\n",
              "          const dataTable =\n",
              "            await google.colab.kernel.invokeFunction('convertToInteractive',\n",
              "                                                     [key], {});\n",
              "          if (!dataTable) return;\n",
              "\n",
              "          const docLinkHtml = 'Like what you see? Visit the ' +\n",
              "            '<a target=\"_blank\" href=https://colab.research.google.com/notebooks/data_table.ipynb>data table notebook</a>'\n",
              "            + ' to learn more about interactive tables.';\n",
              "          element.innerHTML = '';\n",
              "          dataTable['output_type'] = 'display_data';\n",
              "          await google.colab.output.renderOutput(dataTable, element);\n",
              "          const docLink = document.createElement('div');\n",
              "          docLink.innerHTML = docLinkHtml;\n",
              "          element.appendChild(docLink);\n",
              "        }\n",
              "      </script>\n",
              "    </div>\n",
              "  </div>\n",
              "  "
            ]
          },
          "metadata": {},
          "execution_count": 38
        }
      ]
    },
    {
      "cell_type": "markdown",
      "metadata": {
        "id": "-25xbq5oC6pw"
      },
      "source": [
        "Cuál es el tipo de pokemon con mayor ataque medio? Y el de menor ataque medio?"
      ]
    },
    {
      "cell_type": "markdown",
      "metadata": {
        "id": "AxNh2HG6DCfs"
      },
      "source": [
        "El tipo dragón es el que tiene mayor promedio de ataque, El Psíquico es el que tiene menor promedio de ataque\n"
      ]
    },
    {
      "cell_type": "markdown",
      "metadata": {
        "id": "8UcetPMYGAF8"
      },
      "source": [
        "20. Cuál es el pokemon con mayor hp?"
      ]
    },
    {
      "cell_type": "code",
      "source": [
        "sub_df[['name','hp']].max()\n"
      ],
      "metadata": {
        "colab": {
          "base_uri": "https://localhost:8080/"
        },
        "id": "dwbIQEVX2vDJ",
        "outputId": "f04ecfc0-9f87-4da4-e0f5-ae9c51fbd24f"
      },
      "execution_count": null,
      "outputs": [
        {
          "output_type": "execute_result",
          "data": {
            "text/plain": [
              "name    Zygarde50% Forme\n",
              "hp                   255\n",
              "dtype: object"
            ]
          },
          "metadata": {},
          "execution_count": 39
        }
      ]
    },
    {
      "cell_type": "markdown",
      "metadata": {
        "id": "PvZgD5LwGEYi"
      },
      "source": [
        "21. Crea un dataframe con todos los pokemons con defensa (defense) superior a la media"
      ]
    },
    {
      "cell_type": "code",
      "source": [
        "print(np.mean(sub_df['defense']))\n",
        "sub_df[sub_df['defense'] > np.mean(sub_df['defense'])]"
      ],
      "metadata": {
        "id": "r_5TPGy0zRBk",
        "colab": {
          "base_uri": "https://localhost:8080/",
          "height": 606
        },
        "outputId": "f6a9fab0-a737-4885-b94d-a0a96b56033a"
      },
      "execution_count": null,
      "outputs": [
        {
          "output_type": "stream",
          "name": "stdout",
          "text": [
            "70.69764216366158\n"
          ]
        },
        {
          "output_type": "execute_result",
          "data": {
            "text/plain": [
              "                 name  type_1     type_2  total   hp  attack  defense  sp.atk  \\\n",
              "#                                                                               \n",
              "3            Venusaur   Grass     Poison    525   80      82       83     100   \n",
              "6           Charizard    Fire     Flying    534   78      84       78     109   \n",
              "8           Wartortle   Water  No type 2    405   59      63       80      65   \n",
              "9           Blastoise   Water  No type 2    530   79      83      100      85   \n",
              "18            Pidgeot  Normal     Flying    479   83      80       75      70   \n",
              "..                ...     ...        ...    ...  ...     ...      ...     ...   \n",
              "716           Xerneas   Fairy  No type 2    680  126     131       95     131   \n",
              "717           Yveltal    Dark     Flying    680  126     131       95     131   \n",
              "718  Zygarde50% Forme  Dragon     Ground    600  108     100      121      81   \n",
              "719           Diancie    Rock      Fairy    600   50     100      150     100   \n",
              "721         Volcanion    Fire      Water    600   80     110      120     130   \n",
              "\n",
              "     sp.def  speed  generation  legendary  \n",
              "#                                          \n",
              "3       100     80           1      False  \n",
              "6        85    100           1      False  \n",
              "8        80     58           1      False  \n",
              "9       105     78           1      False  \n",
              "18       70    101           1      False  \n",
              "..      ...    ...         ...        ...  \n",
              "716      98     99           6       True  \n",
              "717      98     99           6       True  \n",
              "718      95     95           6       True  \n",
              "719     150     50           6       True  \n",
              "721      90     70           6       True  \n",
              "\n",
              "[295 rows x 12 columns]"
            ],
            "text/html": [
              "\n",
              "  <div id=\"df-c0e2c397-97cb-475f-9837-7807d27a572b\">\n",
              "    <div class=\"colab-df-container\">\n",
              "      <div>\n",
              "<style scoped>\n",
              "    .dataframe tbody tr th:only-of-type {\n",
              "        vertical-align: middle;\n",
              "    }\n",
              "\n",
              "    .dataframe tbody tr th {\n",
              "        vertical-align: top;\n",
              "    }\n",
              "\n",
              "    .dataframe thead th {\n",
              "        text-align: right;\n",
              "    }\n",
              "</style>\n",
              "<table border=\"1\" class=\"dataframe\">\n",
              "  <thead>\n",
              "    <tr style=\"text-align: right;\">\n",
              "      <th></th>\n",
              "      <th>name</th>\n",
              "      <th>type_1</th>\n",
              "      <th>type_2</th>\n",
              "      <th>total</th>\n",
              "      <th>hp</th>\n",
              "      <th>attack</th>\n",
              "      <th>defense</th>\n",
              "      <th>sp.atk</th>\n",
              "      <th>sp.def</th>\n",
              "      <th>speed</th>\n",
              "      <th>generation</th>\n",
              "      <th>legendary</th>\n",
              "    </tr>\n",
              "    <tr>\n",
              "      <th>#</th>\n",
              "      <th></th>\n",
              "      <th></th>\n",
              "      <th></th>\n",
              "      <th></th>\n",
              "      <th></th>\n",
              "      <th></th>\n",
              "      <th></th>\n",
              "      <th></th>\n",
              "      <th></th>\n",
              "      <th></th>\n",
              "      <th></th>\n",
              "      <th></th>\n",
              "    </tr>\n",
              "  </thead>\n",
              "  <tbody>\n",
              "    <tr>\n",
              "      <th>3</th>\n",
              "      <td>Venusaur</td>\n",
              "      <td>Grass</td>\n",
              "      <td>Poison</td>\n",
              "      <td>525</td>\n",
              "      <td>80</td>\n",
              "      <td>82</td>\n",
              "      <td>83</td>\n",
              "      <td>100</td>\n",
              "      <td>100</td>\n",
              "      <td>80</td>\n",
              "      <td>1</td>\n",
              "      <td>False</td>\n",
              "    </tr>\n",
              "    <tr>\n",
              "      <th>6</th>\n",
              "      <td>Charizard</td>\n",
              "      <td>Fire</td>\n",
              "      <td>Flying</td>\n",
              "      <td>534</td>\n",
              "      <td>78</td>\n",
              "      <td>84</td>\n",
              "      <td>78</td>\n",
              "      <td>109</td>\n",
              "      <td>85</td>\n",
              "      <td>100</td>\n",
              "      <td>1</td>\n",
              "      <td>False</td>\n",
              "    </tr>\n",
              "    <tr>\n",
              "      <th>8</th>\n",
              "      <td>Wartortle</td>\n",
              "      <td>Water</td>\n",
              "      <td>No type 2</td>\n",
              "      <td>405</td>\n",
              "      <td>59</td>\n",
              "      <td>63</td>\n",
              "      <td>80</td>\n",
              "      <td>65</td>\n",
              "      <td>80</td>\n",
              "      <td>58</td>\n",
              "      <td>1</td>\n",
              "      <td>False</td>\n",
              "    </tr>\n",
              "    <tr>\n",
              "      <th>9</th>\n",
              "      <td>Blastoise</td>\n",
              "      <td>Water</td>\n",
              "      <td>No type 2</td>\n",
              "      <td>530</td>\n",
              "      <td>79</td>\n",
              "      <td>83</td>\n",
              "      <td>100</td>\n",
              "      <td>85</td>\n",
              "      <td>105</td>\n",
              "      <td>78</td>\n",
              "      <td>1</td>\n",
              "      <td>False</td>\n",
              "    </tr>\n",
              "    <tr>\n",
              "      <th>18</th>\n",
              "      <td>Pidgeot</td>\n",
              "      <td>Normal</td>\n",
              "      <td>Flying</td>\n",
              "      <td>479</td>\n",
              "      <td>83</td>\n",
              "      <td>80</td>\n",
              "      <td>75</td>\n",
              "      <td>70</td>\n",
              "      <td>70</td>\n",
              "      <td>101</td>\n",
              "      <td>1</td>\n",
              "      <td>False</td>\n",
              "    </tr>\n",
              "    <tr>\n",
              "      <th>...</th>\n",
              "      <td>...</td>\n",
              "      <td>...</td>\n",
              "      <td>...</td>\n",
              "      <td>...</td>\n",
              "      <td>...</td>\n",
              "      <td>...</td>\n",
              "      <td>...</td>\n",
              "      <td>...</td>\n",
              "      <td>...</td>\n",
              "      <td>...</td>\n",
              "      <td>...</td>\n",
              "      <td>...</td>\n",
              "    </tr>\n",
              "    <tr>\n",
              "      <th>716</th>\n",
              "      <td>Xerneas</td>\n",
              "      <td>Fairy</td>\n",
              "      <td>No type 2</td>\n",
              "      <td>680</td>\n",
              "      <td>126</td>\n",
              "      <td>131</td>\n",
              "      <td>95</td>\n",
              "      <td>131</td>\n",
              "      <td>98</td>\n",
              "      <td>99</td>\n",
              "      <td>6</td>\n",
              "      <td>True</td>\n",
              "    </tr>\n",
              "    <tr>\n",
              "      <th>717</th>\n",
              "      <td>Yveltal</td>\n",
              "      <td>Dark</td>\n",
              "      <td>Flying</td>\n",
              "      <td>680</td>\n",
              "      <td>126</td>\n",
              "      <td>131</td>\n",
              "      <td>95</td>\n",
              "      <td>131</td>\n",
              "      <td>98</td>\n",
              "      <td>99</td>\n",
              "      <td>6</td>\n",
              "      <td>True</td>\n",
              "    </tr>\n",
              "    <tr>\n",
              "      <th>718</th>\n",
              "      <td>Zygarde50% Forme</td>\n",
              "      <td>Dragon</td>\n",
              "      <td>Ground</td>\n",
              "      <td>600</td>\n",
              "      <td>108</td>\n",
              "      <td>100</td>\n",
              "      <td>121</td>\n",
              "      <td>81</td>\n",
              "      <td>95</td>\n",
              "      <td>95</td>\n",
              "      <td>6</td>\n",
              "      <td>True</td>\n",
              "    </tr>\n",
              "    <tr>\n",
              "      <th>719</th>\n",
              "      <td>Diancie</td>\n",
              "      <td>Rock</td>\n",
              "      <td>Fairy</td>\n",
              "      <td>600</td>\n",
              "      <td>50</td>\n",
              "      <td>100</td>\n",
              "      <td>150</td>\n",
              "      <td>100</td>\n",
              "      <td>150</td>\n",
              "      <td>50</td>\n",
              "      <td>6</td>\n",
              "      <td>True</td>\n",
              "    </tr>\n",
              "    <tr>\n",
              "      <th>721</th>\n",
              "      <td>Volcanion</td>\n",
              "      <td>Fire</td>\n",
              "      <td>Water</td>\n",
              "      <td>600</td>\n",
              "      <td>80</td>\n",
              "      <td>110</td>\n",
              "      <td>120</td>\n",
              "      <td>130</td>\n",
              "      <td>90</td>\n",
              "      <td>70</td>\n",
              "      <td>6</td>\n",
              "      <td>True</td>\n",
              "    </tr>\n",
              "  </tbody>\n",
              "</table>\n",
              "<p>295 rows × 12 columns</p>\n",
              "</div>\n",
              "      <button class=\"colab-df-convert\" onclick=\"convertToInteractive('df-c0e2c397-97cb-475f-9837-7807d27a572b')\"\n",
              "              title=\"Convert this dataframe to an interactive table.\"\n",
              "              style=\"display:none;\">\n",
              "        \n",
              "  <svg xmlns=\"http://www.w3.org/2000/svg\" height=\"24px\"viewBox=\"0 0 24 24\"\n",
              "       width=\"24px\">\n",
              "    <path d=\"M0 0h24v24H0V0z\" fill=\"none\"/>\n",
              "    <path d=\"M18.56 5.44l.94 2.06.94-2.06 2.06-.94-2.06-.94-.94-2.06-.94 2.06-2.06.94zm-11 1L8.5 8.5l.94-2.06 2.06-.94-2.06-.94L8.5 2.5l-.94 2.06-2.06.94zm10 10l.94 2.06.94-2.06 2.06-.94-2.06-.94-.94-2.06-.94 2.06-2.06.94z\"/><path d=\"M17.41 7.96l-1.37-1.37c-.4-.4-.92-.59-1.43-.59-.52 0-1.04.2-1.43.59L10.3 9.45l-7.72 7.72c-.78.78-.78 2.05 0 2.83L4 21.41c.39.39.9.59 1.41.59.51 0 1.02-.2 1.41-.59l7.78-7.78 2.81-2.81c.8-.78.8-2.07 0-2.86zM5.41 20L4 18.59l7.72-7.72 1.47 1.35L5.41 20z\"/>\n",
              "  </svg>\n",
              "      </button>\n",
              "      \n",
              "  <style>\n",
              "    .colab-df-container {\n",
              "      display:flex;\n",
              "      flex-wrap:wrap;\n",
              "      gap: 12px;\n",
              "    }\n",
              "\n",
              "    .colab-df-convert {\n",
              "      background-color: #E8F0FE;\n",
              "      border: none;\n",
              "      border-radius: 50%;\n",
              "      cursor: pointer;\n",
              "      display: none;\n",
              "      fill: #1967D2;\n",
              "      height: 32px;\n",
              "      padding: 0 0 0 0;\n",
              "      width: 32px;\n",
              "    }\n",
              "\n",
              "    .colab-df-convert:hover {\n",
              "      background-color: #E2EBFA;\n",
              "      box-shadow: 0px 1px 2px rgba(60, 64, 67, 0.3), 0px 1px 3px 1px rgba(60, 64, 67, 0.15);\n",
              "      fill: #174EA6;\n",
              "    }\n",
              "\n",
              "    [theme=dark] .colab-df-convert {\n",
              "      background-color: #3B4455;\n",
              "      fill: #D2E3FC;\n",
              "    }\n",
              "\n",
              "    [theme=dark] .colab-df-convert:hover {\n",
              "      background-color: #434B5C;\n",
              "      box-shadow: 0px 1px 3px 1px rgba(0, 0, 0, 0.15);\n",
              "      filter: drop-shadow(0px 1px 2px rgba(0, 0, 0, 0.3));\n",
              "      fill: #FFFFFF;\n",
              "    }\n",
              "  </style>\n",
              "\n",
              "      <script>\n",
              "        const buttonEl =\n",
              "          document.querySelector('#df-c0e2c397-97cb-475f-9837-7807d27a572b button.colab-df-convert');\n",
              "        buttonEl.style.display =\n",
              "          google.colab.kernel.accessAllowed ? 'block' : 'none';\n",
              "\n",
              "        async function convertToInteractive(key) {\n",
              "          const element = document.querySelector('#df-c0e2c397-97cb-475f-9837-7807d27a572b');\n",
              "          const dataTable =\n",
              "            await google.colab.kernel.invokeFunction('convertToInteractive',\n",
              "                                                     [key], {});\n",
              "          if (!dataTable) return;\n",
              "\n",
              "          const docLinkHtml = 'Like what you see? Visit the ' +\n",
              "            '<a target=\"_blank\" href=https://colab.research.google.com/notebooks/data_table.ipynb>data table notebook</a>'\n",
              "            + ' to learn more about interactive tables.';\n",
              "          element.innerHTML = '';\n",
              "          dataTable['output_type'] = 'display_data';\n",
              "          await google.colab.output.renderOutput(dataTable, element);\n",
              "          const docLink = document.createElement('div');\n",
              "          docLink.innerHTML = docLinkHtml;\n",
              "          element.appendChild(docLink);\n",
              "        }\n",
              "      </script>\n",
              "    </div>\n",
              "  </div>\n",
              "  "
            ]
          },
          "metadata": {},
          "execution_count": 40
        }
      ]
    },
    {
      "cell_type": "markdown",
      "metadata": {
        "id": "ekKmeGxrGLVb"
      },
      "source": [
        "22. Cuántos pokemons de cada tipo (type1) hay en el dataframe del ejercicio anterior? Cuál es el tipo (type1) de pokemon que tiene más pokemons con defensa superior a la media?"
      ]
    },
    {
      "cell_type": "code",
      "source": [
        "pokemon_defenseup = sub_df[sub_df['defense'] > np.mean(sub_df['defense'])]"
      ],
      "metadata": {
        "id": "y8NxeHljzR84"
      },
      "execution_count": null,
      "outputs": []
    },
    {
      "cell_type": "code",
      "source": [
        "pokemon_defenseup['type_1'].value_counts()"
      ],
      "metadata": {
        "colab": {
          "base_uri": "https://localhost:8080/"
        },
        "id": "9UnKBl766axa",
        "outputId": "73512706-a540-4316-8f76-5d527c2e3aaf"
      },
      "execution_count": null,
      "outputs": [
        {
          "output_type": "execute_result",
          "data": {
            "text/plain": [
              "Water       47\n",
              "Rock        30\n",
              "Grass       26\n",
              "Bug         22\n",
              "Normal      20\n",
              "Steel       20\n",
              "Ground      19\n",
              "Fire        15\n",
              "Dragon      14\n",
              "Psychic     14\n",
              "Poison      11\n",
              "Ice         11\n",
              "Fighting    10\n",
              "Dark        10\n",
              "Ghost       10\n",
              "Electric     8\n",
              "Fairy        7\n",
              "Flying       1\n",
              "Name: type_1, dtype: int64"
            ]
          },
          "metadata": {},
          "execution_count": 42
        }
      ]
    },
    {
      "cell_type": "markdown",
      "metadata": {
        "id": "OKBchpwYGfib"
      },
      "source": [
        "23. Crea una nueva columna llamada flag_type2 que contenga un 0 si en la columna type2 tenemos 'No type 2' y que contenga un 1 si en la columna type2 aparece otra cosa"
      ]
    },
    {
      "cell_type": "code",
      "source": [
        "def flag_type2_fun(x):\n",
        "  if x == 'No type 2':\n",
        "    return 0\n",
        "  else:\n",
        "    return 1"
      ],
      "metadata": {
        "id": "tXKC98rn1_x3"
      },
      "execution_count": null,
      "outputs": []
    },
    {
      "cell_type": "code",
      "source": [
        "sub_df['flag_type2'] = sub_df['type2'].apply(flag_type2_fun)"
      ],
      "metadata": {
        "id": "hswoWjaD2OyE"
      },
      "execution_count": null,
      "outputs": []
    },
    {
      "cell_type": "code",
      "source": [
        "sub_df['flag_type2'] = [0 if s == 'No type 2' else 1 for s in sub_df['type_2']]"
      ],
      "metadata": {
        "id": "Ncq9ye-KzSbs",
        "colab": {
          "base_uri": "https://localhost:8080/"
        },
        "outputId": "96e5e6c0-688d-4ba7-c701-903978cc9221"
      },
      "execution_count": null,
      "outputs": [
        {
          "output_type": "stream",
          "name": "stderr",
          "text": [
            "<ipython-input-43-ee4c6a08a123>:1: SettingWithCopyWarning: \n",
            "A value is trying to be set on a copy of a slice from a DataFrame.\n",
            "Try using .loc[row_indexer,col_indexer] = value instead\n",
            "\n",
            "See the caveats in the documentation: https://pandas.pydata.org/pandas-docs/stable/user_guide/indexing.html#returning-a-view-versus-a-copy\n",
            "  sub_df['flag_type2'] = [0 if s == 'No type 2' else 1 for s in sub_df['type_2']]\n"
          ]
        }
      ]
    },
    {
      "cell_type": "code",
      "source": [
        "sub_df"
      ],
      "metadata": {
        "colab": {
          "base_uri": "https://localhost:8080/",
          "height": 588
        },
        "id": "A-5uUusF_aBl",
        "outputId": "9139f1fd-8ee9-4f51-9c51-bca8767013ae"
      },
      "execution_count": null,
      "outputs": [
        {
          "output_type": "execute_result",
          "data": {
            "text/plain": [
              "                    name   type_1     type_2  total   hp  attack  defense  \\\n",
              "#                                                                           \n",
              "1              Bulbasaur    Grass     Poison    318   45      49       49   \n",
              "2                Ivysaur    Grass     Poison    405   60      62       63   \n",
              "3               Venusaur    Grass     Poison    525   80      82       83   \n",
              "4             Charmander     Fire  No type 2    309   39      52       43   \n",
              "5             Charmeleon     Fire  No type 2    405   58      64       58   \n",
              "..                   ...      ...        ...    ...  ...     ...      ...   \n",
              "717              Yveltal     Dark     Flying    680  126     131       95   \n",
              "718     Zygarde50% Forme   Dragon     Ground    600  108     100      121   \n",
              "719              Diancie     Rock      Fairy    600   50     100      150   \n",
              "720  HoopaHoopa Confined  Psychic      Ghost    600   80     110       60   \n",
              "721            Volcanion     Fire      Water    600   80     110      120   \n",
              "\n",
              "     sp.atk  sp.def  speed  generation  legendary  flag_type2  \n",
              "#                                                              \n",
              "1        65      65     45           1      False           1  \n",
              "2        80      80     60           1      False           1  \n",
              "3       100     100     80           1      False           1  \n",
              "4        60      50     65           1      False           0  \n",
              "5        80      65     80           1      False           0  \n",
              "..      ...     ...    ...         ...        ...         ...  \n",
              "717     131      98     99           6       True           1  \n",
              "718      81      95     95           6       True           1  \n",
              "719     100     150     50           6       True           1  \n",
              "720     150     130     70           6       True           1  \n",
              "721     130      90     70           6       True           1  \n",
              "\n",
              "[721 rows x 13 columns]"
            ],
            "text/html": [
              "\n",
              "  <div id=\"df-4f37c75e-8aba-4d75-a182-85f3f9b1311b\">\n",
              "    <div class=\"colab-df-container\">\n",
              "      <div>\n",
              "<style scoped>\n",
              "    .dataframe tbody tr th:only-of-type {\n",
              "        vertical-align: middle;\n",
              "    }\n",
              "\n",
              "    .dataframe tbody tr th {\n",
              "        vertical-align: top;\n",
              "    }\n",
              "\n",
              "    .dataframe thead th {\n",
              "        text-align: right;\n",
              "    }\n",
              "</style>\n",
              "<table border=\"1\" class=\"dataframe\">\n",
              "  <thead>\n",
              "    <tr style=\"text-align: right;\">\n",
              "      <th></th>\n",
              "      <th>name</th>\n",
              "      <th>type_1</th>\n",
              "      <th>type_2</th>\n",
              "      <th>total</th>\n",
              "      <th>hp</th>\n",
              "      <th>attack</th>\n",
              "      <th>defense</th>\n",
              "      <th>sp.atk</th>\n",
              "      <th>sp.def</th>\n",
              "      <th>speed</th>\n",
              "      <th>generation</th>\n",
              "      <th>legendary</th>\n",
              "      <th>flag_type2</th>\n",
              "    </tr>\n",
              "    <tr>\n",
              "      <th>#</th>\n",
              "      <th></th>\n",
              "      <th></th>\n",
              "      <th></th>\n",
              "      <th></th>\n",
              "      <th></th>\n",
              "      <th></th>\n",
              "      <th></th>\n",
              "      <th></th>\n",
              "      <th></th>\n",
              "      <th></th>\n",
              "      <th></th>\n",
              "      <th></th>\n",
              "      <th></th>\n",
              "    </tr>\n",
              "  </thead>\n",
              "  <tbody>\n",
              "    <tr>\n",
              "      <th>1</th>\n",
              "      <td>Bulbasaur</td>\n",
              "      <td>Grass</td>\n",
              "      <td>Poison</td>\n",
              "      <td>318</td>\n",
              "      <td>45</td>\n",
              "      <td>49</td>\n",
              "      <td>49</td>\n",
              "      <td>65</td>\n",
              "      <td>65</td>\n",
              "      <td>45</td>\n",
              "      <td>1</td>\n",
              "      <td>False</td>\n",
              "      <td>1</td>\n",
              "    </tr>\n",
              "    <tr>\n",
              "      <th>2</th>\n",
              "      <td>Ivysaur</td>\n",
              "      <td>Grass</td>\n",
              "      <td>Poison</td>\n",
              "      <td>405</td>\n",
              "      <td>60</td>\n",
              "      <td>62</td>\n",
              "      <td>63</td>\n",
              "      <td>80</td>\n",
              "      <td>80</td>\n",
              "      <td>60</td>\n",
              "      <td>1</td>\n",
              "      <td>False</td>\n",
              "      <td>1</td>\n",
              "    </tr>\n",
              "    <tr>\n",
              "      <th>3</th>\n",
              "      <td>Venusaur</td>\n",
              "      <td>Grass</td>\n",
              "      <td>Poison</td>\n",
              "      <td>525</td>\n",
              "      <td>80</td>\n",
              "      <td>82</td>\n",
              "      <td>83</td>\n",
              "      <td>100</td>\n",
              "      <td>100</td>\n",
              "      <td>80</td>\n",
              "      <td>1</td>\n",
              "      <td>False</td>\n",
              "      <td>1</td>\n",
              "    </tr>\n",
              "    <tr>\n",
              "      <th>4</th>\n",
              "      <td>Charmander</td>\n",
              "      <td>Fire</td>\n",
              "      <td>No type 2</td>\n",
              "      <td>309</td>\n",
              "      <td>39</td>\n",
              "      <td>52</td>\n",
              "      <td>43</td>\n",
              "      <td>60</td>\n",
              "      <td>50</td>\n",
              "      <td>65</td>\n",
              "      <td>1</td>\n",
              "      <td>False</td>\n",
              "      <td>0</td>\n",
              "    </tr>\n",
              "    <tr>\n",
              "      <th>5</th>\n",
              "      <td>Charmeleon</td>\n",
              "      <td>Fire</td>\n",
              "      <td>No type 2</td>\n",
              "      <td>405</td>\n",
              "      <td>58</td>\n",
              "      <td>64</td>\n",
              "      <td>58</td>\n",
              "      <td>80</td>\n",
              "      <td>65</td>\n",
              "      <td>80</td>\n",
              "      <td>1</td>\n",
              "      <td>False</td>\n",
              "      <td>0</td>\n",
              "    </tr>\n",
              "    <tr>\n",
              "      <th>...</th>\n",
              "      <td>...</td>\n",
              "      <td>...</td>\n",
              "      <td>...</td>\n",
              "      <td>...</td>\n",
              "      <td>...</td>\n",
              "      <td>...</td>\n",
              "      <td>...</td>\n",
              "      <td>...</td>\n",
              "      <td>...</td>\n",
              "      <td>...</td>\n",
              "      <td>...</td>\n",
              "      <td>...</td>\n",
              "      <td>...</td>\n",
              "    </tr>\n",
              "    <tr>\n",
              "      <th>717</th>\n",
              "      <td>Yveltal</td>\n",
              "      <td>Dark</td>\n",
              "      <td>Flying</td>\n",
              "      <td>680</td>\n",
              "      <td>126</td>\n",
              "      <td>131</td>\n",
              "      <td>95</td>\n",
              "      <td>131</td>\n",
              "      <td>98</td>\n",
              "      <td>99</td>\n",
              "      <td>6</td>\n",
              "      <td>True</td>\n",
              "      <td>1</td>\n",
              "    </tr>\n",
              "    <tr>\n",
              "      <th>718</th>\n",
              "      <td>Zygarde50% Forme</td>\n",
              "      <td>Dragon</td>\n",
              "      <td>Ground</td>\n",
              "      <td>600</td>\n",
              "      <td>108</td>\n",
              "      <td>100</td>\n",
              "      <td>121</td>\n",
              "      <td>81</td>\n",
              "      <td>95</td>\n",
              "      <td>95</td>\n",
              "      <td>6</td>\n",
              "      <td>True</td>\n",
              "      <td>1</td>\n",
              "    </tr>\n",
              "    <tr>\n",
              "      <th>719</th>\n",
              "      <td>Diancie</td>\n",
              "      <td>Rock</td>\n",
              "      <td>Fairy</td>\n",
              "      <td>600</td>\n",
              "      <td>50</td>\n",
              "      <td>100</td>\n",
              "      <td>150</td>\n",
              "      <td>100</td>\n",
              "      <td>150</td>\n",
              "      <td>50</td>\n",
              "      <td>6</td>\n",
              "      <td>True</td>\n",
              "      <td>1</td>\n",
              "    </tr>\n",
              "    <tr>\n",
              "      <th>720</th>\n",
              "      <td>HoopaHoopa Confined</td>\n",
              "      <td>Psychic</td>\n",
              "      <td>Ghost</td>\n",
              "      <td>600</td>\n",
              "      <td>80</td>\n",
              "      <td>110</td>\n",
              "      <td>60</td>\n",
              "      <td>150</td>\n",
              "      <td>130</td>\n",
              "      <td>70</td>\n",
              "      <td>6</td>\n",
              "      <td>True</td>\n",
              "      <td>1</td>\n",
              "    </tr>\n",
              "    <tr>\n",
              "      <th>721</th>\n",
              "      <td>Volcanion</td>\n",
              "      <td>Fire</td>\n",
              "      <td>Water</td>\n",
              "      <td>600</td>\n",
              "      <td>80</td>\n",
              "      <td>110</td>\n",
              "      <td>120</td>\n",
              "      <td>130</td>\n",
              "      <td>90</td>\n",
              "      <td>70</td>\n",
              "      <td>6</td>\n",
              "      <td>True</td>\n",
              "      <td>1</td>\n",
              "    </tr>\n",
              "  </tbody>\n",
              "</table>\n",
              "<p>721 rows × 13 columns</p>\n",
              "</div>\n",
              "      <button class=\"colab-df-convert\" onclick=\"convertToInteractive('df-4f37c75e-8aba-4d75-a182-85f3f9b1311b')\"\n",
              "              title=\"Convert this dataframe to an interactive table.\"\n",
              "              style=\"display:none;\">\n",
              "        \n",
              "  <svg xmlns=\"http://www.w3.org/2000/svg\" height=\"24px\"viewBox=\"0 0 24 24\"\n",
              "       width=\"24px\">\n",
              "    <path d=\"M0 0h24v24H0V0z\" fill=\"none\"/>\n",
              "    <path d=\"M18.56 5.44l.94 2.06.94-2.06 2.06-.94-2.06-.94-.94-2.06-.94 2.06-2.06.94zm-11 1L8.5 8.5l.94-2.06 2.06-.94-2.06-.94L8.5 2.5l-.94 2.06-2.06.94zm10 10l.94 2.06.94-2.06 2.06-.94-2.06-.94-.94-2.06-.94 2.06-2.06.94z\"/><path d=\"M17.41 7.96l-1.37-1.37c-.4-.4-.92-.59-1.43-.59-.52 0-1.04.2-1.43.59L10.3 9.45l-7.72 7.72c-.78.78-.78 2.05 0 2.83L4 21.41c.39.39.9.59 1.41.59.51 0 1.02-.2 1.41-.59l7.78-7.78 2.81-2.81c.8-.78.8-2.07 0-2.86zM5.41 20L4 18.59l7.72-7.72 1.47 1.35L5.41 20z\"/>\n",
              "  </svg>\n",
              "      </button>\n",
              "      \n",
              "  <style>\n",
              "    .colab-df-container {\n",
              "      display:flex;\n",
              "      flex-wrap:wrap;\n",
              "      gap: 12px;\n",
              "    }\n",
              "\n",
              "    .colab-df-convert {\n",
              "      background-color: #E8F0FE;\n",
              "      border: none;\n",
              "      border-radius: 50%;\n",
              "      cursor: pointer;\n",
              "      display: none;\n",
              "      fill: #1967D2;\n",
              "      height: 32px;\n",
              "      padding: 0 0 0 0;\n",
              "      width: 32px;\n",
              "    }\n",
              "\n",
              "    .colab-df-convert:hover {\n",
              "      background-color: #E2EBFA;\n",
              "      box-shadow: 0px 1px 2px rgba(60, 64, 67, 0.3), 0px 1px 3px 1px rgba(60, 64, 67, 0.15);\n",
              "      fill: #174EA6;\n",
              "    }\n",
              "\n",
              "    [theme=dark] .colab-df-convert {\n",
              "      background-color: #3B4455;\n",
              "      fill: #D2E3FC;\n",
              "    }\n",
              "\n",
              "    [theme=dark] .colab-df-convert:hover {\n",
              "      background-color: #434B5C;\n",
              "      box-shadow: 0px 1px 3px 1px rgba(0, 0, 0, 0.15);\n",
              "      filter: drop-shadow(0px 1px 2px rgba(0, 0, 0, 0.3));\n",
              "      fill: #FFFFFF;\n",
              "    }\n",
              "  </style>\n",
              "\n",
              "      <script>\n",
              "        const buttonEl =\n",
              "          document.querySelector('#df-4f37c75e-8aba-4d75-a182-85f3f9b1311b button.colab-df-convert');\n",
              "        buttonEl.style.display =\n",
              "          google.colab.kernel.accessAllowed ? 'block' : 'none';\n",
              "\n",
              "        async function convertToInteractive(key) {\n",
              "          const element = document.querySelector('#df-4f37c75e-8aba-4d75-a182-85f3f9b1311b');\n",
              "          const dataTable =\n",
              "            await google.colab.kernel.invokeFunction('convertToInteractive',\n",
              "                                                     [key], {});\n",
              "          if (!dataTable) return;\n",
              "\n",
              "          const docLinkHtml = 'Like what you see? Visit the ' +\n",
              "            '<a target=\"_blank\" href=https://colab.research.google.com/notebooks/data_table.ipynb>data table notebook</a>'\n",
              "            + ' to learn more about interactive tables.';\n",
              "          element.innerHTML = '';\n",
              "          dataTable['output_type'] = 'display_data';\n",
              "          await google.colab.output.renderOutput(dataTable, element);\n",
              "          const docLink = document.createElement('div');\n",
              "          docLink.innerHTML = docLinkHtml;\n",
              "          element.appendChild(docLink);\n",
              "        }\n",
              "      </script>\n",
              "    </div>\n",
              "  </div>\n",
              "  "
            ]
          },
          "metadata": {},
          "execution_count": 44
        }
      ]
    },
    {
      "cell_type": "code",
      "source": [
        "sub_df['flag_type2'] = np.where(sub_df['type_2'] == 'No type 2', 0,1)"
      ],
      "metadata": {
        "colab": {
          "base_uri": "https://localhost:8080/"
        },
        "id": "F7pbgZbxAmU_",
        "outputId": "4afef140-b8d3-4e4c-f766-162a47380f0c"
      },
      "execution_count": null,
      "outputs": [
        {
          "output_type": "stream",
          "name": "stderr",
          "text": [
            "<ipython-input-45-72092b84f418>:1: SettingWithCopyWarning: \n",
            "A value is trying to be set on a copy of a slice from a DataFrame.\n",
            "Try using .loc[row_indexer,col_indexer] = value instead\n",
            "\n",
            "See the caveats in the documentation: https://pandas.pydata.org/pandas-docs/stable/user_guide/indexing.html#returning-a-view-versus-a-copy\n",
            "  sub_df['flag_type2'] = np.where(sub_df['type_2'] == 'No type 2', 0,1)\n"
          ]
        }
      ]
    },
    {
      "cell_type": "code",
      "source": [
        "sub_df"
      ],
      "metadata": {
        "colab": {
          "base_uri": "https://localhost:8080/",
          "height": 588
        },
        "id": "qjMKhriuA7YL",
        "outputId": "435d7b73-6db9-48ca-a4db-fc4ffe2b162a"
      },
      "execution_count": null,
      "outputs": [
        {
          "output_type": "execute_result",
          "data": {
            "text/plain": [
              "                    name   type_1     type_2  total   hp  attack  defense  \\\n",
              "#                                                                           \n",
              "1              Bulbasaur    Grass     Poison    318   45      49       49   \n",
              "2                Ivysaur    Grass     Poison    405   60      62       63   \n",
              "3               Venusaur    Grass     Poison    525   80      82       83   \n",
              "4             Charmander     Fire  No type 2    309   39      52       43   \n",
              "5             Charmeleon     Fire  No type 2    405   58      64       58   \n",
              "..                   ...      ...        ...    ...  ...     ...      ...   \n",
              "717              Yveltal     Dark     Flying    680  126     131       95   \n",
              "718     Zygarde50% Forme   Dragon     Ground    600  108     100      121   \n",
              "719              Diancie     Rock      Fairy    600   50     100      150   \n",
              "720  HoopaHoopa Confined  Psychic      Ghost    600   80     110       60   \n",
              "721            Volcanion     Fire      Water    600   80     110      120   \n",
              "\n",
              "     sp.atk  sp.def  speed  generation  legendary  flag_type2  \n",
              "#                                                              \n",
              "1        65      65     45           1      False           1  \n",
              "2        80      80     60           1      False           1  \n",
              "3       100     100     80           1      False           1  \n",
              "4        60      50     65           1      False           0  \n",
              "5        80      65     80           1      False           0  \n",
              "..      ...     ...    ...         ...        ...         ...  \n",
              "717     131      98     99           6       True           1  \n",
              "718      81      95     95           6       True           1  \n",
              "719     100     150     50           6       True           1  \n",
              "720     150     130     70           6       True           1  \n",
              "721     130      90     70           6       True           1  \n",
              "\n",
              "[721 rows x 13 columns]"
            ],
            "text/html": [
              "\n",
              "  <div id=\"df-8ee5e3f5-60ad-4dab-95f4-a2e8d1f1d1a3\">\n",
              "    <div class=\"colab-df-container\">\n",
              "      <div>\n",
              "<style scoped>\n",
              "    .dataframe tbody tr th:only-of-type {\n",
              "        vertical-align: middle;\n",
              "    }\n",
              "\n",
              "    .dataframe tbody tr th {\n",
              "        vertical-align: top;\n",
              "    }\n",
              "\n",
              "    .dataframe thead th {\n",
              "        text-align: right;\n",
              "    }\n",
              "</style>\n",
              "<table border=\"1\" class=\"dataframe\">\n",
              "  <thead>\n",
              "    <tr style=\"text-align: right;\">\n",
              "      <th></th>\n",
              "      <th>name</th>\n",
              "      <th>type_1</th>\n",
              "      <th>type_2</th>\n",
              "      <th>total</th>\n",
              "      <th>hp</th>\n",
              "      <th>attack</th>\n",
              "      <th>defense</th>\n",
              "      <th>sp.atk</th>\n",
              "      <th>sp.def</th>\n",
              "      <th>speed</th>\n",
              "      <th>generation</th>\n",
              "      <th>legendary</th>\n",
              "      <th>flag_type2</th>\n",
              "    </tr>\n",
              "    <tr>\n",
              "      <th>#</th>\n",
              "      <th></th>\n",
              "      <th></th>\n",
              "      <th></th>\n",
              "      <th></th>\n",
              "      <th></th>\n",
              "      <th></th>\n",
              "      <th></th>\n",
              "      <th></th>\n",
              "      <th></th>\n",
              "      <th></th>\n",
              "      <th></th>\n",
              "      <th></th>\n",
              "      <th></th>\n",
              "    </tr>\n",
              "  </thead>\n",
              "  <tbody>\n",
              "    <tr>\n",
              "      <th>1</th>\n",
              "      <td>Bulbasaur</td>\n",
              "      <td>Grass</td>\n",
              "      <td>Poison</td>\n",
              "      <td>318</td>\n",
              "      <td>45</td>\n",
              "      <td>49</td>\n",
              "      <td>49</td>\n",
              "      <td>65</td>\n",
              "      <td>65</td>\n",
              "      <td>45</td>\n",
              "      <td>1</td>\n",
              "      <td>False</td>\n",
              "      <td>1</td>\n",
              "    </tr>\n",
              "    <tr>\n",
              "      <th>2</th>\n",
              "      <td>Ivysaur</td>\n",
              "      <td>Grass</td>\n",
              "      <td>Poison</td>\n",
              "      <td>405</td>\n",
              "      <td>60</td>\n",
              "      <td>62</td>\n",
              "      <td>63</td>\n",
              "      <td>80</td>\n",
              "      <td>80</td>\n",
              "      <td>60</td>\n",
              "      <td>1</td>\n",
              "      <td>False</td>\n",
              "      <td>1</td>\n",
              "    </tr>\n",
              "    <tr>\n",
              "      <th>3</th>\n",
              "      <td>Venusaur</td>\n",
              "      <td>Grass</td>\n",
              "      <td>Poison</td>\n",
              "      <td>525</td>\n",
              "      <td>80</td>\n",
              "      <td>82</td>\n",
              "      <td>83</td>\n",
              "      <td>100</td>\n",
              "      <td>100</td>\n",
              "      <td>80</td>\n",
              "      <td>1</td>\n",
              "      <td>False</td>\n",
              "      <td>1</td>\n",
              "    </tr>\n",
              "    <tr>\n",
              "      <th>4</th>\n",
              "      <td>Charmander</td>\n",
              "      <td>Fire</td>\n",
              "      <td>No type 2</td>\n",
              "      <td>309</td>\n",
              "      <td>39</td>\n",
              "      <td>52</td>\n",
              "      <td>43</td>\n",
              "      <td>60</td>\n",
              "      <td>50</td>\n",
              "      <td>65</td>\n",
              "      <td>1</td>\n",
              "      <td>False</td>\n",
              "      <td>0</td>\n",
              "    </tr>\n",
              "    <tr>\n",
              "      <th>5</th>\n",
              "      <td>Charmeleon</td>\n",
              "      <td>Fire</td>\n",
              "      <td>No type 2</td>\n",
              "      <td>405</td>\n",
              "      <td>58</td>\n",
              "      <td>64</td>\n",
              "      <td>58</td>\n",
              "      <td>80</td>\n",
              "      <td>65</td>\n",
              "      <td>80</td>\n",
              "      <td>1</td>\n",
              "      <td>False</td>\n",
              "      <td>0</td>\n",
              "    </tr>\n",
              "    <tr>\n",
              "      <th>...</th>\n",
              "      <td>...</td>\n",
              "      <td>...</td>\n",
              "      <td>...</td>\n",
              "      <td>...</td>\n",
              "      <td>...</td>\n",
              "      <td>...</td>\n",
              "      <td>...</td>\n",
              "      <td>...</td>\n",
              "      <td>...</td>\n",
              "      <td>...</td>\n",
              "      <td>...</td>\n",
              "      <td>...</td>\n",
              "      <td>...</td>\n",
              "    </tr>\n",
              "    <tr>\n",
              "      <th>717</th>\n",
              "      <td>Yveltal</td>\n",
              "      <td>Dark</td>\n",
              "      <td>Flying</td>\n",
              "      <td>680</td>\n",
              "      <td>126</td>\n",
              "      <td>131</td>\n",
              "      <td>95</td>\n",
              "      <td>131</td>\n",
              "      <td>98</td>\n",
              "      <td>99</td>\n",
              "      <td>6</td>\n",
              "      <td>True</td>\n",
              "      <td>1</td>\n",
              "    </tr>\n",
              "    <tr>\n",
              "      <th>718</th>\n",
              "      <td>Zygarde50% Forme</td>\n",
              "      <td>Dragon</td>\n",
              "      <td>Ground</td>\n",
              "      <td>600</td>\n",
              "      <td>108</td>\n",
              "      <td>100</td>\n",
              "      <td>121</td>\n",
              "      <td>81</td>\n",
              "      <td>95</td>\n",
              "      <td>95</td>\n",
              "      <td>6</td>\n",
              "      <td>True</td>\n",
              "      <td>1</td>\n",
              "    </tr>\n",
              "    <tr>\n",
              "      <th>719</th>\n",
              "      <td>Diancie</td>\n",
              "      <td>Rock</td>\n",
              "      <td>Fairy</td>\n",
              "      <td>600</td>\n",
              "      <td>50</td>\n",
              "      <td>100</td>\n",
              "      <td>150</td>\n",
              "      <td>100</td>\n",
              "      <td>150</td>\n",
              "      <td>50</td>\n",
              "      <td>6</td>\n",
              "      <td>True</td>\n",
              "      <td>1</td>\n",
              "    </tr>\n",
              "    <tr>\n",
              "      <th>720</th>\n",
              "      <td>HoopaHoopa Confined</td>\n",
              "      <td>Psychic</td>\n",
              "      <td>Ghost</td>\n",
              "      <td>600</td>\n",
              "      <td>80</td>\n",
              "      <td>110</td>\n",
              "      <td>60</td>\n",
              "      <td>150</td>\n",
              "      <td>130</td>\n",
              "      <td>70</td>\n",
              "      <td>6</td>\n",
              "      <td>True</td>\n",
              "      <td>1</td>\n",
              "    </tr>\n",
              "    <tr>\n",
              "      <th>721</th>\n",
              "      <td>Volcanion</td>\n",
              "      <td>Fire</td>\n",
              "      <td>Water</td>\n",
              "      <td>600</td>\n",
              "      <td>80</td>\n",
              "      <td>110</td>\n",
              "      <td>120</td>\n",
              "      <td>130</td>\n",
              "      <td>90</td>\n",
              "      <td>70</td>\n",
              "      <td>6</td>\n",
              "      <td>True</td>\n",
              "      <td>1</td>\n",
              "    </tr>\n",
              "  </tbody>\n",
              "</table>\n",
              "<p>721 rows × 13 columns</p>\n",
              "</div>\n",
              "      <button class=\"colab-df-convert\" onclick=\"convertToInteractive('df-8ee5e3f5-60ad-4dab-95f4-a2e8d1f1d1a3')\"\n",
              "              title=\"Convert this dataframe to an interactive table.\"\n",
              "              style=\"display:none;\">\n",
              "        \n",
              "  <svg xmlns=\"http://www.w3.org/2000/svg\" height=\"24px\"viewBox=\"0 0 24 24\"\n",
              "       width=\"24px\">\n",
              "    <path d=\"M0 0h24v24H0V0z\" fill=\"none\"/>\n",
              "    <path d=\"M18.56 5.44l.94 2.06.94-2.06 2.06-.94-2.06-.94-.94-2.06-.94 2.06-2.06.94zm-11 1L8.5 8.5l.94-2.06 2.06-.94-2.06-.94L8.5 2.5l-.94 2.06-2.06.94zm10 10l.94 2.06.94-2.06 2.06-.94-2.06-.94-.94-2.06-.94 2.06-2.06.94z\"/><path d=\"M17.41 7.96l-1.37-1.37c-.4-.4-.92-.59-1.43-.59-.52 0-1.04.2-1.43.59L10.3 9.45l-7.72 7.72c-.78.78-.78 2.05 0 2.83L4 21.41c.39.39.9.59 1.41.59.51 0 1.02-.2 1.41-.59l7.78-7.78 2.81-2.81c.8-.78.8-2.07 0-2.86zM5.41 20L4 18.59l7.72-7.72 1.47 1.35L5.41 20z\"/>\n",
              "  </svg>\n",
              "      </button>\n",
              "      \n",
              "  <style>\n",
              "    .colab-df-container {\n",
              "      display:flex;\n",
              "      flex-wrap:wrap;\n",
              "      gap: 12px;\n",
              "    }\n",
              "\n",
              "    .colab-df-convert {\n",
              "      background-color: #E8F0FE;\n",
              "      border: none;\n",
              "      border-radius: 50%;\n",
              "      cursor: pointer;\n",
              "      display: none;\n",
              "      fill: #1967D2;\n",
              "      height: 32px;\n",
              "      padding: 0 0 0 0;\n",
              "      width: 32px;\n",
              "    }\n",
              "\n",
              "    .colab-df-convert:hover {\n",
              "      background-color: #E2EBFA;\n",
              "      box-shadow: 0px 1px 2px rgba(60, 64, 67, 0.3), 0px 1px 3px 1px rgba(60, 64, 67, 0.15);\n",
              "      fill: #174EA6;\n",
              "    }\n",
              "\n",
              "    [theme=dark] .colab-df-convert {\n",
              "      background-color: #3B4455;\n",
              "      fill: #D2E3FC;\n",
              "    }\n",
              "\n",
              "    [theme=dark] .colab-df-convert:hover {\n",
              "      background-color: #434B5C;\n",
              "      box-shadow: 0px 1px 3px 1px rgba(0, 0, 0, 0.15);\n",
              "      filter: drop-shadow(0px 1px 2px rgba(0, 0, 0, 0.3));\n",
              "      fill: #FFFFFF;\n",
              "    }\n",
              "  </style>\n",
              "\n",
              "      <script>\n",
              "        const buttonEl =\n",
              "          document.querySelector('#df-8ee5e3f5-60ad-4dab-95f4-a2e8d1f1d1a3 button.colab-df-convert');\n",
              "        buttonEl.style.display =\n",
              "          google.colab.kernel.accessAllowed ? 'block' : 'none';\n",
              "\n",
              "        async function convertToInteractive(key) {\n",
              "          const element = document.querySelector('#df-8ee5e3f5-60ad-4dab-95f4-a2e8d1f1d1a3');\n",
              "          const dataTable =\n",
              "            await google.colab.kernel.invokeFunction('convertToInteractive',\n",
              "                                                     [key], {});\n",
              "          if (!dataTable) return;\n",
              "\n",
              "          const docLinkHtml = 'Like what you see? Visit the ' +\n",
              "            '<a target=\"_blank\" href=https://colab.research.google.com/notebooks/data_table.ipynb>data table notebook</a>'\n",
              "            + ' to learn more about interactive tables.';\n",
              "          element.innerHTML = '';\n",
              "          dataTable['output_type'] = 'display_data';\n",
              "          await google.colab.output.renderOutput(dataTable, element);\n",
              "          const docLink = document.createElement('div');\n",
              "          docLink.innerHTML = docLinkHtml;\n",
              "          element.appendChild(docLink);\n",
              "        }\n",
              "      </script>\n",
              "    </div>\n",
              "  </div>\n",
              "  "
            ]
          },
          "metadata": {},
          "execution_count": 46
        }
      ]
    },
    {
      "cell_type": "markdown",
      "metadata": {
        "id": "r5RCgX8uHvpr"
      },
      "source": [
        "24. Muestra los datos del pokemon 'Pikachu', y si tenías/tienes alguno preferido dame sus datos también"
      ]
    },
    {
      "cell_type": "code",
      "source": [
        "sub_df.loc[sub_df['name']=='Pikachu']"
      ],
      "metadata": {
        "id": "NuZ6lfFjzTkU",
        "colab": {
          "base_uri": "https://localhost:8080/",
          "height": 193
        },
        "outputId": "0a7cd99c-72e1-4e41-a13f-894a7515bdaf"
      },
      "execution_count": null,
      "outputs": [
        {
          "output_type": "execute_result",
          "data": {
            "text/plain": [
              "       name    type_1     type_2  total  hp  attack  defense  sp.atk  sp.def  \\\n",
              "#                                                                              \n",
              "25  Pikachu  Electric  No type 2    320  35      55       40      50      50   \n",
              "\n",
              "    speed  generation  legendary  flag_type2  \n",
              "#                                             \n",
              "25     90           1      False           0  "
            ],
            "text/html": [
              "\n",
              "  <div id=\"df-68fc151a-f82f-4251-8b1e-58462e077bb7\">\n",
              "    <div class=\"colab-df-container\">\n",
              "      <div>\n",
              "<style scoped>\n",
              "    .dataframe tbody tr th:only-of-type {\n",
              "        vertical-align: middle;\n",
              "    }\n",
              "\n",
              "    .dataframe tbody tr th {\n",
              "        vertical-align: top;\n",
              "    }\n",
              "\n",
              "    .dataframe thead th {\n",
              "        text-align: right;\n",
              "    }\n",
              "</style>\n",
              "<table border=\"1\" class=\"dataframe\">\n",
              "  <thead>\n",
              "    <tr style=\"text-align: right;\">\n",
              "      <th></th>\n",
              "      <th>name</th>\n",
              "      <th>type_1</th>\n",
              "      <th>type_2</th>\n",
              "      <th>total</th>\n",
              "      <th>hp</th>\n",
              "      <th>attack</th>\n",
              "      <th>defense</th>\n",
              "      <th>sp.atk</th>\n",
              "      <th>sp.def</th>\n",
              "      <th>speed</th>\n",
              "      <th>generation</th>\n",
              "      <th>legendary</th>\n",
              "      <th>flag_type2</th>\n",
              "    </tr>\n",
              "    <tr>\n",
              "      <th>#</th>\n",
              "      <th></th>\n",
              "      <th></th>\n",
              "      <th></th>\n",
              "      <th></th>\n",
              "      <th></th>\n",
              "      <th></th>\n",
              "      <th></th>\n",
              "      <th></th>\n",
              "      <th></th>\n",
              "      <th></th>\n",
              "      <th></th>\n",
              "      <th></th>\n",
              "      <th></th>\n",
              "    </tr>\n",
              "  </thead>\n",
              "  <tbody>\n",
              "    <tr>\n",
              "      <th>25</th>\n",
              "      <td>Pikachu</td>\n",
              "      <td>Electric</td>\n",
              "      <td>No type 2</td>\n",
              "      <td>320</td>\n",
              "      <td>35</td>\n",
              "      <td>55</td>\n",
              "      <td>40</td>\n",
              "      <td>50</td>\n",
              "      <td>50</td>\n",
              "      <td>90</td>\n",
              "      <td>1</td>\n",
              "      <td>False</td>\n",
              "      <td>0</td>\n",
              "    </tr>\n",
              "  </tbody>\n",
              "</table>\n",
              "</div>\n",
              "      <button class=\"colab-df-convert\" onclick=\"convertToInteractive('df-68fc151a-f82f-4251-8b1e-58462e077bb7')\"\n",
              "              title=\"Convert this dataframe to an interactive table.\"\n",
              "              style=\"display:none;\">\n",
              "        \n",
              "  <svg xmlns=\"http://www.w3.org/2000/svg\" height=\"24px\"viewBox=\"0 0 24 24\"\n",
              "       width=\"24px\">\n",
              "    <path d=\"M0 0h24v24H0V0z\" fill=\"none\"/>\n",
              "    <path d=\"M18.56 5.44l.94 2.06.94-2.06 2.06-.94-2.06-.94-.94-2.06-.94 2.06-2.06.94zm-11 1L8.5 8.5l.94-2.06 2.06-.94-2.06-.94L8.5 2.5l-.94 2.06-2.06.94zm10 10l.94 2.06.94-2.06 2.06-.94-2.06-.94-.94-2.06-.94 2.06-2.06.94z\"/><path d=\"M17.41 7.96l-1.37-1.37c-.4-.4-.92-.59-1.43-.59-.52 0-1.04.2-1.43.59L10.3 9.45l-7.72 7.72c-.78.78-.78 2.05 0 2.83L4 21.41c.39.39.9.59 1.41.59.51 0 1.02-.2 1.41-.59l7.78-7.78 2.81-2.81c.8-.78.8-2.07 0-2.86zM5.41 20L4 18.59l7.72-7.72 1.47 1.35L5.41 20z\"/>\n",
              "  </svg>\n",
              "      </button>\n",
              "      \n",
              "  <style>\n",
              "    .colab-df-container {\n",
              "      display:flex;\n",
              "      flex-wrap:wrap;\n",
              "      gap: 12px;\n",
              "    }\n",
              "\n",
              "    .colab-df-convert {\n",
              "      background-color: #E8F0FE;\n",
              "      border: none;\n",
              "      border-radius: 50%;\n",
              "      cursor: pointer;\n",
              "      display: none;\n",
              "      fill: #1967D2;\n",
              "      height: 32px;\n",
              "      padding: 0 0 0 0;\n",
              "      width: 32px;\n",
              "    }\n",
              "\n",
              "    .colab-df-convert:hover {\n",
              "      background-color: #E2EBFA;\n",
              "      box-shadow: 0px 1px 2px rgba(60, 64, 67, 0.3), 0px 1px 3px 1px rgba(60, 64, 67, 0.15);\n",
              "      fill: #174EA6;\n",
              "    }\n",
              "\n",
              "    [theme=dark] .colab-df-convert {\n",
              "      background-color: #3B4455;\n",
              "      fill: #D2E3FC;\n",
              "    }\n",
              "\n",
              "    [theme=dark] .colab-df-convert:hover {\n",
              "      background-color: #434B5C;\n",
              "      box-shadow: 0px 1px 3px 1px rgba(0, 0, 0, 0.15);\n",
              "      filter: drop-shadow(0px 1px 2px rgba(0, 0, 0, 0.3));\n",
              "      fill: #FFFFFF;\n",
              "    }\n",
              "  </style>\n",
              "\n",
              "      <script>\n",
              "        const buttonEl =\n",
              "          document.querySelector('#df-68fc151a-f82f-4251-8b1e-58462e077bb7 button.colab-df-convert');\n",
              "        buttonEl.style.display =\n",
              "          google.colab.kernel.accessAllowed ? 'block' : 'none';\n",
              "\n",
              "        async function convertToInteractive(key) {\n",
              "          const element = document.querySelector('#df-68fc151a-f82f-4251-8b1e-58462e077bb7');\n",
              "          const dataTable =\n",
              "            await google.colab.kernel.invokeFunction('convertToInteractive',\n",
              "                                                     [key], {});\n",
              "          if (!dataTable) return;\n",
              "\n",
              "          const docLinkHtml = 'Like what you see? Visit the ' +\n",
              "            '<a target=\"_blank\" href=https://colab.research.google.com/notebooks/data_table.ipynb>data table notebook</a>'\n",
              "            + ' to learn more about interactive tables.';\n",
              "          element.innerHTML = '';\n",
              "          dataTable['output_type'] = 'display_data';\n",
              "          await google.colab.output.renderOutput(dataTable, element);\n",
              "          const docLink = document.createElement('div');\n",
              "          docLink.innerHTML = docLinkHtml;\n",
              "          element.appendChild(docLink);\n",
              "        }\n",
              "      </script>\n",
              "    </div>\n",
              "  </div>\n",
              "  "
            ]
          },
          "metadata": {},
          "execution_count": 47
        }
      ]
    },
    {
      "cell_type": "markdown",
      "metadata": {
        "id": "bEi2t7QHH6ED"
      },
      "source": [
        "25. Imprime las estadísticas básicas de los pokemons con type1 igual a Grass y type2 igual a Poison (que cumplan las dos condiciones), mediante la función .describe()"
      ]
    },
    {
      "cell_type": "code",
      "source": [
        "sub_df[(sub_df['type_1']=='Grass') & (sub_df['type_2']=='Poison')].describe()"
      ],
      "metadata": {
        "id": "dAstPYCTzUwB",
        "colab": {
          "base_uri": "https://localhost:8080/",
          "height": 364
        },
        "outputId": "d63a9a17-1c1d-41bd-b43b-ce17f17ffd5d"
      },
      "execution_count": null,
      "outputs": [
        {
          "output_type": "execute_result",
          "data": {
            "text/plain": [
              "            total          hp      attack    defense      sp.atk      sp.def  \\\n",
              "count   14.000000   14.000000   14.000000  14.000000   14.000000   14.000000   \n",
              "mean   399.000000   63.785714   68.428571  58.214286   84.642857   72.142857   \n",
              "std     86.842917   19.407289   19.492461  15.967171   21.073524   20.164161   \n",
              "min    280.000000   40.000000   30.000000  35.000000   50.000000   30.000000   \n",
              "25%    318.500000   50.000000   56.250000  46.000000   71.250000   65.000000   \n",
              "50%    397.500000   60.000000   67.500000  59.000000   85.000000   72.500000   \n",
              "75%    483.500000   73.500000   81.500000  68.750000  100.000000   80.000000   \n",
              "max    525.000000  114.000000  105.000000  85.000000  125.000000  105.000000   \n",
              "\n",
              "           speed  generation  flag_type2  \n",
              "count  14.000000   14.000000        14.0  \n",
              "mean   51.785714    2.142857         1.0  \n",
              "std    20.532071    1.657484         0.0  \n",
              "min    15.000000    1.000000         1.0  \n",
              "25%    40.000000    1.000000         1.0  \n",
              "50%    52.500000    1.000000         1.0  \n",
              "75%    63.750000    3.750000         1.0  \n",
              "max    90.000000    5.000000         1.0  "
            ],
            "text/html": [
              "\n",
              "  <div id=\"df-9fb0a8f3-e27f-4af2-994e-d047656415fd\">\n",
              "    <div class=\"colab-df-container\">\n",
              "      <div>\n",
              "<style scoped>\n",
              "    .dataframe tbody tr th:only-of-type {\n",
              "        vertical-align: middle;\n",
              "    }\n",
              "\n",
              "    .dataframe tbody tr th {\n",
              "        vertical-align: top;\n",
              "    }\n",
              "\n",
              "    .dataframe thead th {\n",
              "        text-align: right;\n",
              "    }\n",
              "</style>\n",
              "<table border=\"1\" class=\"dataframe\">\n",
              "  <thead>\n",
              "    <tr style=\"text-align: right;\">\n",
              "      <th></th>\n",
              "      <th>total</th>\n",
              "      <th>hp</th>\n",
              "      <th>attack</th>\n",
              "      <th>defense</th>\n",
              "      <th>sp.atk</th>\n",
              "      <th>sp.def</th>\n",
              "      <th>speed</th>\n",
              "      <th>generation</th>\n",
              "      <th>flag_type2</th>\n",
              "    </tr>\n",
              "  </thead>\n",
              "  <tbody>\n",
              "    <tr>\n",
              "      <th>count</th>\n",
              "      <td>14.000000</td>\n",
              "      <td>14.000000</td>\n",
              "      <td>14.000000</td>\n",
              "      <td>14.000000</td>\n",
              "      <td>14.000000</td>\n",
              "      <td>14.000000</td>\n",
              "      <td>14.000000</td>\n",
              "      <td>14.000000</td>\n",
              "      <td>14.0</td>\n",
              "    </tr>\n",
              "    <tr>\n",
              "      <th>mean</th>\n",
              "      <td>399.000000</td>\n",
              "      <td>63.785714</td>\n",
              "      <td>68.428571</td>\n",
              "      <td>58.214286</td>\n",
              "      <td>84.642857</td>\n",
              "      <td>72.142857</td>\n",
              "      <td>51.785714</td>\n",
              "      <td>2.142857</td>\n",
              "      <td>1.0</td>\n",
              "    </tr>\n",
              "    <tr>\n",
              "      <th>std</th>\n",
              "      <td>86.842917</td>\n",
              "      <td>19.407289</td>\n",
              "      <td>19.492461</td>\n",
              "      <td>15.967171</td>\n",
              "      <td>21.073524</td>\n",
              "      <td>20.164161</td>\n",
              "      <td>20.532071</td>\n",
              "      <td>1.657484</td>\n",
              "      <td>0.0</td>\n",
              "    </tr>\n",
              "    <tr>\n",
              "      <th>min</th>\n",
              "      <td>280.000000</td>\n",
              "      <td>40.000000</td>\n",
              "      <td>30.000000</td>\n",
              "      <td>35.000000</td>\n",
              "      <td>50.000000</td>\n",
              "      <td>30.000000</td>\n",
              "      <td>15.000000</td>\n",
              "      <td>1.000000</td>\n",
              "      <td>1.0</td>\n",
              "    </tr>\n",
              "    <tr>\n",
              "      <th>25%</th>\n",
              "      <td>318.500000</td>\n",
              "      <td>50.000000</td>\n",
              "      <td>56.250000</td>\n",
              "      <td>46.000000</td>\n",
              "      <td>71.250000</td>\n",
              "      <td>65.000000</td>\n",
              "      <td>40.000000</td>\n",
              "      <td>1.000000</td>\n",
              "      <td>1.0</td>\n",
              "    </tr>\n",
              "    <tr>\n",
              "      <th>50%</th>\n",
              "      <td>397.500000</td>\n",
              "      <td>60.000000</td>\n",
              "      <td>67.500000</td>\n",
              "      <td>59.000000</td>\n",
              "      <td>85.000000</td>\n",
              "      <td>72.500000</td>\n",
              "      <td>52.500000</td>\n",
              "      <td>1.000000</td>\n",
              "      <td>1.0</td>\n",
              "    </tr>\n",
              "    <tr>\n",
              "      <th>75%</th>\n",
              "      <td>483.500000</td>\n",
              "      <td>73.500000</td>\n",
              "      <td>81.500000</td>\n",
              "      <td>68.750000</td>\n",
              "      <td>100.000000</td>\n",
              "      <td>80.000000</td>\n",
              "      <td>63.750000</td>\n",
              "      <td>3.750000</td>\n",
              "      <td>1.0</td>\n",
              "    </tr>\n",
              "    <tr>\n",
              "      <th>max</th>\n",
              "      <td>525.000000</td>\n",
              "      <td>114.000000</td>\n",
              "      <td>105.000000</td>\n",
              "      <td>85.000000</td>\n",
              "      <td>125.000000</td>\n",
              "      <td>105.000000</td>\n",
              "      <td>90.000000</td>\n",
              "      <td>5.000000</td>\n",
              "      <td>1.0</td>\n",
              "    </tr>\n",
              "  </tbody>\n",
              "</table>\n",
              "</div>\n",
              "      <button class=\"colab-df-convert\" onclick=\"convertToInteractive('df-9fb0a8f3-e27f-4af2-994e-d047656415fd')\"\n",
              "              title=\"Convert this dataframe to an interactive table.\"\n",
              "              style=\"display:none;\">\n",
              "        \n",
              "  <svg xmlns=\"http://www.w3.org/2000/svg\" height=\"24px\"viewBox=\"0 0 24 24\"\n",
              "       width=\"24px\">\n",
              "    <path d=\"M0 0h24v24H0V0z\" fill=\"none\"/>\n",
              "    <path d=\"M18.56 5.44l.94 2.06.94-2.06 2.06-.94-2.06-.94-.94-2.06-.94 2.06-2.06.94zm-11 1L8.5 8.5l.94-2.06 2.06-.94-2.06-.94L8.5 2.5l-.94 2.06-2.06.94zm10 10l.94 2.06.94-2.06 2.06-.94-2.06-.94-.94-2.06-.94 2.06-2.06.94z\"/><path d=\"M17.41 7.96l-1.37-1.37c-.4-.4-.92-.59-1.43-.59-.52 0-1.04.2-1.43.59L10.3 9.45l-7.72 7.72c-.78.78-.78 2.05 0 2.83L4 21.41c.39.39.9.59 1.41.59.51 0 1.02-.2 1.41-.59l7.78-7.78 2.81-2.81c.8-.78.8-2.07 0-2.86zM5.41 20L4 18.59l7.72-7.72 1.47 1.35L5.41 20z\"/>\n",
              "  </svg>\n",
              "      </button>\n",
              "      \n",
              "  <style>\n",
              "    .colab-df-container {\n",
              "      display:flex;\n",
              "      flex-wrap:wrap;\n",
              "      gap: 12px;\n",
              "    }\n",
              "\n",
              "    .colab-df-convert {\n",
              "      background-color: #E8F0FE;\n",
              "      border: none;\n",
              "      border-radius: 50%;\n",
              "      cursor: pointer;\n",
              "      display: none;\n",
              "      fill: #1967D2;\n",
              "      height: 32px;\n",
              "      padding: 0 0 0 0;\n",
              "      width: 32px;\n",
              "    }\n",
              "\n",
              "    .colab-df-convert:hover {\n",
              "      background-color: #E2EBFA;\n",
              "      box-shadow: 0px 1px 2px rgba(60, 64, 67, 0.3), 0px 1px 3px 1px rgba(60, 64, 67, 0.15);\n",
              "      fill: #174EA6;\n",
              "    }\n",
              "\n",
              "    [theme=dark] .colab-df-convert {\n",
              "      background-color: #3B4455;\n",
              "      fill: #D2E3FC;\n",
              "    }\n",
              "\n",
              "    [theme=dark] .colab-df-convert:hover {\n",
              "      background-color: #434B5C;\n",
              "      box-shadow: 0px 1px 3px 1px rgba(0, 0, 0, 0.15);\n",
              "      filter: drop-shadow(0px 1px 2px rgba(0, 0, 0, 0.3));\n",
              "      fill: #FFFFFF;\n",
              "    }\n",
              "  </style>\n",
              "\n",
              "      <script>\n",
              "        const buttonEl =\n",
              "          document.querySelector('#df-9fb0a8f3-e27f-4af2-994e-d047656415fd button.colab-df-convert');\n",
              "        buttonEl.style.display =\n",
              "          google.colab.kernel.accessAllowed ? 'block' : 'none';\n",
              "\n",
              "        async function convertToInteractive(key) {\n",
              "          const element = document.querySelector('#df-9fb0a8f3-e27f-4af2-994e-d047656415fd');\n",
              "          const dataTable =\n",
              "            await google.colab.kernel.invokeFunction('convertToInteractive',\n",
              "                                                     [key], {});\n",
              "          if (!dataTable) return;\n",
              "\n",
              "          const docLinkHtml = 'Like what you see? Visit the ' +\n",
              "            '<a target=\"_blank\" href=https://colab.research.google.com/notebooks/data_table.ipynb>data table notebook</a>'\n",
              "            + ' to learn more about interactive tables.';\n",
              "          element.innerHTML = '';\n",
              "          dataTable['output_type'] = 'display_data';\n",
              "          await google.colab.output.renderOutput(dataTable, element);\n",
              "          const docLink = document.createElement('div');\n",
              "          docLink.innerHTML = docLinkHtml;\n",
              "          element.appendChild(docLink);\n",
              "        }\n",
              "      </script>\n",
              "    </div>\n",
              "  </div>\n",
              "  "
            ]
          },
          "metadata": {},
          "execution_count": 48
        }
      ]
    },
    {
      "cell_type": "markdown",
      "metadata": {
        "id": "fhcEyFMJIXzB"
      },
      "source": [
        "26. Imprime un scatter plot de la rapidez (speed) versus el ataque (attack)."
      ]
    },
    {
      "cell_type": "code",
      "source": [
        "import matplotlib.pyplot as plt\n",
        "plt.scatter(sub_df['attack'], sub_df['speed'])"
      ],
      "metadata": {
        "id": "iziyo7ZGzXOC",
        "colab": {
          "base_uri": "https://localhost:8080/",
          "height": 448
        },
        "outputId": "33998130-c597-498f-de28-f59796c6bad1"
      },
      "execution_count": null,
      "outputs": [
        {
          "output_type": "execute_result",
          "data": {
            "text/plain": [
              "<matplotlib.collections.PathCollection at 0x7f073c15f490>"
            ]
          },
          "metadata": {},
          "execution_count": 49
        },
        {
          "output_type": "display_data",
          "data": {
            "text/plain": [
              "<Figure size 640x480 with 1 Axes>"
            ],
            "image/png": "[encoded data removed]"
          },
          "metadata": {}
        }
      ]
    },
    {
      "cell_type": "markdown",
      "metadata": {
        "id": "10kqv5pND5hh"
      },
      "source": [
        "27. Muestra las distintas generaciones que encontramos en el dataframe sub_df"
      ]
    },
    {
      "cell_type": "code",
      "source": [
        "sub_df['generation'].value_counts()"
      ],
      "metadata": {
        "id": "UmCCVZ-Vr8mz",
        "colab": {
          "base_uri": "https://localhost:8080/"
        },
        "outputId": "8d6ebb35-f485-4dd4-eeb2-ac88063382ff"
      },
      "execution_count": null,
      "outputs": [
        {
          "output_type": "execute_result",
          "data": {
            "text/plain": [
              "5    156\n",
              "1    151\n",
              "3    135\n",
              "4    107\n",
              "2    100\n",
              "6     72\n",
              "Name: generation, dtype: int64"
            ]
          },
          "metadata": {},
          "execution_count": 50
        }
      ]
    }
  ]
}