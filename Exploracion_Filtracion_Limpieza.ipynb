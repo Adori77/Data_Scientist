{
  "nbformat": 4,
  "nbformat_minor": 0,
  "metadata": {
    "colab": {
      "provenance": []
    },
    "kernelspec": {
      "name": "python3",
      "display_name": "Python 3"
    },
    "language_info": {
      "name": "python"
    }
  },
  "cells": [
    {
      "cell_type": "markdown",
      "metadata": {
        "id": "dAKmLzMn3VuK"
      },
      "source": [
        "# ACTIVIDADES FINALES MÓDULO 1\n"
      ]
    },
    {
      "cell_type": "markdown",
      "metadata": {
        "id": "WgMPkzxfG76y"
      },
      "source": [
        "Para hacer estas actividades finales usaremos un Dataset que contiene las notas en examenes y homework de un grupo de alumnos. Usa la siguiente url en la función de pandas pd.read_csv para obtener el dataframe: https://raw.githubusercontent.com/realpython/materials/master/pandas-gradebook-project/data/hw_exam_grades.csv"
      ]
    },
    {
      "cell_type": "markdown",
      "metadata": {
        "id": "fI7vVahBILK9"
      },
      "source": [
        "1. Importa la librería de Pandas"
      ]
    },
    {
      "cell_type": "code",
      "metadata": {
        "id": "FUvd7yGiG7kG"
      },
      "source": [
        "import pandas as pd"
      ],
      "execution_count": null,
      "outputs": []
    },
    {
      "cell_type": "markdown",
      "metadata": {
        "id": "Da_lH2uFINgn"
      },
      "source": [
        "2. Importa el dataframe de la url mencionada en la introducción y guárdalo en una variable llamada df"
      ]
    },
    {
      "cell_type": "code",
      "metadata": {
        "id": "q7XViyUxINLS"
      },
      "source": [
        "df = pd.read_csv('https://raw.githubusercontent.com/realpython/materials/master/pandas-gradebook-project/data/hw_exam_grades.csv')"
      ],
      "execution_count": null,
      "outputs": []
    },
    {
      "cell_type": "markdown",
      "metadata": {
        "id": "n2tPu8vdI5x5"
      },
      "source": [
        "3. Aplica la función head para ver las primeras líneas de nuestro dataframe"
      ]
    },
    {
      "cell_type": "code",
      "metadata": {
        "id": "vZ0d0aD3IrQj",
        "colab": {
          "base_uri": "https://localhost:8080/",
          "height": 525
        },
        "outputId": "fba0f8d2-4c50-4491-b2ba-2f36fd38d0a6"
      },
      "source": [
        "df.head()"
      ],
      "execution_count": null,
      "outputs": [
        {
          "output_type": "execute_result",
          "data": {
            "text/plain": [
              "  First Name  Last Name       SID  Homework 1  Homework 1 - Max Points  \\\n",
              "0      Aaron     Lester  axl60952        68.0                       80   \n",
              "1       Adam     Cooper  amc28428        80.0                       80   \n",
              "2       Alec      Curry  axc64717        69.0                       80   \n",
              "3  Alexander  Rodriguez  akr14831        50.0                       80   \n",
              "4      Amber    Daniels  axd11293        54.0                       80   \n",
              "\n",
              "  Homework 1 - Submission Time  Homework 2  Homework 2 - Max Points  \\\n",
              "0    2019-08-29 08:56:02-07:00          74                       80   \n",
              "1    2019-08-29 08:56:02-07:00          78                       80   \n",
              "2    2019-08-29 08:56:02-07:00          76                       80   \n",
              "3    2019-08-29 08:56:02-07:00          54                       80   \n",
              "4    2019-08-29 08:56:02-07:00          57                       80   \n",
              "\n",
              "  Homework 2 - Submission Time  Homework 3  ...  \\\n",
              "0    2019-09-05 08:56:02-07:00          77  ...   \n",
              "1    2019-09-05 08:56:02-07:00          78  ...   \n",
              "2    2019-09-05 08:56:02-07:00          66  ...   \n",
              "3    2019-09-05 08:56:02-07:00          74  ...   \n",
              "4    2019-09-05 08:56:02-07:00          77  ...   \n",
              "\n",
              "   Homework 10 - Submission Time Exam 1  Exam 1 - Max Points  \\\n",
              "0      2019-10-31 08:56:02-07:00     79                  100   \n",
              "1      2019-10-31 08:56:02-07:00     65                  100   \n",
              "2      2019-10-31 08:56:02-07:00     65                  100   \n",
              "3      2019-10-31 08:56:02-07:00     97                  100   \n",
              "4      2019-10-31 08:56:02-07:00     68                  100   \n",
              "\n",
              "    Exam 1 - Submission Time Exam 2  Exam 2 - Max Points  \\\n",
              "0  2019-10-08 12:30:07-07:00     63                  100   \n",
              "1  2019-10-08 12:30:07-07:00     63                  100   \n",
              "2  2019-10-08 12:30:07-07:00     78                  100   \n",
              "3  2019-10-08 12:30:07-07:00     97                  100   \n",
              "4  2019-10-08 12:30:07-07:00     95                  100   \n",
              "\n",
              "    Exam 2 - Submission Time Exam 3  Exam 3 - Max Points  \\\n",
              "0  2019-11-08 12:30:07-07:00     68                  100   \n",
              "1  2019-11-08 12:30:07-07:00     90                  100   \n",
              "2  2019-11-08 12:30:07-07:00     83                  100   \n",
              "3  2019-11-08 12:30:07-07:00     81                  100   \n",
              "4  2019-11-08 12:30:07-07:00     88                  100   \n",
              "\n",
              "    Exam 3 - Submission Time  \n",
              "0  2019-12-08 12:30:07-07:00  \n",
              "1  2019-12-08 12:30:07-07:00  \n",
              "2  2019-12-08 12:30:07-07:00  \n",
              "3  2019-12-08 12:30:07-07:00  \n",
              "4  2019-12-08 12:30:07-07:00  \n",
              "\n",
              "[5 rows x 42 columns]"
            ],
            "text/html": [
              "\n",
              "  <div id=\"df-9d460ddb-8551-4235-ba6f-e3b89d56a094\">\n",
              "    <div class=\"colab-df-container\">\n",
              "      <div>\n",
              "<style scoped>\n",
              "    .dataframe tbody tr th:only-of-type {\n",
              "        vertical-align: middle;\n",
              "    }\n",
              "\n",
              "    .dataframe tbody tr th {\n",
              "        vertical-align: top;\n",
              "    }\n",
              "\n",
              "    .dataframe thead th {\n",
              "        text-align: right;\n",
              "    }\n",
              "</style>\n",
              "<table border=\"1\" class=\"dataframe\">\n",
              "  <thead>\n",
              "    <tr style=\"text-align: right;\">\n",
              "      <th></th>\n",
              "      <th>First Name</th>\n",
              "      <th>Last Name</th>\n",
              "      <th>SID</th>\n",
              "      <th>Homework 1</th>\n",
              "      <th>Homework 1 - Max Points</th>\n",
              "      <th>Homework 1 - Submission Time</th>\n",
              "      <th>Homework 2</th>\n",
              "      <th>Homework 2 - Max Points</th>\n",
              "      <th>Homework 2 - Submission Time</th>\n",
              "      <th>Homework 3</th>\n",
              "      <th>...</th>\n",
              "      <th>Homework 10 - Submission Time</th>\n",
              "      <th>Exam 1</th>\n",
              "      <th>Exam 1 - Max Points</th>\n",
              "      <th>Exam 1 - Submission Time</th>\n",
              "      <th>Exam 2</th>\n",
              "      <th>Exam 2 - Max Points</th>\n",
              "      <th>Exam 2 - Submission Time</th>\n",
              "      <th>Exam 3</th>\n",
              "      <th>Exam 3 - Max Points</th>\n",
              "      <th>Exam 3 - Submission Time</th>\n",
              "    </tr>\n",
              "  </thead>\n",
              "  <tbody>\n",
              "    <tr>\n",
              "      <th>0</th>\n",
              "      <td>Aaron</td>\n",
              "      <td>Lester</td>\n",
              "      <td>axl60952</td>\n",
              "      <td>68.0</td>\n",
              "      <td>80</td>\n",
              "      <td>2019-08-29 08:56:02-07:00</td>\n",
              "      <td>74</td>\n",
              "      <td>80</td>\n",
              "      <td>2019-09-05 08:56:02-07:00</td>\n",
              "      <td>77</td>\n",
              "      <td>...</td>\n",
              "      <td>2019-10-31 08:56:02-07:00</td>\n",
              "      <td>79</td>\n",
              "      <td>100</td>\n",
              "      <td>2019-10-08 12:30:07-07:00</td>\n",
              "      <td>63</td>\n",
              "      <td>100</td>\n",
              "      <td>2019-11-08 12:30:07-07:00</td>\n",
              "      <td>68</td>\n",
              "      <td>100</td>\n",
              "      <td>2019-12-08 12:30:07-07:00</td>\n",
              "    </tr>\n",
              "    <tr>\n",
              "      <th>1</th>\n",
              "      <td>Adam</td>\n",
              "      <td>Cooper</td>\n",
              "      <td>amc28428</td>\n",
              "      <td>80.0</td>\n",
              "      <td>80</td>\n",
              "      <td>2019-08-29 08:56:02-07:00</td>\n",
              "      <td>78</td>\n",
              "      <td>80</td>\n",
              "      <td>2019-09-05 08:56:02-07:00</td>\n",
              "      <td>78</td>\n",
              "      <td>...</td>\n",
              "      <td>2019-10-31 08:56:02-07:00</td>\n",
              "      <td>65</td>\n",
              "      <td>100</td>\n",
              "      <td>2019-10-08 12:30:07-07:00</td>\n",
              "      <td>63</td>\n",
              "      <td>100</td>\n",
              "      <td>2019-11-08 12:30:07-07:00</td>\n",
              "      <td>90</td>\n",
              "      <td>100</td>\n",
              "      <td>2019-12-08 12:30:07-07:00</td>\n",
              "    </tr>\n",
              "    <tr>\n",
              "      <th>2</th>\n",
              "      <td>Alec</td>\n",
              "      <td>Curry</td>\n",
              "      <td>axc64717</td>\n",
              "      <td>69.0</td>\n",
              "      <td>80</td>\n",
              "      <td>2019-08-29 08:56:02-07:00</td>\n",
              "      <td>76</td>\n",
              "      <td>80</td>\n",
              "      <td>2019-09-05 08:56:02-07:00</td>\n",
              "      <td>66</td>\n",
              "      <td>...</td>\n",
              "      <td>2019-10-31 08:56:02-07:00</td>\n",
              "      <td>65</td>\n",
              "      <td>100</td>\n",
              "      <td>2019-10-08 12:30:07-07:00</td>\n",
              "      <td>78</td>\n",
              "      <td>100</td>\n",
              "      <td>2019-11-08 12:30:07-07:00</td>\n",
              "      <td>83</td>\n",
              "      <td>100</td>\n",
              "      <td>2019-12-08 12:30:07-07:00</td>\n",
              "    </tr>\n",
              "    <tr>\n",
              "      <th>3</th>\n",
              "      <td>Alexander</td>\n",
              "      <td>Rodriguez</td>\n",
              "      <td>akr14831</td>\n",
              "      <td>50.0</td>\n",
              "      <td>80</td>\n",
              "      <td>2019-08-29 08:56:02-07:00</td>\n",
              "      <td>54</td>\n",
              "      <td>80</td>\n",
              "      <td>2019-09-05 08:56:02-07:00</td>\n",
              "      <td>74</td>\n",
              "      <td>...</td>\n",
              "      <td>2019-10-31 08:56:02-07:00</td>\n",
              "      <td>97</td>\n",
              "      <td>100</td>\n",
              "      <td>2019-10-08 12:30:07-07:00</td>\n",
              "      <td>97</td>\n",
              "      <td>100</td>\n",
              "      <td>2019-11-08 12:30:07-07:00</td>\n",
              "      <td>81</td>\n",
              "      <td>100</td>\n",
              "      <td>2019-12-08 12:30:07-07:00</td>\n",
              "    </tr>\n",
              "    <tr>\n",
              "      <th>4</th>\n",
              "      <td>Amber</td>\n",
              "      <td>Daniels</td>\n",
              "      <td>axd11293</td>\n",
              "      <td>54.0</td>\n",
              "      <td>80</td>\n",
              "      <td>2019-08-29 08:56:02-07:00</td>\n",
              "      <td>57</td>\n",
              "      <td>80</td>\n",
              "      <td>2019-09-05 08:56:02-07:00</td>\n",
              "      <td>77</td>\n",
              "      <td>...</td>\n",
              "      <td>2019-10-31 08:56:02-07:00</td>\n",
              "      <td>68</td>\n",
              "      <td>100</td>\n",
              "      <td>2019-10-08 12:30:07-07:00</td>\n",
              "      <td>95</td>\n",
              "      <td>100</td>\n",
              "      <td>2019-11-08 12:30:07-07:00</td>\n",
              "      <td>88</td>\n",
              "      <td>100</td>\n",
              "      <td>2019-12-08 12:30:07-07:00</td>\n",
              "    </tr>\n",
              "  </tbody>\n",
              "</table>\n",
              "<p>5 rows × 42 columns</p>\n",
              "</div>\n",
              "      <button class=\"colab-df-convert\" onclick=\"convertToInteractive('df-9d460ddb-8551-4235-ba6f-e3b89d56a094')\"\n",
              "              title=\"Convert this dataframe to an interactive table.\"\n",
              "              style=\"display:none;\">\n",
              "        \n",
              "  <svg xmlns=\"http://www.w3.org/2000/svg\" height=\"24px\"viewBox=\"0 0 24 24\"\n",
              "       width=\"24px\">\n",
              "    <path d=\"M0 0h24v24H0V0z\" fill=\"none\"/>\n",
              "    <path d=\"M18.56 5.44l.94 2.06.94-2.06 2.06-.94-2.06-.94-.94-2.06-.94 2.06-2.06.94zm-11 1L8.5 8.5l.94-2.06 2.06-.94-2.06-.94L8.5 2.5l-.94 2.06-2.06.94zm10 10l.94 2.06.94-2.06 2.06-.94-2.06-.94-.94-2.06-.94 2.06-2.06.94z\"/><path d=\"M17.41 7.96l-1.37-1.37c-.4-.4-.92-.59-1.43-.59-.52 0-1.04.2-1.43.59L10.3 9.45l-7.72 7.72c-.78.78-.78 2.05 0 2.83L4 21.41c.39.39.9.59 1.41.59.51 0 1.02-.2 1.41-.59l7.78-7.78 2.81-2.81c.8-.78.8-2.07 0-2.86zM5.41 20L4 18.59l7.72-7.72 1.47 1.35L5.41 20z\"/>\n",
              "  </svg>\n",
              "      </button>\n",
              "      \n",
              "  <style>\n",
              "    .colab-df-container {\n",
              "      display:flex;\n",
              "      flex-wrap:wrap;\n",
              "      gap: 12px;\n",
              "    }\n",
              "\n",
              "    .colab-df-convert {\n",
              "      background-color: #E8F0FE;\n",
              "      border: none;\n",
              "      border-radius: 50%;\n",
              "      cursor: pointer;\n",
              "      display: none;\n",
              "      fill: #1967D2;\n",
              "      height: 32px;\n",
              "      padding: 0 0 0 0;\n",
              "      width: 32px;\n",
              "    }\n",
              "\n",
              "    .colab-df-convert:hover {\n",
              "      background-color: #E2EBFA;\n",
              "      box-shadow: 0px 1px 2px rgba(60, 64, 67, 0.3), 0px 1px 3px 1px rgba(60, 64, 67, 0.15);\n",
              "      fill: #174EA6;\n",
              "    }\n",
              "\n",
              "    [theme=dark] .colab-df-convert {\n",
              "      background-color: #3B4455;\n",
              "      fill: #D2E3FC;\n",
              "    }\n",
              "\n",
              "    [theme=dark] .colab-df-convert:hover {\n",
              "      background-color: #434B5C;\n",
              "      box-shadow: 0px 1px 3px 1px rgba(0, 0, 0, 0.15);\n",
              "      filter: drop-shadow(0px 1px 2px rgba(0, 0, 0, 0.3));\n",
              "      fill: #FFFFFF;\n",
              "    }\n",
              "  </style>\n",
              "\n",
              "      <script>\n",
              "        const buttonEl =\n",
              "          document.querySelector('#df-9d460ddb-8551-4235-ba6f-e3b89d56a094 button.colab-df-convert');\n",
              "        buttonEl.style.display =\n",
              "          google.colab.kernel.accessAllowed ? 'block' : 'none';\n",
              "\n",
              "        async function convertToInteractive(key) {\n",
              "          const element = document.querySelector('#df-9d460ddb-8551-4235-ba6f-e3b89d56a094');\n",
              "          const dataTable =\n",
              "            await google.colab.kernel.invokeFunction('convertToInteractive',\n",
              "                                                     [key], {});\n",
              "          if (!dataTable) return;\n",
              "\n",
              "          const docLinkHtml = 'Like what you see? Visit the ' +\n",
              "            '<a target=\"_blank\" href=https://colab.research.google.com/notebooks/data_table.ipynb>data table notebook</a>'\n",
              "            + ' to learn more about interactive tables.';\n",
              "          element.innerHTML = '';\n",
              "          dataTable['output_type'] = 'display_data';\n",
              "          await google.colab.output.renderOutput(dataTable, element);\n",
              "          const docLink = document.createElement('div');\n",
              "          docLink.innerHTML = docLinkHtml;\n",
              "          element.appendChild(docLink);\n",
              "        }\n",
              "      </script>\n",
              "    </div>\n",
              "  </div>\n",
              "  "
            ]
          },
          "metadata": {},
          "execution_count": 3
        }
      ]
    },
    {
      "cell_type": "markdown",
      "metadata": {
        "id": "gxbdBdLwJPUf"
      },
      "source": [
        "4. Trabajaremos solo con algunas de las columnas de df. Crea un dataframe llamado gradebook que contenga las siguientes columnas de df: First Name, Last Name, SID, Homework 1, Homework 2, Homework 3, Exam 1, Exam 2\n",
        "\n",
        "Aplica la función .head() a gradebook para verificar que esté correcto"
      ]
    },
    {
      "cell_type": "code",
      "metadata": {
        "id": "NdW1P-ZbItlC"
      },
      "source": [
        "gradebook = df[['First Name', 'Last Name', 'SID', 'Homework 1', 'Homework 2', 'Homework 3', 'Exam 1', 'Exam 2']]"
      ],
      "execution_count": null,
      "outputs": []
    },
    {
      "cell_type": "code",
      "source": [
        "gradebook.head()"
      ],
      "metadata": {
        "colab": {
          "base_uri": "https://localhost:8080/",
          "height": 206
        },
        "id": "J3C0CWYGoJ8m",
        "outputId": "d7d1af68-6db9-47d3-d77b-d63595ac8456"
      },
      "execution_count": null,
      "outputs": [
        {
          "output_type": "execute_result",
          "data": {
            "text/plain": [
              "  First Name  Last Name       SID  Homework 1  Homework 2  Homework 3  Exam 1  \\\n",
              "0      Aaron     Lester  axl60952        68.0          74          77      79   \n",
              "1       Adam     Cooper  amc28428        80.0          78          78      65   \n",
              "2       Alec      Curry  axc64717        69.0          76          66      65   \n",
              "3  Alexander  Rodriguez  akr14831        50.0          54          74      97   \n",
              "4      Amber    Daniels  axd11293        54.0          57          77      68   \n",
              "\n",
              "   Exam 2  \n",
              "0      63  \n",
              "1      63  \n",
              "2      78  \n",
              "3      97  \n",
              "4      95  "
            ],
            "text/html": [
              "\n",
              "  <div id=\"df-89d2f62d-2bc8-45b5-81fa-abe40f3fcc9f\">\n",
              "    <div class=\"colab-df-container\">\n",
              "      <div>\n",
              "<style scoped>\n",
              "    .dataframe tbody tr th:only-of-type {\n",
              "        vertical-align: middle;\n",
              "    }\n",
              "\n",
              "    .dataframe tbody tr th {\n",
              "        vertical-align: top;\n",
              "    }\n",
              "\n",
              "    .dataframe thead th {\n",
              "        text-align: right;\n",
              "    }\n",
              "</style>\n",
              "<table border=\"1\" class=\"dataframe\">\n",
              "  <thead>\n",
              "    <tr style=\"text-align: right;\">\n",
              "      <th></th>\n",
              "      <th>First Name</th>\n",
              "      <th>Last Name</th>\n",
              "      <th>SID</th>\n",
              "      <th>Homework 1</th>\n",
              "      <th>Homework 2</th>\n",
              "      <th>Homework 3</th>\n",
              "      <th>Exam 1</th>\n",
              "      <th>Exam 2</th>\n",
              "    </tr>\n",
              "  </thead>\n",
              "  <tbody>\n",
              "    <tr>\n",
              "      <th>0</th>\n",
              "      <td>Aaron</td>\n",
              "      <td>Lester</td>\n",
              "      <td>axl60952</td>\n",
              "      <td>68.0</td>\n",
              "      <td>74</td>\n",
              "      <td>77</td>\n",
              "      <td>79</td>\n",
              "      <td>63</td>\n",
              "    </tr>\n",
              "    <tr>\n",
              "      <th>1</th>\n",
              "      <td>Adam</td>\n",
              "      <td>Cooper</td>\n",
              "      <td>amc28428</td>\n",
              "      <td>80.0</td>\n",
              "      <td>78</td>\n",
              "      <td>78</td>\n",
              "      <td>65</td>\n",
              "      <td>63</td>\n",
              "    </tr>\n",
              "    <tr>\n",
              "      <th>2</th>\n",
              "      <td>Alec</td>\n",
              "      <td>Curry</td>\n",
              "      <td>axc64717</td>\n",
              "      <td>69.0</td>\n",
              "      <td>76</td>\n",
              "      <td>66</td>\n",
              "      <td>65</td>\n",
              "      <td>78</td>\n",
              "    </tr>\n",
              "    <tr>\n",
              "      <th>3</th>\n",
              "      <td>Alexander</td>\n",
              "      <td>Rodriguez</td>\n",
              "      <td>akr14831</td>\n",
              "      <td>50.0</td>\n",
              "      <td>54</td>\n",
              "      <td>74</td>\n",
              "      <td>97</td>\n",
              "      <td>97</td>\n",
              "    </tr>\n",
              "    <tr>\n",
              "      <th>4</th>\n",
              "      <td>Amber</td>\n",
              "      <td>Daniels</td>\n",
              "      <td>axd11293</td>\n",
              "      <td>54.0</td>\n",
              "      <td>57</td>\n",
              "      <td>77</td>\n",
              "      <td>68</td>\n",
              "      <td>95</td>\n",
              "    </tr>\n",
              "  </tbody>\n",
              "</table>\n",
              "</div>\n",
              "      <button class=\"colab-df-convert\" onclick=\"convertToInteractive('df-89d2f62d-2bc8-45b5-81fa-abe40f3fcc9f')\"\n",
              "              title=\"Convert this dataframe to an interactive table.\"\n",
              "              style=\"display:none;\">\n",
              "        \n",
              "  <svg xmlns=\"http://www.w3.org/2000/svg\" height=\"24px\"viewBox=\"0 0 24 24\"\n",
              "       width=\"24px\">\n",
              "    <path d=\"M0 0h24v24H0V0z\" fill=\"none\"/>\n",
              "    <path d=\"M18.56 5.44l.94 2.06.94-2.06 2.06-.94-2.06-.94-.94-2.06-.94 2.06-2.06.94zm-11 1L8.5 8.5l.94-2.06 2.06-.94-2.06-.94L8.5 2.5l-.94 2.06-2.06.94zm10 10l.94 2.06.94-2.06 2.06-.94-2.06-.94-.94-2.06-.94 2.06-2.06.94z\"/><path d=\"M17.41 7.96l-1.37-1.37c-.4-.4-.92-.59-1.43-.59-.52 0-1.04.2-1.43.59L10.3 9.45l-7.72 7.72c-.78.78-.78 2.05 0 2.83L4 21.41c.39.39.9.59 1.41.59.51 0 1.02-.2 1.41-.59l7.78-7.78 2.81-2.81c.8-.78.8-2.07 0-2.86zM5.41 20L4 18.59l7.72-7.72 1.47 1.35L5.41 20z\"/>\n",
              "  </svg>\n",
              "      </button>\n",
              "      \n",
              "  <style>\n",
              "    .colab-df-container {\n",
              "      display:flex;\n",
              "      flex-wrap:wrap;\n",
              "      gap: 12px;\n",
              "    }\n",
              "\n",
              "    .colab-df-convert {\n",
              "      background-color: #E8F0FE;\n",
              "      border: none;\n",
              "      border-radius: 50%;\n",
              "      cursor: pointer;\n",
              "      display: none;\n",
              "      fill: #1967D2;\n",
              "      height: 32px;\n",
              "      padding: 0 0 0 0;\n",
              "      width: 32px;\n",
              "    }\n",
              "\n",
              "    .colab-df-convert:hover {\n",
              "      background-color: #E2EBFA;\n",
              "      box-shadow: 0px 1px 2px rgba(60, 64, 67, 0.3), 0px 1px 3px 1px rgba(60, 64, 67, 0.15);\n",
              "      fill: #174EA6;\n",
              "    }\n",
              "\n",
              "    [theme=dark] .colab-df-convert {\n",
              "      background-color: #3B4455;\n",
              "      fill: #D2E3FC;\n",
              "    }\n",
              "\n",
              "    [theme=dark] .colab-df-convert:hover {\n",
              "      background-color: #434B5C;\n",
              "      box-shadow: 0px 1px 3px 1px rgba(0, 0, 0, 0.15);\n",
              "      filter: drop-shadow(0px 1px 2px rgba(0, 0, 0, 0.3));\n",
              "      fill: #FFFFFF;\n",
              "    }\n",
              "  </style>\n",
              "\n",
              "      <script>\n",
              "        const buttonEl =\n",
              "          document.querySelector('#df-89d2f62d-2bc8-45b5-81fa-abe40f3fcc9f button.colab-df-convert');\n",
              "        buttonEl.style.display =\n",
              "          google.colab.kernel.accessAllowed ? 'block' : 'none';\n",
              "\n",
              "        async function convertToInteractive(key) {\n",
              "          const element = document.querySelector('#df-89d2f62d-2bc8-45b5-81fa-abe40f3fcc9f');\n",
              "          const dataTable =\n",
              "            await google.colab.kernel.invokeFunction('convertToInteractive',\n",
              "                                                     [key], {});\n",
              "          if (!dataTable) return;\n",
              "\n",
              "          const docLinkHtml = 'Like what you see? Visit the ' +\n",
              "            '<a target=\"_blank\" href=https://colab.research.google.com/notebooks/data_table.ipynb>data table notebook</a>'\n",
              "            + ' to learn more about interactive tables.';\n",
              "          element.innerHTML = '';\n",
              "          dataTable['output_type'] = 'display_data';\n",
              "          await google.colab.output.renderOutput(dataTable, element);\n",
              "          const docLink = document.createElement('div');\n",
              "          docLink.innerHTML = docLinkHtml;\n",
              "          element.appendChild(docLink);\n",
              "        }\n",
              "      </script>\n",
              "    </div>\n",
              "  </div>\n",
              "  "
            ]
          },
          "metadata": {},
          "execution_count": 5
        }
      ]
    },
    {
      "cell_type": "markdown",
      "metadata": {
        "id": "fgb1jX8gKh3m"
      },
      "source": [
        "A partir de ahora, a no ser que se especificara la contrario, trabajaremos siempre con el dataframe gradebook."
      ]
    },
    {
      "cell_type": "markdown",
      "metadata": {
        "id": "OFb43sYDL7Vh"
      },
      "source": [
        "5. Encuentra cuántas filas y columnas tiene gradebook mediante la función shape"
      ]
    },
    {
      "cell_type": "markdown",
      "source": [
        "Tiene 150 filas, 8 columnas"
      ],
      "metadata": {
        "id": "TeG-b5rvoXoO"
      }
    },
    {
      "cell_type": "code",
      "metadata": {
        "id": "_3RuFsBfL_I5",
        "colab": {
          "base_uri": "https://localhost:8080/"
        },
        "outputId": "20c975d2-e6a8-45f8-eab6-c61ea7325416"
      },
      "source": [
        "gradebook.shape"
      ],
      "execution_count": null,
      "outputs": [
        {
          "output_type": "execute_result",
          "data": {
            "text/plain": [
              "(150, 8)"
            ]
          },
          "metadata": {},
          "execution_count": 6
        }
      ]
    },
    {
      "cell_type": "markdown",
      "metadata": {
        "id": "bkc9tBIHMG39"
      },
      "source": [
        "6. Obtén la información básica del dataframe mediante la función info. Fíjate en si hay alguna columna con elementos nulos y de que tipo son los datos de cada columna."
      ]
    },
    {
      "cell_type": "code",
      "metadata": {
        "id": "psnUvljQMKJj",
        "colab": {
          "base_uri": "https://localhost:8080/"
        },
        "outputId": "880fa95c-90e7-4c49-a2db-f600c9516e1b"
      },
      "source": [
        "gradebook.info()"
      ],
      "execution_count": null,
      "outputs": [
        {
          "output_type": "stream",
          "name": "stdout",
          "text": [
            "<class 'pandas.core.frame.DataFrame'>\n",
            "RangeIndex: 150 entries, 0 to 149\n",
            "Data columns (total 8 columns):\n",
            " #   Column      Non-Null Count  Dtype  \n",
            "---  ------      --------------  -----  \n",
            " 0   First Name  150 non-null    object \n",
            " 1   Last Name   150 non-null    object \n",
            " 2   SID         150 non-null    object \n",
            " 3   Homework 1  149 non-null    float64\n",
            " 4   Homework 2  150 non-null    int64  \n",
            " 5   Homework 3  150 non-null    int64  \n",
            " 6   Exam 1      150 non-null    int64  \n",
            " 7   Exam 2      150 non-null    int64  \n",
            "dtypes: float64(1), int64(4), object(3)\n",
            "memory usage: 9.5+ KB\n"
          ]
        }
      ]
    },
    {
      "cell_type": "markdown",
      "source": [
        "Homework 1 tiene 1 dato tipo NULL\n",
        "\n",
        "\n",
        "*   First Name, Last Name, SID: tipo object\n",
        "*   Homework 1: tipo float\n",
        "*   Homework 2, Homework 3, Exam 1, Exam 2: tipo int\n",
        "\n",
        "\n",
        "\n",
        "\n"
      ],
      "metadata": {
        "id": "gsH_IhDnoq9t"
      }
    },
    {
      "cell_type": "markdown",
      "metadata": {
        "id": "PJEarhqOKhx0"
      },
      "source": [
        "7. Vamos a limpiar los nombres de las columnas: pon todos los nombres en minúsculas y que no contengan espacios."
      ]
    },
    {
      "cell_type": "code",
      "metadata": {
        "id": "AidjGtw3KW1G"
      },
      "source": [
        "gradebook.columns = ['first_name', 'last_name', 'sid', 'homework_1', 'homework_2', 'homework_3', 'exam_1', 'exam_2']"
      ],
      "execution_count": null,
      "outputs": []
    },
    {
      "cell_type": "code",
      "source": [
        "#Comprobar que si cambiaron los nombres\n",
        "gradebook.head()"
      ],
      "metadata": {
        "colab": {
          "base_uri": "https://localhost:8080/",
          "height": 206
        },
        "id": "MB-4JCM9qIYp",
        "outputId": "f0109f77-4c46-427f-b86c-549ccc207140"
      },
      "execution_count": null,
      "outputs": [
        {
          "output_type": "execute_result",
          "data": {
            "text/plain": [
              "  first_name  last_name       sid  homework_1  homework_2  homework_3  exam_1  \\\n",
              "0      Aaron     Lester  axl60952        68.0          74          77      79   \n",
              "1       Adam     Cooper  amc28428        80.0          78          78      65   \n",
              "2       Alec      Curry  axc64717        69.0          76          66      65   \n",
              "3  Alexander  Rodriguez  akr14831        50.0          54          74      97   \n",
              "4      Amber    Daniels  axd11293        54.0          57          77      68   \n",
              "\n",
              "   exam_2  \n",
              "0      63  \n",
              "1      63  \n",
              "2      78  \n",
              "3      97  \n",
              "4      95  "
            ],
            "text/html": [
              "\n",
              "  <div id=\"df-a964ad73-726e-4caf-af08-ff40cf91525f\">\n",
              "    <div class=\"colab-df-container\">\n",
              "      <div>\n",
              "<style scoped>\n",
              "    .dataframe tbody tr th:only-of-type {\n",
              "        vertical-align: middle;\n",
              "    }\n",
              "\n",
              "    .dataframe tbody tr th {\n",
              "        vertical-align: top;\n",
              "    }\n",
              "\n",
              "    .dataframe thead th {\n",
              "        text-align: right;\n",
              "    }\n",
              "</style>\n",
              "<table border=\"1\" class=\"dataframe\">\n",
              "  <thead>\n",
              "    <tr style=\"text-align: right;\">\n",
              "      <th></th>\n",
              "      <th>first_name</th>\n",
              "      <th>last_name</th>\n",
              "      <th>sid</th>\n",
              "      <th>homework_1</th>\n",
              "      <th>homework_2</th>\n",
              "      <th>homework_3</th>\n",
              "      <th>exam_1</th>\n",
              "      <th>exam_2</th>\n",
              "    </tr>\n",
              "  </thead>\n",
              "  <tbody>\n",
              "    <tr>\n",
              "      <th>0</th>\n",
              "      <td>Aaron</td>\n",
              "      <td>Lester</td>\n",
              "      <td>axl60952</td>\n",
              "      <td>68.0</td>\n",
              "      <td>74</td>\n",
              "      <td>77</td>\n",
              "      <td>79</td>\n",
              "      <td>63</td>\n",
              "    </tr>\n",
              "    <tr>\n",
              "      <th>1</th>\n",
              "      <td>Adam</td>\n",
              "      <td>Cooper</td>\n",
              "      <td>amc28428</td>\n",
              "      <td>80.0</td>\n",
              "      <td>78</td>\n",
              "      <td>78</td>\n",
              "      <td>65</td>\n",
              "      <td>63</td>\n",
              "    </tr>\n",
              "    <tr>\n",
              "      <th>2</th>\n",
              "      <td>Alec</td>\n",
              "      <td>Curry</td>\n",
              "      <td>axc64717</td>\n",
              "      <td>69.0</td>\n",
              "      <td>76</td>\n",
              "      <td>66</td>\n",
              "      <td>65</td>\n",
              "      <td>78</td>\n",
              "    </tr>\n",
              "    <tr>\n",
              "      <th>3</th>\n",
              "      <td>Alexander</td>\n",
              "      <td>Rodriguez</td>\n",
              "      <td>akr14831</td>\n",
              "      <td>50.0</td>\n",
              "      <td>54</td>\n",
              "      <td>74</td>\n",
              "      <td>97</td>\n",
              "      <td>97</td>\n",
              "    </tr>\n",
              "    <tr>\n",
              "      <th>4</th>\n",
              "      <td>Amber</td>\n",
              "      <td>Daniels</td>\n",
              "      <td>axd11293</td>\n",
              "      <td>54.0</td>\n",
              "      <td>57</td>\n",
              "      <td>77</td>\n",
              "      <td>68</td>\n",
              "      <td>95</td>\n",
              "    </tr>\n",
              "  </tbody>\n",
              "</table>\n",
              "</div>\n",
              "      <button class=\"colab-df-convert\" onclick=\"convertToInteractive('df-a964ad73-726e-4caf-af08-ff40cf91525f')\"\n",
              "              title=\"Convert this dataframe to an interactive table.\"\n",
              "              style=\"display:none;\">\n",
              "        \n",
              "  <svg xmlns=\"http://www.w3.org/2000/svg\" height=\"24px\"viewBox=\"0 0 24 24\"\n",
              "       width=\"24px\">\n",
              "    <path d=\"M0 0h24v24H0V0z\" fill=\"none\"/>\n",
              "    <path d=\"M18.56 5.44l.94 2.06.94-2.06 2.06-.94-2.06-.94-.94-2.06-.94 2.06-2.06.94zm-11 1L8.5 8.5l.94-2.06 2.06-.94-2.06-.94L8.5 2.5l-.94 2.06-2.06.94zm10 10l.94 2.06.94-2.06 2.06-.94-2.06-.94-.94-2.06-.94 2.06-2.06.94z\"/><path d=\"M17.41 7.96l-1.37-1.37c-.4-.4-.92-.59-1.43-.59-.52 0-1.04.2-1.43.59L10.3 9.45l-7.72 7.72c-.78.78-.78 2.05 0 2.83L4 21.41c.39.39.9.59 1.41.59.51 0 1.02-.2 1.41-.59l7.78-7.78 2.81-2.81c.8-.78.8-2.07 0-2.86zM5.41 20L4 18.59l7.72-7.72 1.47 1.35L5.41 20z\"/>\n",
              "  </svg>\n",
              "      </button>\n",
              "      \n",
              "  <style>\n",
              "    .colab-df-container {\n",
              "      display:flex;\n",
              "      flex-wrap:wrap;\n",
              "      gap: 12px;\n",
              "    }\n",
              "\n",
              "    .colab-df-convert {\n",
              "      background-color: #E8F0FE;\n",
              "      border: none;\n",
              "      border-radius: 50%;\n",
              "      cursor: pointer;\n",
              "      display: none;\n",
              "      fill: #1967D2;\n",
              "      height: 32px;\n",
              "      padding: 0 0 0 0;\n",
              "      width: 32px;\n",
              "    }\n",
              "\n",
              "    .colab-df-convert:hover {\n",
              "      background-color: #E2EBFA;\n",
              "      box-shadow: 0px 1px 2px rgba(60, 64, 67, 0.3), 0px 1px 3px 1px rgba(60, 64, 67, 0.15);\n",
              "      fill: #174EA6;\n",
              "    }\n",
              "\n",
              "    [theme=dark] .colab-df-convert {\n",
              "      background-color: #3B4455;\n",
              "      fill: #D2E3FC;\n",
              "    }\n",
              "\n",
              "    [theme=dark] .colab-df-convert:hover {\n",
              "      background-color: #434B5C;\n",
              "      box-shadow: 0px 1px 3px 1px rgba(0, 0, 0, 0.15);\n",
              "      filter: drop-shadow(0px 1px 2px rgba(0, 0, 0, 0.3));\n",
              "      fill: #FFFFFF;\n",
              "    }\n",
              "  </style>\n",
              "\n",
              "      <script>\n",
              "        const buttonEl =\n",
              "          document.querySelector('#df-a964ad73-726e-4caf-af08-ff40cf91525f button.colab-df-convert');\n",
              "        buttonEl.style.display =\n",
              "          google.colab.kernel.accessAllowed ? 'block' : 'none';\n",
              "\n",
              "        async function convertToInteractive(key) {\n",
              "          const element = document.querySelector('#df-a964ad73-726e-4caf-af08-ff40cf91525f');\n",
              "          const dataTable =\n",
              "            await google.colab.kernel.invokeFunction('convertToInteractive',\n",
              "                                                     [key], {});\n",
              "          if (!dataTable) return;\n",
              "\n",
              "          const docLinkHtml = 'Like what you see? Visit the ' +\n",
              "            '<a target=\"_blank\" href=https://colab.research.google.com/notebooks/data_table.ipynb>data table notebook</a>'\n",
              "            + ' to learn more about interactive tables.';\n",
              "          element.innerHTML = '';\n",
              "          dataTable['output_type'] = 'display_data';\n",
              "          await google.colab.output.renderOutput(dataTable, element);\n",
              "          const docLink = document.createElement('div');\n",
              "          docLink.innerHTML = docLinkHtml;\n",
              "          element.appendChild(docLink);\n",
              "        }\n",
              "      </script>\n",
              "    </div>\n",
              "  </div>\n",
              "  "
            ]
          },
          "metadata": {},
          "execution_count": 9
        }
      ]
    },
    {
      "cell_type": "markdown",
      "metadata": {
        "id": "f6m2qLBxLvN_"
      },
      "source": [
        "8. Aplica la función drop_duplicates a gradebook para eliminar duplicados si los hay, luego imprime la shape del nuevo dataframe y mira si se han borrado registros. Recuerda especificar el parámetro que hace que los cambios se lleven a cabo en el mismo dataframe. ¿Había duplicados?"
      ]
    },
    {
      "cell_type": "code",
      "metadata": {
        "id": "esFwjmElLlQa",
        "colab": {
          "base_uri": "https://localhost:8080/"
        },
        "outputId": "fd2443ca-634b-44f1-d3df-5c0183233a6e"
      },
      "source": [
        "gradebook.drop_duplicates(inplace = True)"
      ],
      "execution_count": null,
      "outputs": [
        {
          "output_type": "stream",
          "name": "stderr",
          "text": [
            "<ipython-input-10-96385fd8d6dc>:1: SettingWithCopyWarning: \n",
            "A value is trying to be set on a copy of a slice from a DataFrame\n",
            "\n",
            "See the caveats in the documentation: https://pandas.pydata.org/pandas-docs/stable/user_guide/indexing.html#returning-a-view-versus-a-copy\n",
            "  gradebook.drop_duplicates(inplace = True)\n"
          ]
        }
      ]
    },
    {
      "cell_type": "code",
      "source": [
        "gradebook.shape"
      ],
      "metadata": {
        "colab": {
          "base_uri": "https://localhost:8080/"
        },
        "id": "uK71wtIgqssy",
        "outputId": "cf00fcff-a710-415d-a89d-252acfd05c1f"
      },
      "execution_count": null,
      "outputs": [
        {
          "output_type": "execute_result",
          "data": {
            "text/plain": [
              "(150, 8)"
            ]
          },
          "metadata": {},
          "execution_count": 11
        }
      ]
    },
    {
      "cell_type": "code",
      "source": [
        "# No había duplicados"
      ],
      "metadata": {
        "id": "C9U5mv_YrJuZ"
      },
      "execution_count": null,
      "outputs": []
    },
    {
      "cell_type": "markdown",
      "metadata": {
        "id": "cHmspPNdNQwG"
      },
      "source": [
        "9. Mira que columnas de gradebook tienen nulos y cuántos registros nulos tienen mediante la función isnull"
      ]
    },
    {
      "cell_type": "code",
      "source": [
        "gradebook.isnull().sum()"
      ],
      "metadata": {
        "colab": {
          "base_uri": "https://localhost:8080/"
        },
        "id": "lQzcIPkErbh1",
        "outputId": "5dbd7ba7-d832-4190-bfee-7e7a99118f16"
      },
      "execution_count": null,
      "outputs": [
        {
          "output_type": "execute_result",
          "data": {
            "text/plain": [
              "first_name    0\n",
              "last_name     0\n",
              "sid           0\n",
              "homework_1    1\n",
              "homework_2    0\n",
              "homework_3    0\n",
              "exam_1        0\n",
              "exam_2        0\n",
              "dtype: int64"
            ]
          },
          "metadata": {},
          "execution_count": 13
        }
      ]
    },
    {
      "cell_type": "markdown",
      "metadata": {
        "id": "ZOICanLVNdkq"
      },
      "source": [
        "10. En el caso de que haya algun valor nulo en la nota de algun examen o homework, reemplaza este nulo que sería un no entregado por un 0. Comprueba que lo has hecho bien volviendo a mirar los nulos de gradebook."
      ]
    },
    {
      "cell_type": "code",
      "metadata": {
        "id": "tCsYwA9-Na1S",
        "colab": {
          "base_uri": "https://localhost:8080/"
        },
        "outputId": "f595cfc7-1e09-4e3f-8f7b-9d08ee30239a"
      },
      "source": [
        "gradebook['homework_1'].fillna(0, inplace = True)"
      ],
      "execution_count": null,
      "outputs": [
        {
          "output_type": "stream",
          "name": "stderr",
          "text": [
            "<ipython-input-14-55a51e3b7f31>:1: SettingWithCopyWarning: \n",
            "A value is trying to be set on a copy of a slice from a DataFrame\n",
            "\n",
            "See the caveats in the documentation: https://pandas.pydata.org/pandas-docs/stable/user_guide/indexing.html#returning-a-view-versus-a-copy\n",
            "  gradebook['homework_1'].fillna(0, inplace = True)\n"
          ]
        }
      ]
    },
    {
      "cell_type": "code",
      "source": [
        "gradebook.isnull().sum()"
      ],
      "metadata": {
        "colab": {
          "base_uri": "https://localhost:8080/"
        },
        "id": "SQODT_SLtEnd",
        "outputId": "1bbb96e9-5d7d-4843-85a3-9e9354563cb6"
      },
      "execution_count": null,
      "outputs": [
        {
          "output_type": "execute_result",
          "data": {
            "text/plain": [
              "first_name    0\n",
              "last_name     0\n",
              "sid           0\n",
              "homework_1    0\n",
              "homework_2    0\n",
              "homework_3    0\n",
              "exam_1        0\n",
              "exam_2        0\n",
              "dtype: int64"
            ]
          },
          "metadata": {},
          "execution_count": 15
        }
      ]
    },
    {
      "cell_type": "markdown",
      "metadata": {
        "id": "kKGc9E3NN7_v"
      },
      "source": [
        "11. En nuestro dataframe, para cada tarea tenemos una columna con la nota que sacó el alumno y otra columna que nos indica el máximo de puntuación que se podía sacar en esa tarea.\n",
        "\n",
        "Hagamos que todas las notas estén sobre 10. Para ello crea una función que dada una nota y el máximo que se podia sacar en esa tarea, divida la nota entre el máximo y lo multiplique por 10 para sacar la nota sobre 10.\n",
        "\n",
        "Luego, aplica esta función a cada una de las tareas y guarda la nota obtenida para cada tarea en una columna llamada nombretarea_s10. Por ejemplo homework1_s10 o exam1_s10."
      ]
    },
    {
      "cell_type": "code",
      "source": [
        "# Observando el DataFrame original, en todos los casos el máximo de puntos en las tareas es de 80\n",
        "df[['Homework 1 - Max Points', 'Homework 2 - Max Points', 'Homework 3 - Max Points']].head(2)"
      ],
      "metadata": {
        "colab": {
          "base_uri": "https://localhost:8080/",
          "height": 112
        },
        "id": "d7fnDR9auwJm",
        "outputId": "89b0d996-8586-4043-d24e-de9fc7a96f87"
      },
      "execution_count": null,
      "outputs": [
        {
          "output_type": "execute_result",
          "data": {
            "text/plain": [
              "   Homework 1 - Max Points  Homework 2 - Max Points  Homework 3 - Max Points\n",
              "0                       80                       80                       80\n",
              "1                       80                       80                       80"
            ],
            "text/html": [
              "\n",
              "  <div id=\"df-a8182b20-f80e-4611-b784-3baee836e247\">\n",
              "    <div class=\"colab-df-container\">\n",
              "      <div>\n",
              "<style scoped>\n",
              "    .dataframe tbody tr th:only-of-type {\n",
              "        vertical-align: middle;\n",
              "    }\n",
              "\n",
              "    .dataframe tbody tr th {\n",
              "        vertical-align: top;\n",
              "    }\n",
              "\n",
              "    .dataframe thead th {\n",
              "        text-align: right;\n",
              "    }\n",
              "</style>\n",
              "<table border=\"1\" class=\"dataframe\">\n",
              "  <thead>\n",
              "    <tr style=\"text-align: right;\">\n",
              "      <th></th>\n",
              "      <th>Homework 1 - Max Points</th>\n",
              "      <th>Homework 2 - Max Points</th>\n",
              "      <th>Homework 3 - Max Points</th>\n",
              "    </tr>\n",
              "  </thead>\n",
              "  <tbody>\n",
              "    <tr>\n",
              "      <th>0</th>\n",
              "      <td>80</td>\n",
              "      <td>80</td>\n",
              "      <td>80</td>\n",
              "    </tr>\n",
              "    <tr>\n",
              "      <th>1</th>\n",
              "      <td>80</td>\n",
              "      <td>80</td>\n",
              "      <td>80</td>\n",
              "    </tr>\n",
              "  </tbody>\n",
              "</table>\n",
              "</div>\n",
              "      <button class=\"colab-df-convert\" onclick=\"convertToInteractive('df-a8182b20-f80e-4611-b784-3baee836e247')\"\n",
              "              title=\"Convert this dataframe to an interactive table.\"\n",
              "              style=\"display:none;\">\n",
              "        \n",
              "  <svg xmlns=\"http://www.w3.org/2000/svg\" height=\"24px\"viewBox=\"0 0 24 24\"\n",
              "       width=\"24px\">\n",
              "    <path d=\"M0 0h24v24H0V0z\" fill=\"none\"/>\n",
              "    <path d=\"M18.56 5.44l.94 2.06.94-2.06 2.06-.94-2.06-.94-.94-2.06-.94 2.06-2.06.94zm-11 1L8.5 8.5l.94-2.06 2.06-.94-2.06-.94L8.5 2.5l-.94 2.06-2.06.94zm10 10l.94 2.06.94-2.06 2.06-.94-2.06-.94-.94-2.06-.94 2.06-2.06.94z\"/><path d=\"M17.41 7.96l-1.37-1.37c-.4-.4-.92-.59-1.43-.59-.52 0-1.04.2-1.43.59L10.3 9.45l-7.72 7.72c-.78.78-.78 2.05 0 2.83L4 21.41c.39.39.9.59 1.41.59.51 0 1.02-.2 1.41-.59l7.78-7.78 2.81-2.81c.8-.78.8-2.07 0-2.86zM5.41 20L4 18.59l7.72-7.72 1.47 1.35L5.41 20z\"/>\n",
              "  </svg>\n",
              "      </button>\n",
              "      \n",
              "  <style>\n",
              "    .colab-df-container {\n",
              "      display:flex;\n",
              "      flex-wrap:wrap;\n",
              "      gap: 12px;\n",
              "    }\n",
              "\n",
              "    .colab-df-convert {\n",
              "      background-color: #E8F0FE;\n",
              "      border: none;\n",
              "      border-radius: 50%;\n",
              "      cursor: pointer;\n",
              "      display: none;\n",
              "      fill: #1967D2;\n",
              "      height: 32px;\n",
              "      padding: 0 0 0 0;\n",
              "      width: 32px;\n",
              "    }\n",
              "\n",
              "    .colab-df-convert:hover {\n",
              "      background-color: #E2EBFA;\n",
              "      box-shadow: 0px 1px 2px rgba(60, 64, 67, 0.3), 0px 1px 3px 1px rgba(60, 64, 67, 0.15);\n",
              "      fill: #174EA6;\n",
              "    }\n",
              "\n",
              "    [theme=dark] .colab-df-convert {\n",
              "      background-color: #3B4455;\n",
              "      fill: #D2E3FC;\n",
              "    }\n",
              "\n",
              "    [theme=dark] .colab-df-convert:hover {\n",
              "      background-color: #434B5C;\n",
              "      box-shadow: 0px 1px 3px 1px rgba(0, 0, 0, 0.15);\n",
              "      filter: drop-shadow(0px 1px 2px rgba(0, 0, 0, 0.3));\n",
              "      fill: #FFFFFF;\n",
              "    }\n",
              "  </style>\n",
              "\n",
              "      <script>\n",
              "        const buttonEl =\n",
              "          document.querySelector('#df-a8182b20-f80e-4611-b784-3baee836e247 button.colab-df-convert');\n",
              "        buttonEl.style.display =\n",
              "          google.colab.kernel.accessAllowed ? 'block' : 'none';\n",
              "\n",
              "        async function convertToInteractive(key) {\n",
              "          const element = document.querySelector('#df-a8182b20-f80e-4611-b784-3baee836e247');\n",
              "          const dataTable =\n",
              "            await google.colab.kernel.invokeFunction('convertToInteractive',\n",
              "                                                     [key], {});\n",
              "          if (!dataTable) return;\n",
              "\n",
              "          const docLinkHtml = 'Like what you see? Visit the ' +\n",
              "            '<a target=\"_blank\" href=https://colab.research.google.com/notebooks/data_table.ipynb>data table notebook</a>'\n",
              "            + ' to learn more about interactive tables.';\n",
              "          element.innerHTML = '';\n",
              "          dataTable['output_type'] = 'display_data';\n",
              "          await google.colab.output.renderOutput(dataTable, element);\n",
              "          const docLink = document.createElement('div');\n",
              "          docLink.innerHTML = docLinkHtml;\n",
              "          element.appendChild(docLink);\n",
              "        }\n",
              "      </script>\n",
              "    </div>\n",
              "  </div>\n",
              "  "
            ]
          },
          "metadata": {},
          "execution_count": 16
        }
      ]
    },
    {
      "cell_type": "code",
      "source": [
        "# Observando el DataFrame original, en todos los casos el máximo de puntos en los examenes es de 100\n",
        "df[['Exam 1 - Max Points', 'Exam 2 - Max Points', 'Exam 3 - Max Points']].head(2)"
      ],
      "metadata": {
        "colab": {
          "base_uri": "https://localhost:8080/",
          "height": 112
        },
        "id": "Hygmij3ewWef",
        "outputId": "9e3052d5-c212-4c67-b6ed-d78ed23d6068"
      },
      "execution_count": null,
      "outputs": [
        {
          "output_type": "execute_result",
          "data": {
            "text/plain": [
              "   Exam 1 - Max Points  Exam 2 - Max Points  Exam 3 - Max Points\n",
              "0                  100                  100                  100\n",
              "1                  100                  100                  100"
            ],
            "text/html": [
              "\n",
              "  <div id=\"df-96c61c16-29f4-45b5-a6ed-e3cd38026b7a\">\n",
              "    <div class=\"colab-df-container\">\n",
              "      <div>\n",
              "<style scoped>\n",
              "    .dataframe tbody tr th:only-of-type {\n",
              "        vertical-align: middle;\n",
              "    }\n",
              "\n",
              "    .dataframe tbody tr th {\n",
              "        vertical-align: top;\n",
              "    }\n",
              "\n",
              "    .dataframe thead th {\n",
              "        text-align: right;\n",
              "    }\n",
              "</style>\n",
              "<table border=\"1\" class=\"dataframe\">\n",
              "  <thead>\n",
              "    <tr style=\"text-align: right;\">\n",
              "      <th></th>\n",
              "      <th>Exam 1 - Max Points</th>\n",
              "      <th>Exam 2 - Max Points</th>\n",
              "      <th>Exam 3 - Max Points</th>\n",
              "    </tr>\n",
              "  </thead>\n",
              "  <tbody>\n",
              "    <tr>\n",
              "      <th>0</th>\n",
              "      <td>100</td>\n",
              "      <td>100</td>\n",
              "      <td>100</td>\n",
              "    </tr>\n",
              "    <tr>\n",
              "      <th>1</th>\n",
              "      <td>100</td>\n",
              "      <td>100</td>\n",
              "      <td>100</td>\n",
              "    </tr>\n",
              "  </tbody>\n",
              "</table>\n",
              "</div>\n",
              "      <button class=\"colab-df-convert\" onclick=\"convertToInteractive('df-96c61c16-29f4-45b5-a6ed-e3cd38026b7a')\"\n",
              "              title=\"Convert this dataframe to an interactive table.\"\n",
              "              style=\"display:none;\">\n",
              "        \n",
              "  <svg xmlns=\"http://www.w3.org/2000/svg\" height=\"24px\"viewBox=\"0 0 24 24\"\n",
              "       width=\"24px\">\n",
              "    <path d=\"M0 0h24v24H0V0z\" fill=\"none\"/>\n",
              "    <path d=\"M18.56 5.44l.94 2.06.94-2.06 2.06-.94-2.06-.94-.94-2.06-.94 2.06-2.06.94zm-11 1L8.5 8.5l.94-2.06 2.06-.94-2.06-.94L8.5 2.5l-.94 2.06-2.06.94zm10 10l.94 2.06.94-2.06 2.06-.94-2.06-.94-.94-2.06-.94 2.06-2.06.94z\"/><path d=\"M17.41 7.96l-1.37-1.37c-.4-.4-.92-.59-1.43-.59-.52 0-1.04.2-1.43.59L10.3 9.45l-7.72 7.72c-.78.78-.78 2.05 0 2.83L4 21.41c.39.39.9.59 1.41.59.51 0 1.02-.2 1.41-.59l7.78-7.78 2.81-2.81c.8-.78.8-2.07 0-2.86zM5.41 20L4 18.59l7.72-7.72 1.47 1.35L5.41 20z\"/>\n",
              "  </svg>\n",
              "      </button>\n",
              "      \n",
              "  <style>\n",
              "    .colab-df-container {\n",
              "      display:flex;\n",
              "      flex-wrap:wrap;\n",
              "      gap: 12px;\n",
              "    }\n",
              "\n",
              "    .colab-df-convert {\n",
              "      background-color: #E8F0FE;\n",
              "      border: none;\n",
              "      border-radius: 50%;\n",
              "      cursor: pointer;\n",
              "      display: none;\n",
              "      fill: #1967D2;\n",
              "      height: 32px;\n",
              "      padding: 0 0 0 0;\n",
              "      width: 32px;\n",
              "    }\n",
              "\n",
              "    .colab-df-convert:hover {\n",
              "      background-color: #E2EBFA;\n",
              "      box-shadow: 0px 1px 2px rgba(60, 64, 67, 0.3), 0px 1px 3px 1px rgba(60, 64, 67, 0.15);\n",
              "      fill: #174EA6;\n",
              "    }\n",
              "\n",
              "    [theme=dark] .colab-df-convert {\n",
              "      background-color: #3B4455;\n",
              "      fill: #D2E3FC;\n",
              "    }\n",
              "\n",
              "    [theme=dark] .colab-df-convert:hover {\n",
              "      background-color: #434B5C;\n",
              "      box-shadow: 0px 1px 3px 1px rgba(0, 0, 0, 0.15);\n",
              "      filter: drop-shadow(0px 1px 2px rgba(0, 0, 0, 0.3));\n",
              "      fill: #FFFFFF;\n",
              "    }\n",
              "  </style>\n",
              "\n",
              "      <script>\n",
              "        const buttonEl =\n",
              "          document.querySelector('#df-96c61c16-29f4-45b5-a6ed-e3cd38026b7a button.colab-df-convert');\n",
              "        buttonEl.style.display =\n",
              "          google.colab.kernel.accessAllowed ? 'block' : 'none';\n",
              "\n",
              "        async function convertToInteractive(key) {\n",
              "          const element = document.querySelector('#df-96c61c16-29f4-45b5-a6ed-e3cd38026b7a');\n",
              "          const dataTable =\n",
              "            await google.colab.kernel.invokeFunction('convertToInteractive',\n",
              "                                                     [key], {});\n",
              "          if (!dataTable) return;\n",
              "\n",
              "          const docLinkHtml = 'Like what you see? Visit the ' +\n",
              "            '<a target=\"_blank\" href=https://colab.research.google.com/notebooks/data_table.ipynb>data table notebook</a>'\n",
              "            + ' to learn more about interactive tables.';\n",
              "          element.innerHTML = '';\n",
              "          dataTable['output_type'] = 'display_data';\n",
              "          await google.colab.output.renderOutput(dataTable, element);\n",
              "          const docLink = document.createElement('div');\n",
              "          docLink.innerHTML = docLinkHtml;\n",
              "          element.appendChild(docLink);\n",
              "        }\n",
              "      </script>\n",
              "    </div>\n",
              "  </div>\n",
              "  "
            ]
          },
          "metadata": {},
          "execution_count": 17
        }
      ]
    },
    {
      "cell_type": "code",
      "source": [
        "# Para facilitar cálculos crearé un nuevo dataframe temporal llamado grade2\n",
        "# Que contenga lo mismo que gradebook y las calificaciones máximas de las tareas y de los examenes\n",
        "grade2 = pd.concat([gradebook, df[['Homework 1 - Max Points', 'Homework 2 - Max Points', 'Homework 3 - Max Points']]  ,df[['Exam 1 - Max Points', 'Exam 2 - Max Points', 'Exam 3 - Max Points']]],axis=1, join='inner')"
      ],
      "metadata": {
        "id": "rho8CMCkDARI"
      },
      "execution_count": null,
      "outputs": []
    },
    {
      "cell_type": "code",
      "source": [
        "grade2.head(5)"
      ],
      "metadata": {
        "colab": {
          "base_uri": "https://localhost:8080/",
          "height": 304
        },
        "id": "BYXZfaHCD0KE",
        "outputId": "de1cf865-93df-4e4a-ff6a-473954a68443"
      },
      "execution_count": null,
      "outputs": [
        {
          "output_type": "execute_result",
          "data": {
            "text/plain": [
              "  first_name  last_name       sid  homework_1  homework_2  homework_3  exam_1  \\\n",
              "0      Aaron     Lester  axl60952        68.0          74          77      79   \n",
              "1       Adam     Cooper  amc28428        80.0          78          78      65   \n",
              "2       Alec      Curry  axc64717        69.0          76          66      65   \n",
              "3  Alexander  Rodriguez  akr14831        50.0          54          74      97   \n",
              "4      Amber    Daniels  axd11293        54.0          57          77      68   \n",
              "\n",
              "   exam_2  Homework 1 - Max Points  Homework 2 - Max Points  \\\n",
              "0      63                       80                       80   \n",
              "1      63                       80                       80   \n",
              "2      78                       80                       80   \n",
              "3      97                       80                       80   \n",
              "4      95                       80                       80   \n",
              "\n",
              "   Homework 3 - Max Points  Exam 1 - Max Points  Exam 2 - Max Points  \\\n",
              "0                       80                  100                  100   \n",
              "1                       80                  100                  100   \n",
              "2                       80                  100                  100   \n",
              "3                       80                  100                  100   \n",
              "4                       80                  100                  100   \n",
              "\n",
              "   Exam 3 - Max Points  \n",
              "0                  100  \n",
              "1                  100  \n",
              "2                  100  \n",
              "3                  100  \n",
              "4                  100  "
            ],
            "text/html": [
              "\n",
              "  <div id=\"df-8f12572b-7ae1-469f-bc95-df2bfb239af1\">\n",
              "    <div class=\"colab-df-container\">\n",
              "      <div>\n",
              "<style scoped>\n",
              "    .dataframe tbody tr th:only-of-type {\n",
              "        vertical-align: middle;\n",
              "    }\n",
              "\n",
              "    .dataframe tbody tr th {\n",
              "        vertical-align: top;\n",
              "    }\n",
              "\n",
              "    .dataframe thead th {\n",
              "        text-align: right;\n",
              "    }\n",
              "</style>\n",
              "<table border=\"1\" class=\"dataframe\">\n",
              "  <thead>\n",
              "    <tr style=\"text-align: right;\">\n",
              "      <th></th>\n",
              "      <th>first_name</th>\n",
              "      <th>last_name</th>\n",
              "      <th>sid</th>\n",
              "      <th>homework_1</th>\n",
              "      <th>homework_2</th>\n",
              "      <th>homework_3</th>\n",
              "      <th>exam_1</th>\n",
              "      <th>exam_2</th>\n",
              "      <th>Homework 1 - Max Points</th>\n",
              "      <th>Homework 2 - Max Points</th>\n",
              "      <th>Homework 3 - Max Points</th>\n",
              "      <th>Exam 1 - Max Points</th>\n",
              "      <th>Exam 2 - Max Points</th>\n",
              "      <th>Exam 3 - Max Points</th>\n",
              "    </tr>\n",
              "  </thead>\n",
              "  <tbody>\n",
              "    <tr>\n",
              "      <th>0</th>\n",
              "      <td>Aaron</td>\n",
              "      <td>Lester</td>\n",
              "      <td>axl60952</td>\n",
              "      <td>68.0</td>\n",
              "      <td>74</td>\n",
              "      <td>77</td>\n",
              "      <td>79</td>\n",
              "      <td>63</td>\n",
              "      <td>80</td>\n",
              "      <td>80</td>\n",
              "      <td>80</td>\n",
              "      <td>100</td>\n",
              "      <td>100</td>\n",
              "      <td>100</td>\n",
              "    </tr>\n",
              "    <tr>\n",
              "      <th>1</th>\n",
              "      <td>Adam</td>\n",
              "      <td>Cooper</td>\n",
              "      <td>amc28428</td>\n",
              "      <td>80.0</td>\n",
              "      <td>78</td>\n",
              "      <td>78</td>\n",
              "      <td>65</td>\n",
              "      <td>63</td>\n",
              "      <td>80</td>\n",
              "      <td>80</td>\n",
              "      <td>80</td>\n",
              "      <td>100</td>\n",
              "      <td>100</td>\n",
              "      <td>100</td>\n",
              "    </tr>\n",
              "    <tr>\n",
              "      <th>2</th>\n",
              "      <td>Alec</td>\n",
              "      <td>Curry</td>\n",
              "      <td>axc64717</td>\n",
              "      <td>69.0</td>\n",
              "      <td>76</td>\n",
              "      <td>66</td>\n",
              "      <td>65</td>\n",
              "      <td>78</td>\n",
              "      <td>80</td>\n",
              "      <td>80</td>\n",
              "      <td>80</td>\n",
              "      <td>100</td>\n",
              "      <td>100</td>\n",
              "      <td>100</td>\n",
              "    </tr>\n",
              "    <tr>\n",
              "      <th>3</th>\n",
              "      <td>Alexander</td>\n",
              "      <td>Rodriguez</td>\n",
              "      <td>akr14831</td>\n",
              "      <td>50.0</td>\n",
              "      <td>54</td>\n",
              "      <td>74</td>\n",
              "      <td>97</td>\n",
              "      <td>97</td>\n",
              "      <td>80</td>\n",
              "      <td>80</td>\n",
              "      <td>80</td>\n",
              "      <td>100</td>\n",
              "      <td>100</td>\n",
              "      <td>100</td>\n",
              "    </tr>\n",
              "    <tr>\n",
              "      <th>4</th>\n",
              "      <td>Amber</td>\n",
              "      <td>Daniels</td>\n",
              "      <td>axd11293</td>\n",
              "      <td>54.0</td>\n",
              "      <td>57</td>\n",
              "      <td>77</td>\n",
              "      <td>68</td>\n",
              "      <td>95</td>\n",
              "      <td>80</td>\n",
              "      <td>80</td>\n",
              "      <td>80</td>\n",
              "      <td>100</td>\n",
              "      <td>100</td>\n",
              "      <td>100</td>\n",
              "    </tr>\n",
              "  </tbody>\n",
              "</table>\n",
              "</div>\n",
              "      <button class=\"colab-df-convert\" onclick=\"convertToInteractive('df-8f12572b-7ae1-469f-bc95-df2bfb239af1')\"\n",
              "              title=\"Convert this dataframe to an interactive table.\"\n",
              "              style=\"display:none;\">\n",
              "        \n",
              "  <svg xmlns=\"http://www.w3.org/2000/svg\" height=\"24px\"viewBox=\"0 0 24 24\"\n",
              "       width=\"24px\">\n",
              "    <path d=\"M0 0h24v24H0V0z\" fill=\"none\"/>\n",
              "    <path d=\"M18.56 5.44l.94 2.06.94-2.06 2.06-.94-2.06-.94-.94-2.06-.94 2.06-2.06.94zm-11 1L8.5 8.5l.94-2.06 2.06-.94-2.06-.94L8.5 2.5l-.94 2.06-2.06.94zm10 10l.94 2.06.94-2.06 2.06-.94-2.06-.94-.94-2.06-.94 2.06-2.06.94z\"/><path d=\"M17.41 7.96l-1.37-1.37c-.4-.4-.92-.59-1.43-.59-.52 0-1.04.2-1.43.59L10.3 9.45l-7.72 7.72c-.78.78-.78 2.05 0 2.83L4 21.41c.39.39.9.59 1.41.59.51 0 1.02-.2 1.41-.59l7.78-7.78 2.81-2.81c.8-.78.8-2.07 0-2.86zM5.41 20L4 18.59l7.72-7.72 1.47 1.35L5.41 20z\"/>\n",
              "  </svg>\n",
              "      </button>\n",
              "      \n",
              "  <style>\n",
              "    .colab-df-container {\n",
              "      display:flex;\n",
              "      flex-wrap:wrap;\n",
              "      gap: 12px;\n",
              "    }\n",
              "\n",
              "    .colab-df-convert {\n",
              "      background-color: #E8F0FE;\n",
              "      border: none;\n",
              "      border-radius: 50%;\n",
              "      cursor: pointer;\n",
              "      display: none;\n",
              "      fill: #1967D2;\n",
              "      height: 32px;\n",
              "      padding: 0 0 0 0;\n",
              "      width: 32px;\n",
              "    }\n",
              "\n",
              "    .colab-df-convert:hover {\n",
              "      background-color: #E2EBFA;\n",
              "      box-shadow: 0px 1px 2px rgba(60, 64, 67, 0.3), 0px 1px 3px 1px rgba(60, 64, 67, 0.15);\n",
              "      fill: #174EA6;\n",
              "    }\n",
              "\n",
              "    [theme=dark] .colab-df-convert {\n",
              "      background-color: #3B4455;\n",
              "      fill: #D2E3FC;\n",
              "    }\n",
              "\n",
              "    [theme=dark] .colab-df-convert:hover {\n",
              "      background-color: #434B5C;\n",
              "      box-shadow: 0px 1px 3px 1px rgba(0, 0, 0, 0.15);\n",
              "      filter: drop-shadow(0px 1px 2px rgba(0, 0, 0, 0.3));\n",
              "      fill: #FFFFFF;\n",
              "    }\n",
              "  </style>\n",
              "\n",
              "      <script>\n",
              "        const buttonEl =\n",
              "          document.querySelector('#df-8f12572b-7ae1-469f-bc95-df2bfb239af1 button.colab-df-convert');\n",
              "        buttonEl.style.display =\n",
              "          google.colab.kernel.accessAllowed ? 'block' : 'none';\n",
              "\n",
              "        async function convertToInteractive(key) {\n",
              "          const element = document.querySelector('#df-8f12572b-7ae1-469f-bc95-df2bfb239af1');\n",
              "          const dataTable =\n",
              "            await google.colab.kernel.invokeFunction('convertToInteractive',\n",
              "                                                     [key], {});\n",
              "          if (!dataTable) return;\n",
              "\n",
              "          const docLinkHtml = 'Like what you see? Visit the ' +\n",
              "            '<a target=\"_blank\" href=https://colab.research.google.com/notebooks/data_table.ipynb>data table notebook</a>'\n",
              "            + ' to learn more about interactive tables.';\n",
              "          element.innerHTML = '';\n",
              "          dataTable['output_type'] = 'display_data';\n",
              "          await google.colab.output.renderOutput(dataTable, element);\n",
              "          const docLink = document.createElement('div');\n",
              "          docLink.innerHTML = docLinkHtml;\n",
              "          element.appendChild(docLink);\n",
              "        }\n",
              "      </script>\n",
              "    </div>\n",
              "  </div>\n",
              "  "
            ]
          },
          "metadata": {},
          "execution_count": 19
        }
      ]
    },
    {
      "cell_type": "code",
      "source": [
        "grade2.info()"
      ],
      "metadata": {
        "colab": {
          "base_uri": "https://localhost:8080/"
        },
        "id": "G9yPGmIrGem1",
        "outputId": "780b1695-ac01-4e93-d8a9-e39b3570762d"
      },
      "execution_count": null,
      "outputs": [
        {
          "output_type": "stream",
          "name": "stdout",
          "text": [
            "<class 'pandas.core.frame.DataFrame'>\n",
            "Int64Index: 150 entries, 0 to 149\n",
            "Data columns (total 14 columns):\n",
            " #   Column                   Non-Null Count  Dtype  \n",
            "---  ------                   --------------  -----  \n",
            " 0   first_name               150 non-null    object \n",
            " 1   last_name                150 non-null    object \n",
            " 2   sid                      150 non-null    object \n",
            " 3   homework_1               150 non-null    float64\n",
            " 4   homework_2               150 non-null    int64  \n",
            " 5   homework_3               150 non-null    int64  \n",
            " 6   exam_1                   150 non-null    int64  \n",
            " 7   exam_2                   150 non-null    int64  \n",
            " 8   Homework 1 - Max Points  150 non-null    int64  \n",
            " 9   Homework 2 - Max Points  150 non-null    int64  \n",
            " 10  Homework 3 - Max Points  150 non-null    int64  \n",
            " 11  Exam 1 - Max Points      150 non-null    int64  \n",
            " 12  Exam 2 - Max Points      150 non-null    int64  \n",
            " 13  Exam 3 - Max Points      150 non-null    int64  \n",
            "dtypes: float64(1), int64(10), object(3)\n",
            "memory usage: 21.6+ KB\n"
          ]
        }
      ]
    },
    {
      "cell_type": "code",
      "source": [
        "# Defino la función que voy a utilizar\n",
        "def sobre_10(calif_obtenida, calif_total):\n",
        "  return ((float(calif_obtenida) / float(calif_total))*10)\n"
      ],
      "metadata": {
        "id": "LLvoCxmsve0R"
      },
      "execution_count": null,
      "outputs": []
    },
    {
      "cell_type": "code",
      "source": [
        "# Agrego una función lambda para especificar que se trabaje con cada elemento de cada fila\n",
        "gradebook['homework1_s10'] = grade2.apply(lambda fila: sobre_10(fila['homework_1'], fila['Homework 1 - Max Points']),axis=1)"
      ],
      "metadata": {
        "colab": {
          "base_uri": "https://localhost:8080/"
        },
        "id": "1jOpj3mMxQBh",
        "outputId": "af63872c-10b9-4e66-f406-70c344b82223"
      },
      "execution_count": null,
      "outputs": [
        {
          "output_type": "stream",
          "name": "stderr",
          "text": [
            "<ipython-input-30-6cf445dfaa59>:1: SettingWithCopyWarning: \n",
            "A value is trying to be set on a copy of a slice from a DataFrame.\n",
            "Try using .loc[row_indexer,col_indexer] = value instead\n",
            "\n",
            "See the caveats in the documentation: https://pandas.pydata.org/pandas-docs/stable/user_guide/indexing.html#returning-a-view-versus-a-copy\n",
            "  gradebook['homework1_s10'] = grade2.apply(lambda fila: sobre_10(fila['homework_1'], fila['Homework 1 - Max Points']),axis=1)\n"
          ]
        }
      ]
    },
    {
      "cell_type": "code",
      "source": [
        "gradebook['homework2_s10'] = grade2.apply(lambda fila: sobre_10(fila['homework_2'], fila['Homework 2 - Max Points']),axis=1)"
      ],
      "metadata": {
        "colab": {
          "base_uri": "https://localhost:8080/"
        },
        "id": "VUyr6illLYz8",
        "outputId": "f7576e1d-9942-45b0-9e70-b58d620ba465"
      },
      "execution_count": null,
      "outputs": [
        {
          "output_type": "stream",
          "name": "stderr",
          "text": [
            "<ipython-input-31-a2bd12a122dd>:1: SettingWithCopyWarning: \n",
            "A value is trying to be set on a copy of a slice from a DataFrame.\n",
            "Try using .loc[row_indexer,col_indexer] = value instead\n",
            "\n",
            "See the caveats in the documentation: https://pandas.pydata.org/pandas-docs/stable/user_guide/indexing.html#returning-a-view-versus-a-copy\n",
            "  gradebook['homework2_s10'] = grade2.apply(lambda fila: sobre_10(fila['homework_2'], fila['Homework 2 - Max Points']),axis=1)\n"
          ]
        }
      ]
    },
    {
      "cell_type": "code",
      "source": [
        "gradebook['homework3_s10'] = grade2.apply(lambda fila: sobre_10(fila['homework_3'], fila['Homework 3 - Max Points']),axis=1)"
      ],
      "metadata": {
        "colab": {
          "base_uri": "https://localhost:8080/"
        },
        "id": "hBRb5tDWLg9D",
        "outputId": "477aeb98-82cb-4398-ad1d-04527720ee1a"
      },
      "execution_count": null,
      "outputs": [
        {
          "output_type": "stream",
          "name": "stderr",
          "text": [
            "<ipython-input-32-7578445f9828>:1: SettingWithCopyWarning: \n",
            "A value is trying to be set on a copy of a slice from a DataFrame.\n",
            "Try using .loc[row_indexer,col_indexer] = value instead\n",
            "\n",
            "See the caveats in the documentation: https://pandas.pydata.org/pandas-docs/stable/user_guide/indexing.html#returning-a-view-versus-a-copy\n",
            "  gradebook['homework3_s10'] = grade2.apply(lambda fila: sobre_10(fila['homework_3'], fila['Homework 3 - Max Points']),axis=1)\n"
          ]
        }
      ]
    },
    {
      "cell_type": "code",
      "source": [
        "gradebook['exam1_s10'] = grade2.apply(lambda fila: sobre_10(fila['exam_1'], fila['Exam 1 - Max Points']),axis=1)"
      ],
      "metadata": {
        "colab": {
          "base_uri": "https://localhost:8080/"
        },
        "id": "eQ92CXPbMF67",
        "outputId": "74eece9a-0e33-4e9a-8c29-f6970bc94dfa"
      },
      "execution_count": null,
      "outputs": [
        {
          "output_type": "stream",
          "name": "stderr",
          "text": [
            "<ipython-input-33-2dfc2ee8803c>:1: SettingWithCopyWarning: \n",
            "A value is trying to be set on a copy of a slice from a DataFrame.\n",
            "Try using .loc[row_indexer,col_indexer] = value instead\n",
            "\n",
            "See the caveats in the documentation: https://pandas.pydata.org/pandas-docs/stable/user_guide/indexing.html#returning-a-view-versus-a-copy\n",
            "  gradebook['exam1_s10'] = grade2.apply(lambda fila: sobre_10(fila['exam_1'], fila['Exam 1 - Max Points']),axis=1)\n"
          ]
        }
      ]
    },
    {
      "cell_type": "code",
      "source": [
        "gradebook['exam2_s10'] = grade2.apply(lambda fila: sobre_10(fila['exam_2'], fila['Exam 2 - Max Points']),axis=1)"
      ],
      "metadata": {
        "colab": {
          "base_uri": "https://localhost:8080/"
        },
        "id": "YTk5SRtFMTXf",
        "outputId": "dbf8698e-dbaf-437a-da69-f857eeacbd0b"
      },
      "execution_count": null,
      "outputs": [
        {
          "output_type": "stream",
          "name": "stderr",
          "text": [
            "<ipython-input-34-27206f132848>:1: SettingWithCopyWarning: \n",
            "A value is trying to be set on a copy of a slice from a DataFrame.\n",
            "Try using .loc[row_indexer,col_indexer] = value instead\n",
            "\n",
            "See the caveats in the documentation: https://pandas.pydata.org/pandas-docs/stable/user_guide/indexing.html#returning-a-view-versus-a-copy\n",
            "  gradebook['exam2_s10'] = grade2.apply(lambda fila: sobre_10(fila['exam_2'], fila['Exam 2 - Max Points']),axis=1)\n"
          ]
        }
      ]
    },
    {
      "cell_type": "code",
      "source": [
        "gradebook['exam3_s10'] = df.apply(lambda fila: sobre_10(fila['Exam 3'], fila['Exam 3 - Max Points']),axis=1)"
      ],
      "metadata": {
        "colab": {
          "base_uri": "https://localhost:8080/"
        },
        "id": "YLGpwdKbZE4M",
        "outputId": "a9a573f5-9a01-42d6-9c3f-35f1095d190d"
      },
      "execution_count": null,
      "outputs": [
        {
          "output_type": "stream",
          "name": "stderr",
          "text": [
            "<ipython-input-55-1d061ed7473d>:1: SettingWithCopyWarning: \n",
            "A value is trying to be set on a copy of a slice from a DataFrame.\n",
            "Try using .loc[row_indexer,col_indexer] = value instead\n",
            "\n",
            "See the caveats in the documentation: https://pandas.pydata.org/pandas-docs/stable/user_guide/indexing.html#returning-a-view-versus-a-copy\n",
            "  gradebook['exam3_s10'] = df.apply(lambda fila: sobre_10(fila['Exam 3'], fila['Exam 3 - Max Points']),axis=1)\n"
          ]
        }
      ]
    },
    {
      "cell_type": "code",
      "source": [
        "# Muestro mi DataFrame gradebook\n",
        "gradebook.head()"
      ],
      "metadata": {
        "colab": {
          "base_uri": "https://localhost:8080/",
          "height": 270
        },
        "id": "d_x6FOg7HF1s",
        "outputId": "c6e6e3e0-014f-4cf2-dbcd-48e8593a6bbb"
      },
      "execution_count": null,
      "outputs": [
        {
          "output_type": "execute_result",
          "data": {
            "text/plain": [
              "  first_name  last_name       sid  homework_1  homework_2  homework_3  exam_1  \\\n",
              "0      Aaron     Lester  axl60952        68.0          74          77      79   \n",
              "1       Adam     Cooper  amc28428        80.0          78          78      65   \n",
              "2       Alec      Curry  axc64717        69.0          76          66      65   \n",
              "3  Alexander  Rodriguez  akr14831        50.0          54          74      97   \n",
              "4      Amber    Daniels  axd11293        54.0          57          77      68   \n",
              "\n",
              "   exam_2  homework1_s10  homework2_s10  homework3_s10  exam1_s10  exam2_s10  \\\n",
              "0      63          8.500          9.250          9.625        7.9        6.3   \n",
              "1      63         10.000          9.750          9.750        6.5        6.3   \n",
              "2      78          8.625          9.500          8.250        6.5        7.8   \n",
              "3      97          6.250          6.750          9.250        9.7        9.7   \n",
              "4      95          6.750          7.125          9.625        6.8        9.5   \n",
              "\n",
              "   exam3_s10  \n",
              "0        6.8  \n",
              "1        9.0  \n",
              "2        8.3  \n",
              "3        8.1  \n",
              "4        8.8  "
            ],
            "text/html": [
              "\n",
              "  <div id=\"df-8a26ccfb-ced9-419d-be80-ec9ae1c69076\">\n",
              "    <div class=\"colab-df-container\">\n",
              "      <div>\n",
              "<style scoped>\n",
              "    .dataframe tbody tr th:only-of-type {\n",
              "        vertical-align: middle;\n",
              "    }\n",
              "\n",
              "    .dataframe tbody tr th {\n",
              "        vertical-align: top;\n",
              "    }\n",
              "\n",
              "    .dataframe thead th {\n",
              "        text-align: right;\n",
              "    }\n",
              "</style>\n",
              "<table border=\"1\" class=\"dataframe\">\n",
              "  <thead>\n",
              "    <tr style=\"text-align: right;\">\n",
              "      <th></th>\n",
              "      <th>first_name</th>\n",
              "      <th>last_name</th>\n",
              "      <th>sid</th>\n",
              "      <th>homework_1</th>\n",
              "      <th>homework_2</th>\n",
              "      <th>homework_3</th>\n",
              "      <th>exam_1</th>\n",
              "      <th>exam_2</th>\n",
              "      <th>homework1_s10</th>\n",
              "      <th>homework2_s10</th>\n",
              "      <th>homework3_s10</th>\n",
              "      <th>exam1_s10</th>\n",
              "      <th>exam2_s10</th>\n",
              "      <th>exam3_s10</th>\n",
              "    </tr>\n",
              "  </thead>\n",
              "  <tbody>\n",
              "    <tr>\n",
              "      <th>0</th>\n",
              "      <td>Aaron</td>\n",
              "      <td>Lester</td>\n",
              "      <td>axl60952</td>\n",
              "      <td>68.0</td>\n",
              "      <td>74</td>\n",
              "      <td>77</td>\n",
              "      <td>79</td>\n",
              "      <td>63</td>\n",
              "      <td>8.500</td>\n",
              "      <td>9.250</td>\n",
              "      <td>9.625</td>\n",
              "      <td>7.9</td>\n",
              "      <td>6.3</td>\n",
              "      <td>6.8</td>\n",
              "    </tr>\n",
              "    <tr>\n",
              "      <th>1</th>\n",
              "      <td>Adam</td>\n",
              "      <td>Cooper</td>\n",
              "      <td>amc28428</td>\n",
              "      <td>80.0</td>\n",
              "      <td>78</td>\n",
              "      <td>78</td>\n",
              "      <td>65</td>\n",
              "      <td>63</td>\n",
              "      <td>10.000</td>\n",
              "      <td>9.750</td>\n",
              "      <td>9.750</td>\n",
              "      <td>6.5</td>\n",
              "      <td>6.3</td>\n",
              "      <td>9.0</td>\n",
              "    </tr>\n",
              "    <tr>\n",
              "      <th>2</th>\n",
              "      <td>Alec</td>\n",
              "      <td>Curry</td>\n",
              "      <td>axc64717</td>\n",
              "      <td>69.0</td>\n",
              "      <td>76</td>\n",
              "      <td>66</td>\n",
              "      <td>65</td>\n",
              "      <td>78</td>\n",
              "      <td>8.625</td>\n",
              "      <td>9.500</td>\n",
              "      <td>8.250</td>\n",
              "      <td>6.5</td>\n",
              "      <td>7.8</td>\n",
              "      <td>8.3</td>\n",
              "    </tr>\n",
              "    <tr>\n",
              "      <th>3</th>\n",
              "      <td>Alexander</td>\n",
              "      <td>Rodriguez</td>\n",
              "      <td>akr14831</td>\n",
              "      <td>50.0</td>\n",
              "      <td>54</td>\n",
              "      <td>74</td>\n",
              "      <td>97</td>\n",
              "      <td>97</td>\n",
              "      <td>6.250</td>\n",
              "      <td>6.750</td>\n",
              "      <td>9.250</td>\n",
              "      <td>9.7</td>\n",
              "      <td>9.7</td>\n",
              "      <td>8.1</td>\n",
              "    </tr>\n",
              "    <tr>\n",
              "      <th>4</th>\n",
              "      <td>Amber</td>\n",
              "      <td>Daniels</td>\n",
              "      <td>axd11293</td>\n",
              "      <td>54.0</td>\n",
              "      <td>57</td>\n",
              "      <td>77</td>\n",
              "      <td>68</td>\n",
              "      <td>95</td>\n",
              "      <td>6.750</td>\n",
              "      <td>7.125</td>\n",
              "      <td>9.625</td>\n",
              "      <td>6.8</td>\n",
              "      <td>9.5</td>\n",
              "      <td>8.8</td>\n",
              "    </tr>\n",
              "  </tbody>\n",
              "</table>\n",
              "</div>\n",
              "      <button class=\"colab-df-convert\" onclick=\"convertToInteractive('df-8a26ccfb-ced9-419d-be80-ec9ae1c69076')\"\n",
              "              title=\"Convert this dataframe to an interactive table.\"\n",
              "              style=\"display:none;\">\n",
              "        \n",
              "  <svg xmlns=\"http://www.w3.org/2000/svg\" height=\"24px\"viewBox=\"0 0 24 24\"\n",
              "       width=\"24px\">\n",
              "    <path d=\"M0 0h24v24H0V0z\" fill=\"none\"/>\n",
              "    <path d=\"M18.56 5.44l.94 2.06.94-2.06 2.06-.94-2.06-.94-.94-2.06-.94 2.06-2.06.94zm-11 1L8.5 8.5l.94-2.06 2.06-.94-2.06-.94L8.5 2.5l-.94 2.06-2.06.94zm10 10l.94 2.06.94-2.06 2.06-.94-2.06-.94-.94-2.06-.94 2.06-2.06.94z\"/><path d=\"M17.41 7.96l-1.37-1.37c-.4-.4-.92-.59-1.43-.59-.52 0-1.04.2-1.43.59L10.3 9.45l-7.72 7.72c-.78.78-.78 2.05 0 2.83L4 21.41c.39.39.9.59 1.41.59.51 0 1.02-.2 1.41-.59l7.78-7.78 2.81-2.81c.8-.78.8-2.07 0-2.86zM5.41 20L4 18.59l7.72-7.72 1.47 1.35L5.41 20z\"/>\n",
              "  </svg>\n",
              "      </button>\n",
              "      \n",
              "  <style>\n",
              "    .colab-df-container {\n",
              "      display:flex;\n",
              "      flex-wrap:wrap;\n",
              "      gap: 12px;\n",
              "    }\n",
              "\n",
              "    .colab-df-convert {\n",
              "      background-color: #E8F0FE;\n",
              "      border: none;\n",
              "      border-radius: 50%;\n",
              "      cursor: pointer;\n",
              "      display: none;\n",
              "      fill: #1967D2;\n",
              "      height: 32px;\n",
              "      padding: 0 0 0 0;\n",
              "      width: 32px;\n",
              "    }\n",
              "\n",
              "    .colab-df-convert:hover {\n",
              "      background-color: #E2EBFA;\n",
              "      box-shadow: 0px 1px 2px rgba(60, 64, 67, 0.3), 0px 1px 3px 1px rgba(60, 64, 67, 0.15);\n",
              "      fill: #174EA6;\n",
              "    }\n",
              "\n",
              "    [theme=dark] .colab-df-convert {\n",
              "      background-color: #3B4455;\n",
              "      fill: #D2E3FC;\n",
              "    }\n",
              "\n",
              "    [theme=dark] .colab-df-convert:hover {\n",
              "      background-color: #434B5C;\n",
              "      box-shadow: 0px 1px 3px 1px rgba(0, 0, 0, 0.15);\n",
              "      filter: drop-shadow(0px 1px 2px rgba(0, 0, 0, 0.3));\n",
              "      fill: #FFFFFF;\n",
              "    }\n",
              "  </style>\n",
              "\n",
              "      <script>\n",
              "        const buttonEl =\n",
              "          document.querySelector('#df-8a26ccfb-ced9-419d-be80-ec9ae1c69076 button.colab-df-convert');\n",
              "        buttonEl.style.display =\n",
              "          google.colab.kernel.accessAllowed ? 'block' : 'none';\n",
              "\n",
              "        async function convertToInteractive(key) {\n",
              "          const element = document.querySelector('#df-8a26ccfb-ced9-419d-be80-ec9ae1c69076');\n",
              "          const dataTable =\n",
              "            await google.colab.kernel.invokeFunction('convertToInteractive',\n",
              "                                                     [key], {});\n",
              "          if (!dataTable) return;\n",
              "\n",
              "          const docLinkHtml = 'Like what you see? Visit the ' +\n",
              "            '<a target=\"_blank\" href=https://colab.research.google.com/notebooks/data_table.ipynb>data table notebook</a>'\n",
              "            + ' to learn more about interactive tables.';\n",
              "          element.innerHTML = '';\n",
              "          dataTable['output_type'] = 'display_data';\n",
              "          await google.colab.output.renderOutput(dataTable, element);\n",
              "          const docLink = document.createElement('div');\n",
              "          docLink.innerHTML = docLinkHtml;\n",
              "          element.appendChild(docLink);\n",
              "        }\n",
              "      </script>\n",
              "    </div>\n",
              "  </div>\n",
              "  "
            ]
          },
          "metadata": {},
          "execution_count": 56
        }
      ]
    },
    {
      "cell_type": "markdown",
      "metadata": {
        "id": "KATpFfKiTekJ"
      },
      "source": [
        "Usa las columnas con las notas calculadas sobre 10 para responder las preguntas siguientes:"
      ]
    },
    {
      "cell_type": "markdown",
      "metadata": {
        "id": "yjEKVEaLTNpp"
      },
      "source": [
        "12. Cuántos alumnos han sacado menos de un 7 en el Homework3?"
      ]
    },
    {
      "cell_type": "code",
      "metadata": {
        "id": "F7eytHoVSQ2Y",
        "colab": {
          "base_uri": "https://localhost:8080/"
        },
        "outputId": "9fb736c4-df20-487d-f09b-19b3e839455d"
      },
      "source": [
        "len(gradebook[gradebook['homework3_s10'] < 7])"
      ],
      "execution_count": null,
      "outputs": [
        {
          "output_type": "execute_result",
          "data": {
            "text/plain": [
              "39"
            ]
          },
          "metadata": {},
          "execution_count": 44
        }
      ]
    },
    {
      "cell_type": "markdown",
      "metadata": {
        "id": "0b1hDWj5RAyr"
      },
      "source": [
        "13. Cuántos alumnos sacaron un 10 sobre 10 en el examen 1? Y cuál es la media del examen 2, de los alumnos que sacaron un 10 en el examen 1?"
      ]
    },
    {
      "cell_type": "code",
      "metadata": {
        "id": "vQhqJofrToKL",
        "colab": {
          "base_uri": "https://localhost:8080/"
        },
        "outputId": "605d5347-c858-4e94-a5ad-2dfdeba52dbe"
      },
      "source": [
        "# 4 alumnos sacaron 10 sobre 10 en el primer examen\n",
        "len(gradebook[gradebook['exam1_s10'] == 10])"
      ],
      "execution_count": null,
      "outputs": [
        {
          "output_type": "execute_result",
          "data": {
            "text/plain": [
              "4"
            ]
          },
          "metadata": {},
          "execution_count": 46
        }
      ]
    },
    {
      "cell_type": "code",
      "source": [
        "examen1_calif10 = gradebook[gradebook['exam1_s10'] == 10]"
      ],
      "metadata": {
        "id": "xIUUfBvTUT5k"
      },
      "execution_count": null,
      "outputs": []
    },
    {
      "cell_type": "code",
      "source": [
        "import numpy as np"
      ],
      "metadata": {
        "id": "ZB2igvxnVgzJ"
      },
      "execution_count": null,
      "outputs": []
    },
    {
      "cell_type": "code",
      "source": [
        "examen1_calif10['exam2_s10']"
      ],
      "metadata": {
        "colab": {
          "base_uri": "https://localhost:8080/"
        },
        "id": "HVPIihD1Vo46",
        "outputId": "c04e3316-b9b0-4bcc-d962-ca9e24f82de5"
      },
      "execution_count": null,
      "outputs": [
        {
          "output_type": "execute_result",
          "data": {
            "text/plain": [
              "50     7.8\n",
              "53     6.1\n",
              "101    8.2\n",
              "144    8.4\n",
              "Name: exam2_s10, dtype: float64"
            ]
          },
          "metadata": {},
          "execution_count": 53
        }
      ]
    },
    {
      "cell_type": "code",
      "source": [
        "np.mean(examen1_calif10['exam2_s10'])"
      ],
      "metadata": {
        "colab": {
          "base_uri": "https://localhost:8080/"
        },
        "id": "Aq4Nr2o2UCvJ",
        "outputId": "db983d4b-4a83-475e-8e27-fa7861973255"
      },
      "execution_count": null,
      "outputs": [
        {
          "output_type": "execute_result",
          "data": {
            "text/plain": [
              "7.625"
            ]
          },
          "metadata": {},
          "execution_count": 54
        }
      ]
    },
    {
      "cell_type": "markdown",
      "metadata": {
        "id": "xbKLjOV2Rvb6"
      },
      "source": [
        "14. Crea una columna que contenga la media de las 3 homeworks para cada alumno y llamala homework_mean y otra que contenga la media de los 2 examenes para cada alumno y llamala exam_mean. Recuerda que la media se calcula como la suma de los elementos entre el número de elementos"
      ]
    },
    {
      "cell_type": "code",
      "source": [
        "# Funcion para sacar el promedio de las 3 tareas\n",
        "def promedio_tareas(tarea1, tarea2, tarea3):\n",
        "  return ((tarea1+tarea2+tarea3)/3)"
      ],
      "metadata": {
        "id": "Wt8h-JzhfYTH"
      },
      "execution_count": null,
      "outputs": []
    },
    {
      "cell_type": "code",
      "source": [
        "# Funcion para sacar el promedio de los 2 examenes\n",
        "def promedio_examen(examen1,examen2):\n",
        "  return ((examen1+examen2)/2)"
      ],
      "metadata": {
        "id": "jXFz4Yjngh_e"
      },
      "execution_count": null,
      "outputs": []
    },
    {
      "cell_type": "code",
      "source": [
        "gradebook['homework_mean'] = gradebook.apply( lambda row: promedio_tareas(row['homework1_s10'],row['homework2_s10'], row['homework3_s10']), axis=1)"
      ],
      "metadata": {
        "colab": {
          "base_uri": "https://localhost:8080/"
        },
        "id": "Mr_Rx0aafH72",
        "outputId": "07de4aca-bcbb-4792-90b9-e559f2420a8b"
      },
      "execution_count": null,
      "outputs": [
        {
          "output_type": "stream",
          "name": "stderr",
          "text": [
            "<ipython-input-62-e49f9cc6a3ce>:1: SettingWithCopyWarning: \n",
            "A value is trying to be set on a copy of a slice from a DataFrame.\n",
            "Try using .loc[row_indexer,col_indexer] = value instead\n",
            "\n",
            "See the caveats in the documentation: https://pandas.pydata.org/pandas-docs/stable/user_guide/indexing.html#returning-a-view-versus-a-copy\n",
            "  gradebook['homework_mean'] = gradebook.apply( lambda row: promedio_tareas(row['homework1_s10'],row['homework2_s10'], row['homework3_s10']), axis=1)\n"
          ]
        }
      ]
    },
    {
      "cell_type": "code",
      "source": [
        "gradebook['exam_mean'] = gradebook.apply( lambda row: promedio_examen(row['exam1_s10'],row['exam2_s10']), axis=1)"
      ],
      "metadata": {
        "colab": {
          "base_uri": "https://localhost:8080/"
        },
        "id": "rSDPZrv1hqSt",
        "outputId": "70a9ba86-4c40-421b-a4e3-9fe726ac75ca"
      },
      "execution_count": null,
      "outputs": [
        {
          "output_type": "stream",
          "name": "stderr",
          "text": [
            "<ipython-input-64-124a0496e70c>:1: SettingWithCopyWarning: \n",
            "A value is trying to be set on a copy of a slice from a DataFrame.\n",
            "Try using .loc[row_indexer,col_indexer] = value instead\n",
            "\n",
            "See the caveats in the documentation: https://pandas.pydata.org/pandas-docs/stable/user_guide/indexing.html#returning-a-view-versus-a-copy\n",
            "  gradebook['exam_mean'] = gradebook.apply( lambda row: promedio_examen(row['exam1_s10'],row['exam2_s10']), axis=1)\n"
          ]
        }
      ]
    },
    {
      "cell_type": "code",
      "source": [
        "gradebook.head()"
      ],
      "metadata": {
        "colab": {
          "base_uri": "https://localhost:8080/",
          "height": 270
        },
        "id": "1i-EEJjKhV7V",
        "outputId": "205d2ead-b27e-4165-bbf8-bb2c0c2734a6"
      },
      "execution_count": null,
      "outputs": [
        {
          "output_type": "execute_result",
          "data": {
            "text/plain": [
              "  first_name  last_name       sid  homework_1  homework_2  homework_3  exam_1  \\\n",
              "0      Aaron     Lester  axl60952        68.0          74          77      79   \n",
              "1       Adam     Cooper  amc28428        80.0          78          78      65   \n",
              "2       Alec      Curry  axc64717        69.0          76          66      65   \n",
              "3  Alexander  Rodriguez  akr14831        50.0          54          74      97   \n",
              "4      Amber    Daniels  axd11293        54.0          57          77      68   \n",
              "\n",
              "   exam_2  homework1_s10  homework2_s10  homework3_s10  exam1_s10  exam2_s10  \\\n",
              "0      63          8.500          9.250          9.625        7.9        6.3   \n",
              "1      63         10.000          9.750          9.750        6.5        6.3   \n",
              "2      78          8.625          9.500          8.250        6.5        7.8   \n",
              "3      97          6.250          6.750          9.250        9.7        9.7   \n",
              "4      95          6.750          7.125          9.625        6.8        9.5   \n",
              "\n",
              "   exam3_s10  homework_mean  exam_mean  \n",
              "0        6.8       9.125000       7.10  \n",
              "1        9.0       9.833333       6.40  \n",
              "2        8.3       8.791667       7.15  \n",
              "3        8.1       7.416667       9.70  \n",
              "4        8.8       7.833333       8.15  "
            ],
            "text/html": [
              "\n",
              "  <div id=\"df-2be0bc16-10d1-4126-a089-0df179e8e6d3\">\n",
              "    <div class=\"colab-df-container\">\n",
              "      <div>\n",
              "<style scoped>\n",
              "    .dataframe tbody tr th:only-of-type {\n",
              "        vertical-align: middle;\n",
              "    }\n",
              "\n",
              "    .dataframe tbody tr th {\n",
              "        vertical-align: top;\n",
              "    }\n",
              "\n",
              "    .dataframe thead th {\n",
              "        text-align: right;\n",
              "    }\n",
              "</style>\n",
              "<table border=\"1\" class=\"dataframe\">\n",
              "  <thead>\n",
              "    <tr style=\"text-align: right;\">\n",
              "      <th></th>\n",
              "      <th>first_name</th>\n",
              "      <th>last_name</th>\n",
              "      <th>sid</th>\n",
              "      <th>homework_1</th>\n",
              "      <th>homework_2</th>\n",
              "      <th>homework_3</th>\n",
              "      <th>exam_1</th>\n",
              "      <th>exam_2</th>\n",
              "      <th>homework1_s10</th>\n",
              "      <th>homework2_s10</th>\n",
              "      <th>homework3_s10</th>\n",
              "      <th>exam1_s10</th>\n",
              "      <th>exam2_s10</th>\n",
              "      <th>exam3_s10</th>\n",
              "      <th>homework_mean</th>\n",
              "      <th>exam_mean</th>\n",
              "    </tr>\n",
              "  </thead>\n",
              "  <tbody>\n",
              "    <tr>\n",
              "      <th>0</th>\n",
              "      <td>Aaron</td>\n",
              "      <td>Lester</td>\n",
              "      <td>axl60952</td>\n",
              "      <td>68.0</td>\n",
              "      <td>74</td>\n",
              "      <td>77</td>\n",
              "      <td>79</td>\n",
              "      <td>63</td>\n",
              "      <td>8.500</td>\n",
              "      <td>9.250</td>\n",
              "      <td>9.625</td>\n",
              "      <td>7.9</td>\n",
              "      <td>6.3</td>\n",
              "      <td>6.8</td>\n",
              "      <td>9.125000</td>\n",
              "      <td>7.10</td>\n",
              "    </tr>\n",
              "    <tr>\n",
              "      <th>1</th>\n",
              "      <td>Adam</td>\n",
              "      <td>Cooper</td>\n",
              "      <td>amc28428</td>\n",
              "      <td>80.0</td>\n",
              "      <td>78</td>\n",
              "      <td>78</td>\n",
              "      <td>65</td>\n",
              "      <td>63</td>\n",
              "      <td>10.000</td>\n",
              "      <td>9.750</td>\n",
              "      <td>9.750</td>\n",
              "      <td>6.5</td>\n",
              "      <td>6.3</td>\n",
              "      <td>9.0</td>\n",
              "      <td>9.833333</td>\n",
              "      <td>6.40</td>\n",
              "    </tr>\n",
              "    <tr>\n",
              "      <th>2</th>\n",
              "      <td>Alec</td>\n",
              "      <td>Curry</td>\n",
              "      <td>axc64717</td>\n",
              "      <td>69.0</td>\n",
              "      <td>76</td>\n",
              "      <td>66</td>\n",
              "      <td>65</td>\n",
              "      <td>78</td>\n",
              "      <td>8.625</td>\n",
              "      <td>9.500</td>\n",
              "      <td>8.250</td>\n",
              "      <td>6.5</td>\n",
              "      <td>7.8</td>\n",
              "      <td>8.3</td>\n",
              "      <td>8.791667</td>\n",
              "      <td>7.15</td>\n",
              "    </tr>\n",
              "    <tr>\n",
              "      <th>3</th>\n",
              "      <td>Alexander</td>\n",
              "      <td>Rodriguez</td>\n",
              "      <td>akr14831</td>\n",
              "      <td>50.0</td>\n",
              "      <td>54</td>\n",
              "      <td>74</td>\n",
              "      <td>97</td>\n",
              "      <td>97</td>\n",
              "      <td>6.250</td>\n",
              "      <td>6.750</td>\n",
              "      <td>9.250</td>\n",
              "      <td>9.7</td>\n",
              "      <td>9.7</td>\n",
              "      <td>8.1</td>\n",
              "      <td>7.416667</td>\n",
              "      <td>9.70</td>\n",
              "    </tr>\n",
              "    <tr>\n",
              "      <th>4</th>\n",
              "      <td>Amber</td>\n",
              "      <td>Daniels</td>\n",
              "      <td>axd11293</td>\n",
              "      <td>54.0</td>\n",
              "      <td>57</td>\n",
              "      <td>77</td>\n",
              "      <td>68</td>\n",
              "      <td>95</td>\n",
              "      <td>6.750</td>\n",
              "      <td>7.125</td>\n",
              "      <td>9.625</td>\n",
              "      <td>6.8</td>\n",
              "      <td>9.5</td>\n",
              "      <td>8.8</td>\n",
              "      <td>7.833333</td>\n",
              "      <td>8.15</td>\n",
              "    </tr>\n",
              "  </tbody>\n",
              "</table>\n",
              "</div>\n",
              "      <button class=\"colab-df-convert\" onclick=\"convertToInteractive('df-2be0bc16-10d1-4126-a089-0df179e8e6d3')\"\n",
              "              title=\"Convert this dataframe to an interactive table.\"\n",
              "              style=\"display:none;\">\n",
              "        \n",
              "  <svg xmlns=\"http://www.w3.org/2000/svg\" height=\"24px\"viewBox=\"0 0 24 24\"\n",
              "       width=\"24px\">\n",
              "    <path d=\"M0 0h24v24H0V0z\" fill=\"none\"/>\n",
              "    <path d=\"M18.56 5.44l.94 2.06.94-2.06 2.06-.94-2.06-.94-.94-2.06-.94 2.06-2.06.94zm-11 1L8.5 8.5l.94-2.06 2.06-.94-2.06-.94L8.5 2.5l-.94 2.06-2.06.94zm10 10l.94 2.06.94-2.06 2.06-.94-2.06-.94-.94-2.06-.94 2.06-2.06.94z\"/><path d=\"M17.41 7.96l-1.37-1.37c-.4-.4-.92-.59-1.43-.59-.52 0-1.04.2-1.43.59L10.3 9.45l-7.72 7.72c-.78.78-.78 2.05 0 2.83L4 21.41c.39.39.9.59 1.41.59.51 0 1.02-.2 1.41-.59l7.78-7.78 2.81-2.81c.8-.78.8-2.07 0-2.86zM5.41 20L4 18.59l7.72-7.72 1.47 1.35L5.41 20z\"/>\n",
              "  </svg>\n",
              "      </button>\n",
              "      \n",
              "  <style>\n",
              "    .colab-df-container {\n",
              "      display:flex;\n",
              "      flex-wrap:wrap;\n",
              "      gap: 12px;\n",
              "    }\n",
              "\n",
              "    .colab-df-convert {\n",
              "      background-color: #E8F0FE;\n",
              "      border: none;\n",
              "      border-radius: 50%;\n",
              "      cursor: pointer;\n",
              "      display: none;\n",
              "      fill: #1967D2;\n",
              "      height: 32px;\n",
              "      padding: 0 0 0 0;\n",
              "      width: 32px;\n",
              "    }\n",
              "\n",
              "    .colab-df-convert:hover {\n",
              "      background-color: #E2EBFA;\n",
              "      box-shadow: 0px 1px 2px rgba(60, 64, 67, 0.3), 0px 1px 3px 1px rgba(60, 64, 67, 0.15);\n",
              "      fill: #174EA6;\n",
              "    }\n",
              "\n",
              "    [theme=dark] .colab-df-convert {\n",
              "      background-color: #3B4455;\n",
              "      fill: #D2E3FC;\n",
              "    }\n",
              "\n",
              "    [theme=dark] .colab-df-convert:hover {\n",
              "      background-color: #434B5C;\n",
              "      box-shadow: 0px 1px 3px 1px rgba(0, 0, 0, 0.15);\n",
              "      filter: drop-shadow(0px 1px 2px rgba(0, 0, 0, 0.3));\n",
              "      fill: #FFFFFF;\n",
              "    }\n",
              "  </style>\n",
              "\n",
              "      <script>\n",
              "        const buttonEl =\n",
              "          document.querySelector('#df-2be0bc16-10d1-4126-a089-0df179e8e6d3 button.colab-df-convert');\n",
              "        buttonEl.style.display =\n",
              "          google.colab.kernel.accessAllowed ? 'block' : 'none';\n",
              "\n",
              "        async function convertToInteractive(key) {\n",
              "          const element = document.querySelector('#df-2be0bc16-10d1-4126-a089-0df179e8e6d3');\n",
              "          const dataTable =\n",
              "            await google.colab.kernel.invokeFunction('convertToInteractive',\n",
              "                                                     [key], {});\n",
              "          if (!dataTable) return;\n",
              "\n",
              "          const docLinkHtml = 'Like what you see? Visit the ' +\n",
              "            '<a target=\"_blank\" href=https://colab.research.google.com/notebooks/data_table.ipynb>data table notebook</a>'\n",
              "            + ' to learn more about interactive tables.';\n",
              "          element.innerHTML = '';\n",
              "          dataTable['output_type'] = 'display_data';\n",
              "          await google.colab.output.renderOutput(dataTable, element);\n",
              "          const docLink = document.createElement('div');\n",
              "          docLink.innerHTML = docLinkHtml;\n",
              "          element.appendChild(docLink);\n",
              "        }\n",
              "      </script>\n",
              "    </div>\n",
              "  </div>\n",
              "  "
            ]
          },
          "metadata": {},
          "execution_count": 65
        }
      ]
    },
    {
      "cell_type": "markdown",
      "metadata": {
        "id": "sIvpTTWzRxvh"
      },
      "source": [
        "15. Haz un scatter plot que relacione homework_mean con examen_mean, ves alguna relacion interesante?\n",
        "Recuerda importar la libreria matplotlib.pyplot"
      ]
    },
    {
      "cell_type": "code",
      "metadata": {
        "id": "Poc2_iFwTfUy",
        "colab": {
          "base_uri": "https://localhost:8080/",
          "height": 490
        },
        "outputId": "048ab635-189f-4e6a-fcf8-cfc867b26fc5"
      },
      "source": [
        "import matplotlib.pyplot as plt\n",
        "gradebook.plot(kind='scatter', x = 'homework_mean', y = 'exam_mean', title = 'homework_mean vs exam_mean')\n",
        "#No hay ninguna relación entre las variables"
      ],
      "execution_count": null,
      "outputs": [
        {
          "output_type": "execute_result",
          "data": {
            "text/plain": [
              "<Axes: title={'center': 'homework_mean vs exam_mean'}, xlabel='homework_mean', ylabel='exam_mean'>"
            ]
          },
          "metadata": {},
          "execution_count": 67
        },
        {
          "output_type": "display_data",
          "data": {
            "text/plain": [
              "<Figure size 640x480 with 1 Axes>"
            ],
            "image/png": "[encoded data removed]"
          },
          "metadata": {}
        }
      ]
    }
  ]
}