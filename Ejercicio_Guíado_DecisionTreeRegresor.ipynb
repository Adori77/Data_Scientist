{
  "nbformat": 4,
  "nbformat_minor": 0,
  "metadata": {
    "colab": {
      "provenance": [],
      "include_colab_link": true
    },
    "kernelspec": {
      "name": "python3",
      "display_name": "Python 3"
    },
    "language_info": {
      "name": "python"
    }
  },
  "cells": [
    {
      "cell_type": "markdown",
      "metadata": {
        "id": "view-in-github",
        "colab_type": "text"
      },
      "source": [
        "<a href=\"https://colab.research.google.com/github/Adori77/Data_Scientist/blob/main/Ejercicio_Gu%C3%ADado_DecisionTreeRegresor.ipynb\" target=\"_parent\"><img src=\"https://colab.research.google.com/assets/colab-badge.svg\" alt=\"Open In Colab\"/></a>"
      ]
    },
    {
      "cell_type": "markdown",
      "source": [
        "# DATA PREPARATION SUMMARY\n"
      ],
      "metadata": {
        "id": "-hZA1KUFiirN"
      }
    },
    {
      "cell_type": "code",
      "execution_count": null,
      "metadata": {
        "id": "0yPTEnMLiAi2"
      },
      "outputs": [],
      "source": [
        "import pandas as pd\n",
        "import numpy as np\n",
        "\n",
        "import matplotlib.pyplot as plt\n",
        "import seaborn as sns\n",
        "\n",
        "from sklearn.preprocessing import LabelEncoder, MinMaxScaler, StandardScaler\n",
        "from sklearn.tree import DecisionTreeClassifier"
      ]
    },
    {
      "cell_type": "code",
      "source": [
        "# MinMaxScaler es para normalizar un dataset\n",
        "# StandardScaler es para normalizar un dataset\n",
        "# LabelEncoder sirve para normalizar labels, también normaliza labels no-numéricas\n",
        "# mientras tengan posicionamiento y sean comparables"
      ],
      "metadata": {
        "id": "Mhk7o3ESzC5y"
      },
      "execution_count": null,
      "outputs": []
    },
    {
      "cell_type": "markdown",
      "source": [
        "Carguemos un dataset de seaborn sobre los trayectos en Taxi en NY.\n",
        "\n",
        "Las columnas son las siguientes:\n",
        "- **pickup**: Timestamp de recogida del cliente\n",
        "- **dropoff**: Timestamp de entrega del cliente\n",
        "- **passengers**: Número de pasajeros\n",
        "- **distance**: Distancia en metros\n",
        "- **fare**: Tarifa\n",
        "- **tip**: Propina\n",
        "- **tolls**: Peajes\n",
        "- **total**: Ticket total (fare + tolls + propina)\n",
        "- **color**: Color del taxi\n",
        "- **payment**: Método de pago\n",
        "- **pickup_zone**: Zona de recogida\n",
        "- **dropoff_zone**: Zona de entrega\n",
        "- **pickup_borough**: Barrio de recogida\n",
        "- **dropoff_borough**: Barrio de entrega\n",
        "\n",
        "Nuestro target será averiguar qué propina (tip) podemos esperar.\n",
        "Cuidado con el data leakage (**fuga de datos**) (Pista: la suma de 2 variables enmascara nuestro target)"
      ],
      "metadata": {
        "id": "j-Z1laVxi6Ua"
      }
    },
    {
      "cell_type": "code",
      "source": [
        "# Load data\n",
        "data = sns.load_dataset(\"taxis\")"
      ],
      "metadata": {
        "id": "A9rjP2Uvi2m4"
      },
      "execution_count": null,
      "outputs": []
    },
    {
      "cell_type": "code",
      "source": [
        "data.head()"
      ],
      "metadata": {
        "colab": {
          "base_uri": "https://localhost:8080/",
          "height": 337
        },
        "id": "A2W5y8_3i8qZ",
        "outputId": "41867b20-5aab-459c-abe7-8f9f73014dee"
      },
      "execution_count": null,
      "outputs": [
        {
          "output_type": "execute_result",
          "data": {
            "text/plain": [
              "               pickup             dropoff  passengers  distance  fare   tip  \\\n",
              "0 2019-03-23 20:21:09 2019-03-23 20:27:24           1      1.60   7.0  2.15   \n",
              "1 2019-03-04 16:11:55 2019-03-04 16:19:00           1      0.79   5.0  0.00   \n",
              "2 2019-03-27 17:53:01 2019-03-27 18:00:25           1      1.37   7.5  2.36   \n",
              "3 2019-03-10 01:23:59 2019-03-10 01:49:51           1      7.70  27.0  6.15   \n",
              "4 2019-03-30 13:27:42 2019-03-30 13:37:14           3      2.16   9.0  1.10   \n",
              "\n",
              "   tolls  total   color      payment            pickup_zone  \\\n",
              "0    0.0  12.95  yellow  credit card        Lenox Hill West   \n",
              "1    0.0   9.30  yellow         cash  Upper West Side South   \n",
              "2    0.0  14.16  yellow  credit card          Alphabet City   \n",
              "3    0.0  36.95  yellow  credit card              Hudson Sq   \n",
              "4    0.0  13.40  yellow  credit card           Midtown East   \n",
              "\n",
              "            dropoff_zone pickup_borough dropoff_borough  \n",
              "0    UN/Turtle Bay South      Manhattan       Manhattan  \n",
              "1  Upper West Side South      Manhattan       Manhattan  \n",
              "2           West Village      Manhattan       Manhattan  \n",
              "3         Yorkville West      Manhattan       Manhattan  \n",
              "4         Yorkville West      Manhattan       Manhattan  "
            ],
            "text/html": [
              "\n",
              "  <div id=\"df-0e1de353-9419-4a02-8cbe-e1f257d97dd3\">\n",
              "    <div class=\"colab-df-container\">\n",
              "      <div>\n",
              "<style scoped>\n",
              "    .dataframe tbody tr th:only-of-type {\n",
              "        vertical-align: middle;\n",
              "    }\n",
              "\n",
              "    .dataframe tbody tr th {\n",
              "        vertical-align: top;\n",
              "    }\n",
              "\n",
              "    .dataframe thead th {\n",
              "        text-align: right;\n",
              "    }\n",
              "</style>\n",
              "<table border=\"1\" class=\"dataframe\">\n",
              "  <thead>\n",
              "    <tr style=\"text-align: right;\">\n",
              "      <th></th>\n",
              "      <th>pickup</th>\n",
              "      <th>dropoff</th>\n",
              "      <th>passengers</th>\n",
              "      <th>distance</th>\n",
              "      <th>fare</th>\n",
              "      <th>tip</th>\n",
              "      <th>tolls</th>\n",
              "      <th>total</th>\n",
              "      <th>color</th>\n",
              "      <th>payment</th>\n",
              "      <th>pickup_zone</th>\n",
              "      <th>dropoff_zone</th>\n",
              "      <th>pickup_borough</th>\n",
              "      <th>dropoff_borough</th>\n",
              "    </tr>\n",
              "  </thead>\n",
              "  <tbody>\n",
              "    <tr>\n",
              "      <th>0</th>\n",
              "      <td>2019-03-23 20:21:09</td>\n",
              "      <td>2019-03-23 20:27:24</td>\n",
              "      <td>1</td>\n",
              "      <td>1.60</td>\n",
              "      <td>7.0</td>\n",
              "      <td>2.15</td>\n",
              "      <td>0.0</td>\n",
              "      <td>12.95</td>\n",
              "      <td>yellow</td>\n",
              "      <td>credit card</td>\n",
              "      <td>Lenox Hill West</td>\n",
              "      <td>UN/Turtle Bay South</td>\n",
              "      <td>Manhattan</td>\n",
              "      <td>Manhattan</td>\n",
              "    </tr>\n",
              "    <tr>\n",
              "      <th>1</th>\n",
              "      <td>2019-03-04 16:11:55</td>\n",
              "      <td>2019-03-04 16:19:00</td>\n",
              "      <td>1</td>\n",
              "      <td>0.79</td>\n",
              "      <td>5.0</td>\n",
              "      <td>0.00</td>\n",
              "      <td>0.0</td>\n",
              "      <td>9.30</td>\n",
              "      <td>yellow</td>\n",
              "      <td>cash</td>\n",
              "      <td>Upper West Side South</td>\n",
              "      <td>Upper West Side South</td>\n",
              "      <td>Manhattan</td>\n",
              "      <td>Manhattan</td>\n",
              "    </tr>\n",
              "    <tr>\n",
              "      <th>2</th>\n",
              "      <td>2019-03-27 17:53:01</td>\n",
              "      <td>2019-03-27 18:00:25</td>\n",
              "      <td>1</td>\n",
              "      <td>1.37</td>\n",
              "      <td>7.5</td>\n",
              "      <td>2.36</td>\n",
              "      <td>0.0</td>\n",
              "      <td>14.16</td>\n",
              "      <td>yellow</td>\n",
              "      <td>credit card</td>\n",
              "      <td>Alphabet City</td>\n",
              "      <td>West Village</td>\n",
              "      <td>Manhattan</td>\n",
              "      <td>Manhattan</td>\n",
              "    </tr>\n",
              "    <tr>\n",
              "      <th>3</th>\n",
              "      <td>2019-03-10 01:23:59</td>\n",
              "      <td>2019-03-10 01:49:51</td>\n",
              "      <td>1</td>\n",
              "      <td>7.70</td>\n",
              "      <td>27.0</td>\n",
              "      <td>6.15</td>\n",
              "      <td>0.0</td>\n",
              "      <td>36.95</td>\n",
              "      <td>yellow</td>\n",
              "      <td>credit card</td>\n",
              "      <td>Hudson Sq</td>\n",
              "      <td>Yorkville West</td>\n",
              "      <td>Manhattan</td>\n",
              "      <td>Manhattan</td>\n",
              "    </tr>\n",
              "    <tr>\n",
              "      <th>4</th>\n",
              "      <td>2019-03-30 13:27:42</td>\n",
              "      <td>2019-03-30 13:37:14</td>\n",
              "      <td>3</td>\n",
              "      <td>2.16</td>\n",
              "      <td>9.0</td>\n",
              "      <td>1.10</td>\n",
              "      <td>0.0</td>\n",
              "      <td>13.40</td>\n",
              "      <td>yellow</td>\n",
              "      <td>credit card</td>\n",
              "      <td>Midtown East</td>\n",
              "      <td>Yorkville West</td>\n",
              "      <td>Manhattan</td>\n",
              "      <td>Manhattan</td>\n",
              "    </tr>\n",
              "  </tbody>\n",
              "</table>\n",
              "</div>\n",
              "      <button class=\"colab-df-convert\" onclick=\"convertToInteractive('df-0e1de353-9419-4a02-8cbe-e1f257d97dd3')\"\n",
              "              title=\"Convert this dataframe to an interactive table.\"\n",
              "              style=\"display:none;\">\n",
              "        \n",
              "  <svg xmlns=\"http://www.w3.org/2000/svg\" height=\"24px\"viewBox=\"0 0 24 24\"\n",
              "       width=\"24px\">\n",
              "    <path d=\"M0 0h24v24H0V0z\" fill=\"none\"/>\n",
              "    <path d=\"M18.56 5.44l.94 2.06.94-2.06 2.06-.94-2.06-.94-.94-2.06-.94 2.06-2.06.94zm-11 1L8.5 8.5l.94-2.06 2.06-.94-2.06-.94L8.5 2.5l-.94 2.06-2.06.94zm10 10l.94 2.06.94-2.06 2.06-.94-2.06-.94-.94-2.06-.94 2.06-2.06.94z\"/><path d=\"M17.41 7.96l-1.37-1.37c-.4-.4-.92-.59-1.43-.59-.52 0-1.04.2-1.43.59L10.3 9.45l-7.72 7.72c-.78.78-.78 2.05 0 2.83L4 21.41c.39.39.9.59 1.41.59.51 0 1.02-.2 1.41-.59l7.78-7.78 2.81-2.81c.8-.78.8-2.07 0-2.86zM5.41 20L4 18.59l7.72-7.72 1.47 1.35L5.41 20z\"/>\n",
              "  </svg>\n",
              "      </button>\n",
              "      \n",
              "  <style>\n",
              "    .colab-df-container {\n",
              "      display:flex;\n",
              "      flex-wrap:wrap;\n",
              "      gap: 12px;\n",
              "    }\n",
              "\n",
              "    .colab-df-convert {\n",
              "      background-color: #E8F0FE;\n",
              "      border: none;\n",
              "      border-radius: 50%;\n",
              "      cursor: pointer;\n",
              "      display: none;\n",
              "      fill: #1967D2;\n",
              "      height: 32px;\n",
              "      padding: 0 0 0 0;\n",
              "      width: 32px;\n",
              "    }\n",
              "\n",
              "    .colab-df-convert:hover {\n",
              "      background-color: #E2EBFA;\n",
              "      box-shadow: 0px 1px 2px rgba(60, 64, 67, 0.3), 0px 1px 3px 1px rgba(60, 64, 67, 0.15);\n",
              "      fill: #174EA6;\n",
              "    }\n",
              "\n",
              "    [theme=dark] .colab-df-convert {\n",
              "      background-color: #3B4455;\n",
              "      fill: #D2E3FC;\n",
              "    }\n",
              "\n",
              "    [theme=dark] .colab-df-convert:hover {\n",
              "      background-color: #434B5C;\n",
              "      box-shadow: 0px 1px 3px 1px rgba(0, 0, 0, 0.15);\n",
              "      filter: drop-shadow(0px 1px 2px rgba(0, 0, 0, 0.3));\n",
              "      fill: #FFFFFF;\n",
              "    }\n",
              "  </style>\n",
              "\n",
              "      <script>\n",
              "        const buttonEl =\n",
              "          document.querySelector('#df-0e1de353-9419-4a02-8cbe-e1f257d97dd3 button.colab-df-convert');\n",
              "        buttonEl.style.display =\n",
              "          google.colab.kernel.accessAllowed ? 'block' : 'none';\n",
              "\n",
              "        async function convertToInteractive(key) {\n",
              "          const element = document.querySelector('#df-0e1de353-9419-4a02-8cbe-e1f257d97dd3');\n",
              "          const dataTable =\n",
              "            await google.colab.kernel.invokeFunction('convertToInteractive',\n",
              "                                                     [key], {});\n",
              "          if (!dataTable) return;\n",
              "\n",
              "          const docLinkHtml = 'Like what you see? Visit the ' +\n",
              "            '<a target=\"_blank\" href=https://colab.research.google.com/notebooks/data_table.ipynb>data table notebook</a>'\n",
              "            + ' to learn more about interactive tables.';\n",
              "          element.innerHTML = '';\n",
              "          dataTable['output_type'] = 'display_data';\n",
              "          await google.colab.output.renderOutput(dataTable, element);\n",
              "          const docLink = document.createElement('div');\n",
              "          docLink.innerHTML = docLinkHtml;\n",
              "          element.appendChild(docLink);\n",
              "        }\n",
              "      </script>\n",
              "    </div>\n",
              "  </div>\n",
              "  "
            ]
          },
          "metadata": {},
          "execution_count": 4
        }
      ]
    },
    {
      "cell_type": "markdown",
      "source": [
        "# Variables numéricas"
      ],
      "metadata": {
        "id": "0KD8ULK4lC9z"
      }
    },
    {
      "cell_type": "code",
      "source": [
        "num_var = 'distance'"
      ],
      "metadata": {
        "id": "ePNz-w5LlRTH"
      },
      "execution_count": null,
      "outputs": []
    },
    {
      "cell_type": "code",
      "source": [
        "# Create just a figure and only one subplot\n",
        "# plt.subplot(1, 2, 1) : the figure has 1 row, 2 columns, and this plot is the first plot.\n",
        "# La función crea varios gráficos en una sola figura, en este caso solo queremos un gráfico\n",
        "fig, ax = plt.subplots()\n",
        "# ax es axes for the plot\n",
        "sns.histplot(data[num_var], bins=20, ax=ax)\n",
        "# Vemos que la mayoría de los trayectos son cortos (no más de 2 millas)\n",
        "# sns.kdeplot(data[num_var], ax=ax)\n",
        "plt.show()"
      ],
      "metadata": {
        "colab": {
          "base_uri": "https://localhost:8080/",
          "height": 449
        },
        "id": "McrbUa6ElU-1",
        "outputId": "667a3251-5abf-466e-c887-75a1e42fe28d"
      },
      "execution_count": null,
      "outputs": [
        {
          "output_type": "display_data",
          "data": {
            "text/plain": [
              "<Figure size 640x480 with 1 Axes>"
            ],
            "image/png": "[encoded data removed]"
          },
          "metadata": {}
        }
      ]
    },
    {
      "cell_type": "markdown",
      "source": [
        "## Modelos geométricos\n",
        "\n",
        "### Conversión de magnitud\n",
        "\n",
        "Expresar magnitudes en otra escala.\n",
        "- aplicando logaritmos - cuidado con valores negativos.\n",
        "- dividiendo entre 10, 100, 1.000, etc.\n",
        "- raíz cuadrada\n"
      ],
      "metadata": {
        "id": "df5GtL1YmgqO"
      }
    },
    {
      "cell_type": "code",
      "source": [
        "# Logaritmo\n",
        "data[num_var+'_log'] = data[num_var].apply(lambda x: np.log(x+1)) # CUIDADO! Logaritmo no acepta negativos ni 0\n",
        "# Transformando a logaritmo podemos observar una distribución más clara sobre cuales son las distancias más comunes\n",
        "fig, ax = plt.subplots()\n",
        "sns.histplot(data[num_var+'_log'], bins=20, ax=ax)\n",
        "plt.show()"
      ],
      "metadata": {
        "colab": {
          "base_uri": "https://localhost:8080/",
          "height": 450
        },
        "id": "J9QpaC2ynCJM",
        "outputId": "a06b77e8-5e56-4ed7-fdd8-52854f2a4978"
      },
      "execution_count": null,
      "outputs": [
        {
          "output_type": "display_data",
          "data": {
            "text/plain": [
              "<Figure size 640x480 with 1 Axes>"
            ],
            "image/png": "[encoded data removed]"
          },
          "metadata": {}
        }
      ]
    },
    {
      "cell_type": "code",
      "source": [
        "# Escala\n",
        "# Tendría sentido si distance estuviera expresada en metros, y quisieramos pasarla a km.\n",
        "data[num_var+'_scaled'] = data[num_var]/1000 # De metros a km\n",
        "# Observar que cuando se usa el mismo número para hacer operaciones con todo el dataset no es necesario crear funciones lambda para aplicarlo en todos los datos\n",
        "fig, ax = plt.subplots()\n",
        "sns.histplot(data[num_var+'_scaled'], bins=20, ax=ax)\n",
        "plt.show()"
      ],
      "metadata": {
        "colab": {
          "base_uri": "https://localhost:8080/",
          "height": 450
        },
        "id": "eYYDFoxfm1_A",
        "outputId": "f585fa44-be7d-4af4-a497-4dddfdbca4bc"
      },
      "execution_count": null,
      "outputs": [
        {
          "output_type": "display_data",
          "data": {
            "text/plain": [
              "<Figure size 640x480 with 1 Axes>"
            ],
            "image/png": "[encoded data removed]"
          },
          "metadata": {}
        }
      ]
    },
    {
      "cell_type": "code",
      "source": [
        "# Raíz cuadrada\n",
        "\n",
        "data[num_var+'_sqrt'] = data[num_var].apply(lambda x: np.sqrt(x+1) ) # No acepta valores negativos!\n",
        "\n",
        "fig, ax = plt.subplots()\n",
        "sns.histplot(data[num_var+'_sqrt'], bins=20, ax=ax)\n",
        "plt.show()"
      ],
      "metadata": {
        "colab": {
          "base_uri": "https://localhost:8080/",
          "height": 454
        },
        "id": "rmP4UodAnq1R",
        "outputId": "a08891e1-89ad-4915-f7b2-5b26b279c032"
      },
      "execution_count": null,
      "outputs": [
        {
          "output_type": "display_data",
          "data": {
            "text/plain": [
              "<Figure size 640x480 with 1 Axes>"
            ],
            "image/png": "[encoded data removed]"
          },
          "metadata": {}
        }
      ]
    },
    {
      "cell_type": "markdown",
      "source": [
        "### Tratamiento de outliers (clipping)\n",
        "\n",
        "Limitar valores muy extremos."
      ],
      "metadata": {
        "id": "FcLU-qggmt9m"
      }
    },
    {
      "cell_type": "code",
      "source": [
        "num_var = 'fare'\n",
        "# Es la tarifa"
      ],
      "metadata": {
        "id": "7-kBU0DLm1n5"
      },
      "execution_count": null,
      "outputs": []
    },
    {
      "cell_type": "code",
      "source": [
        "fig, ax = plt.subplots()\n",
        "sns.histplot(data[num_var], bins=20, ax=ax)\n",
        "# La mayoría de las tarifas son pequeñas ya que las distancias recorridas también lo son\n",
        "#sns.kdeplot(data[num_var], ax=ax)\n",
        "plt.show()"
      ],
      "metadata": {
        "colab": {
          "base_uri": "https://localhost:8080/",
          "height": 449
        },
        "id": "1rPc01SWodaU",
        "outputId": "8d3d45df-e37b-45e4-e5f9-0523d75cd53a"
      },
      "execution_count": null,
      "outputs": [
        {
          "output_type": "display_data",
          "data": {
            "text/plain": [
              "<Figure size 640x480 with 1 Axes>"
            ],
            "image/png": "[encoded data removed]"
          },
          "metadata": {}
        }
      ]
    },
    {
      "cell_type": "code",
      "source": [
        "# En la gráfica observamos que la mayoría de los datos se encuentran entre 0 y 60\n",
        "# Usamos el método clip donde especificamos que los valores menores a cero sean 0 y los mayores a 60 sean 60\n",
        "data[num_var+'_clip'] = data[num_var].clip(lower=0, upper=60)"
      ],
      "metadata": {
        "id": "vItU8pQEohlu"
      },
      "execution_count": null,
      "outputs": []
    },
    {
      "cell_type": "code",
      "source": [
        "fig, ax = plt.subplots()\n",
        "sns.histplot(data[num_var+'_clip'], bins=20, ax=ax)\n",
        "#sns.kdeplot(data[num_var], ax=ax)\n",
        "plt.show()"
      ],
      "metadata": {
        "colab": {
          "base_uri": "https://localhost:8080/",
          "height": 450
        },
        "id": "tJUCphMJrIW9",
        "outputId": "a68b1799-257b-4edf-dd29-220d7a8fa622"
      },
      "execution_count": null,
      "outputs": [
        {
          "output_type": "display_data",
          "data": {
            "text/plain": [
              "<Figure size 640x480 with 1 Axes>"
            ],
            "image/png": "[encoded data removed]"
          },
          "metadata": {}
        }
      ]
    },
    {
      "cell_type": "markdown",
      "source": [
        "### Estandarización\n",
        "\n",
        "Expresamos la variable de modo que la media quede en el 0, y las distancias queden expresadas en función de la desviación estándar.\n",
        "\n",
        "$ Standard \\ scaler = \\frac{x - mean}{stddev}$"
      ],
      "metadata": {
        "id": "5Ry_73zNmxKe"
      }
    },
    {
      "cell_type": "code",
      "source": [
        "# StandardScaler es para normalizar un dataset\n",
        "std_scaler = StandardScaler()\n",
        "std_scaler.fit(data[[num_var]])\n",
        "# Dejamos que Standard Scaler aprenda los valores con el método fit(), que calcule la media y la desviación estandar\n",
        "\n",
        "data[num_var+'_std'] = std_scaler.transform(data[[num_var]])\n",
        "# transform() permite obtener la desviación estándar\n",
        "# Se ajustaron los valores para que la media quedara en el 0 y el resto en múltiplos de la desviación estándar"
      ],
      "metadata": {
        "id": "-2xBDC4CmsyQ"
      },
      "execution_count": null,
      "outputs": []
    },
    {
      "cell_type": "code",
      "source": [
        "fig, ax = plt.subplots()\n",
        "sns.histplot(data[num_var+'_std'], bins=20, ax=ax)\n",
        "#sns.kdeplot(data[num_var], ax=ax)\n",
        "plt.show()"
      ],
      "metadata": {
        "colab": {
          "base_uri": "https://localhost:8080/",
          "height": 450
        },
        "id": "UPecCTxg2fdW",
        "outputId": "ef7c8c10-f6d9-40ac-e31d-e04300e3974b"
      },
      "execution_count": null,
      "outputs": [
        {
          "output_type": "display_data",
          "data": {
            "text/plain": [
              "<Figure size 640x480 with 1 Axes>"
            ],
            "image/png": "[encoded data removed]"
          },
          "metadata": {}
        }
      ]
    },
    {
      "cell_type": "markdown",
      "source": [
        "### Normalización\n",
        "\n",
        "Expresamos la variable entre 0 y 1. El mínimo será ahora 0 y el máximo 1.\n",
        "\n",
        "$ Min-Max \\ scaler = \\frac{x - min}{max-min}$"
      ],
      "metadata": {
        "id": "xPTQzs2WmzjL"
      }
    },
    {
      "cell_type": "code",
      "source": [
        "# MinMaxScaler es para normalizar un dataset\n",
        "minmax_scaler = MinMaxScaler()\n",
        "minmax_scaler.fit(data[[num_var]])\n",
        "\n",
        "data[num_var+'_norm'] = minmax_scaler.transform(data[[num_var]])\n",
        "# Aqui veremos los valores entre 0 y 1"
      ],
      "metadata": {
        "id": "IM4OG7Tbrkk7"
      },
      "execution_count": null,
      "outputs": []
    },
    {
      "cell_type": "code",
      "source": [
        "fig, ax = plt.subplots()\n",
        "sns.histplot(data[num_var+'_norm'], bins=20, ax=ax)\n",
        "#sns.kdeplot(data[num_var], ax=ax)\n",
        "plt.show()"
      ],
      "metadata": {
        "colab": {
          "base_uri": "https://localhost:8080/",
          "height": 450
        },
        "id": "FiYe1fAS2niO",
        "outputId": "1ad86d77-d2d6-4393-a19e-d7329a4a49cd"
      },
      "execution_count": null,
      "outputs": [
        {
          "output_type": "display_data",
          "data": {
            "text/plain": [
              "<Figure size 640x480 with 1 Axes>"
            ],
            "image/png": "[encoded data removed]"
          },
          "metadata": {}
        }
      ]
    },
    {
      "cell_type": "markdown",
      "source": [
        "## Modelos lógicos"
      ],
      "metadata": {
        "id": "nt8K2p3xmmFC"
      }
    },
    {
      "cell_type": "markdown",
      "source": [
        "## Discretización de variables continuas"
      ],
      "metadata": {
        "id": "zIrJO7h2omqr"
      }
    },
    {
      "cell_type": "code",
      "source": [
        "num_var = 'fare'"
      ],
      "metadata": {
        "id": "85cm6K5Fo_eS"
      },
      "execution_count": null,
      "outputs": []
    },
    {
      "cell_type": "code",
      "source": [
        "fig, ax = plt.subplots()\n",
        "sns.histplot(data[num_var], bins=20, ax=ax)\n",
        "#sns.kdeplot(data[num_var], ax=ax)\n",
        "plt.show()"
      ],
      "metadata": {
        "colab": {
          "base_uri": "https://localhost:8080/",
          "height": 449
        },
        "id": "6TsDhZ2tuwxW",
        "outputId": "0cef0ea9-01ed-4802-b9fa-e29d692fb898"
      },
      "execution_count": null,
      "outputs": [
        {
          "output_type": "display_data",
          "data": {
            "text/plain": [
              "<Figure size 640x480 with 1 Axes>"
            ],
            "image/png": "[encoded data removed]"
          },
          "metadata": {}
        }
      ]
    },
    {
      "cell_type": "markdown",
      "source": [
        "### cut (Esquidistante)\n",
        "\n",
        "Extraemos el mínimo y el máximo de los datos de nuestra variables.\n",
        "Y generamos un rango o delta:\n",
        "\n",
        "$delta (\\Delta) = \\frac{max - min}{N}$\n",
        "\n",
        "donde N (bins) es el número de tramos que queremos y delta el rango entre los tramos."
      ],
      "metadata": {
        "id": "uSFOt1AZvSZU"
      }
    },
    {
      "cell_type": "code",
      "source": [
        "# cut: bins marca el número de tramos que queremos\n",
        "data[num_var+'_cut'] = pd.cut(data[num_var], bins=10)"
      ],
      "metadata": {
        "id": "iiBj432Hux23"
      },
      "execution_count": null,
      "outputs": []
    },
    {
      "cell_type": "code",
      "source": [
        "# Obtenemos una variable categórica la cual se especifica en rangos\n",
        "data[num_var+'_cut']"
      ],
      "metadata": {
        "colab": {
          "base_uri": "https://localhost:8080/"
        },
        "id": "FbumbbrM-lU_",
        "outputId": "d5dd1209-bc87-4750-8735-2bd9f573c83f"
      },
      "execution_count": null,
      "outputs": [
        {
          "output_type": "execute_result",
          "data": {
            "text/plain": [
              "0       (0.851, 15.9]\n",
              "1       (0.851, 15.9]\n",
              "2       (0.851, 15.9]\n",
              "3        (15.9, 30.8]\n",
              "4       (0.851, 15.9]\n",
              "            ...      \n",
              "6428    (0.851, 15.9]\n",
              "6429     (45.7, 60.6]\n",
              "6430     (15.9, 30.8]\n",
              "6431    (0.851, 15.9]\n",
              "6432    (0.851, 15.9]\n",
              "Name: fare_cut, Length: 6433, dtype: category\n",
              "Categories (10, interval[float64, right]): [(0.851, 15.9] < (15.9, 30.8] < (30.8, 45.7] <\n",
              "                                            (45.7, 60.6] ... (90.4, 105.3] < (105.3, 120.2] <\n",
              "                                            (120.2, 135.1] < (135.1, 150.0]]"
            ]
          },
          "metadata": {},
          "execution_count": 29
        }
      ]
    },
    {
      "cell_type": "code",
      "source": [
        "data[num_var+'_cut'].value_counts()\n",
        "# Aqui contamos los valores que se encuentran en estos rangos de tarifas"
      ],
      "metadata": {
        "colab": {
          "base_uri": "https://localhost:8080/"
        },
        "id": "-n3Bb7YIw178",
        "outputId": "18c07cb5-479f-4c1b-d3ab-1fb9eb70cb68"
      },
      "execution_count": null,
      "outputs": [
        {
          "output_type": "execute_result",
          "data": {
            "text/plain": [
              "(0.851, 15.9]     4966\n",
              "(15.9, 30.8]       983\n",
              "(30.8, 45.7]       269\n",
              "(45.7, 60.6]       184\n",
              "(60.6, 75.5]        15\n",
              "(75.5, 90.4]         7\n",
              "(90.4, 105.3]        4\n",
              "(135.1, 150.0]       3\n",
              "(105.3, 120.2]       1\n",
              "(120.2, 135.1]       1\n",
              "Name: fare_cut, dtype: int64"
            ]
          },
          "metadata": {},
          "execution_count": 30
        }
      ]
    },
    {
      "cell_type": "markdown",
      "source": [
        "### qcut (Equipopulation)\n",
        "\n",
        "Similar al anterior con la pecularidad de que los tramos nos los definen los cuartiles. De manera que dejamos la misma población (population) en cada tramo.\n",
        "\n"
      ],
      "metadata": {
        "id": "mBDFTUd3waGL"
      }
    },
    {
      "cell_type": "code",
      "source": [
        "# qcut\n",
        "data[num_var+'_qcut'] = pd.qcut(data[num_var], q=[0.0,0.1,0.2,0.3,0.4,0.5,0.6,0.7,0.8,0.9,1.0])\n",
        "# q son los cuartiles que queremos considerar"
      ],
      "metadata": {
        "id": "9X2NTJoGwtOm"
      },
      "execution_count": null,
      "outputs": []
    },
    {
      "cell_type": "code",
      "source": [
        "# qcut es una función que puede ‘discretizar’ una variable. Por ejemplo, deseamos agregar una columna que contenga:\n",
        "# “Muy pocos”, “Pocos”, “Considerable”, “Muchos”\n",
        "# De acuerdo a los votos obtenidos.\n",
        "\n",
        "# Lo haríamos de ésta forma:\n",
        "\n",
        "# clasificacion = [\"Muy pocos\", \"Pocos\", \"Considerable\", \"Muchos\"]\n",
        "# df[\"Clasif\"] = pd.qcut(df[\"votes\"], 4 , clasificacion)\n",
        "# print (tabulate(df.sample(5), headers='keys'))\n",
        "\n",
        "# Primero ponemos las etiquetas en una lista. Luego usamos el método qcut para separar en 4 grupos la columna votes.\n",
        "# Se asignará el valor correspondiente de la lista clasificación a la columan Clasif."
      ],
      "metadata": {
        "id": "mDRYDbjUHF-_"
      },
      "execution_count": null,
      "outputs": []
    },
    {
      "cell_type": "code",
      "source": [
        "data[num_var+'_qcut']"
      ],
      "metadata": {
        "colab": {
          "base_uri": "https://localhost:8080/"
        },
        "id": "zwzV-zTfADQm",
        "outputId": "6c111951-3d1b-4a7d-c739-7482a0315557"
      },
      "execution_count": null,
      "outputs": [
        {
          "output_type": "execute_result",
          "data": {
            "text/plain": [
              "0          (6.0, 7.0]\n",
              "1        (0.999, 5.0]\n",
              "2          (7.0, 8.0]\n",
              "3       (26.0, 150.0]\n",
              "4          (8.0, 9.5]\n",
              "            ...      \n",
              "6428     (0.999, 5.0]\n",
              "6429    (26.0, 150.0]\n",
              "6430     (13.5, 17.0]\n",
              "6431       (5.0, 6.0]\n",
              "6432     (13.5, 17.0]\n",
              "Name: fare_qcut, Length: 6433, dtype: category\n",
              "Categories (10, interval[float64, right]): [(0.999, 5.0] < (5.0, 6.0] < (6.0, 7.0] < (7.0, 8.0] < ... <\n",
              "                                            (11.0, 13.5] < (13.5, 17.0] < (17.0, 26.0] <\n",
              "                                            (26.0, 150.0]]"
            ]
          },
          "metadata": {},
          "execution_count": 33
        }
      ]
    },
    {
      "cell_type": "code",
      "source": [
        "data[num_var+'_qcut'].value_counts()"
      ],
      "metadata": {
        "colab": {
          "base_uri": "https://localhost:8080/"
        },
        "id": "6P0HciH-w5qQ",
        "outputId": "e87b8740-0dc2-4bcd-e7f9-a7ea89751d9c"
      },
      "execution_count": null,
      "outputs": [
        {
          "output_type": "execute_result",
          "data": {
            "text/plain": [
              "(0.999, 5.0]     852\n",
              "(8.0, 9.5]       684\n",
              "(5.0, 6.0]       657\n",
              "(11.0, 13.5]     648\n",
              "(26.0, 150.0]    642\n",
              "(6.0, 7.0]       619\n",
              "(7.0, 8.0]       608\n",
              "(13.5, 17.0]     593\n",
              "(17.0, 26.0]     593\n",
              "(9.5, 11.0]      537\n",
              "Name: fare_qcut, dtype: int64"
            ]
          },
          "metadata": {},
          "execution_count": 32
        }
      ]
    },
    {
      "cell_type": "markdown",
      "source": [
        "¿Y qué pasa si tenemos nulos?\n",
        "Pues tan sencillo como ponerlos como una categoría distinta."
      ],
      "metadata": {
        "id": "XmTs6Fcf0BNK"
      }
    },
    {
      "cell_type": "code",
      "source": [
        "# Si tuvieramos nulos\n",
        "\n",
        "# Añadimos algunos\n",
        "data.loc[[24,400,255], num_var] = np.nan\n",
        "\n",
        "# Hacemos el pd.qcut\n",
        "data[num_var+'_qcut'] = pd.qcut(data[num_var], q=[0.0,0.1,0.2,0.3,0.4,0.5,0.6,0.7,0.8,0.9,1.0])\n",
        "data[num_var+'_qcut'] = data[num_var+'_qcut'].astype(str) # Sino no nos deja añadir una nueva categoría\n",
        "\n",
        "data.loc[data[num_var].isnull(), num_var+'_qcut'] = 'Missing'\n",
        "data[num_var+'_qcut'].value_counts()\n",
        "# Si tienes categorías con muchos valores faltantes puedes indicarlo como 'Missing'"
      ],
      "metadata": {
        "colab": {
          "base_uri": "https://localhost:8080/"
        },
        "id": "LJWdfkJb0VPW",
        "outputId": "f777d5f7-4c01-4a54-e8b5-5a837524fe4f"
      },
      "execution_count": null,
      "outputs": [
        {
          "output_type": "execute_result",
          "data": {
            "text/plain": [
              "(0.999, 5.0]     850\n",
              "(8.0, 9.5]       683\n",
              "(5.0, 6.0]       657\n",
              "(11.0, 13.5]     648\n",
              "(26.0, 150.0]    642\n",
              "(6.0, 7.0]       619\n",
              "(7.0, 8.0]       608\n",
              "(13.5, 17.0]     593\n",
              "(17.0, 26.0]     593\n",
              "(9.5, 11.0]      537\n",
              "Missing            3\n",
              "Name: fare_qcut, dtype: int64"
            ]
          },
          "metadata": {},
          "execution_count": 34
        }
      ]
    },
    {
      "cell_type": "markdown",
      "source": [
        "### Decision Tree\n",
        "\n",
        "Utilizamos un Decision Tree para que nos haga los splits según lo que él decida. Patrones que pueden estar ocultos para nosotros.\n",
        "\n",
        "Para ello utilizamos el target (en este caso: tip)"
      ],
      "metadata": {
        "id": "8lDjx_6wxnNN"
      }
    },
    {
      "cell_type": "code",
      "source": [
        "data[num_var].fillna(-1, inplace=True)\n",
        "# Quitar los valores que no manejan números (Los Missing)"
      ],
      "metadata": {
        "id": "9RCS1XN-uyGk"
      },
      "execution_count": null,
      "outputs": []
    },
    {
      "cell_type": "code",
      "source": [
        "from sklearn.tree import DecisionTreeRegressor\n",
        "# Con max_leaf_nodes controlamos el máximo de categorías salientes\n",
        "dt = DecisionTreeRegressor(random_state=0, max_depth=5, max_leaf_nodes=10)\n",
        "# max_leaf_nodes no dar más de 10 categorías\n",
        "# max_depth para que sepa generalizar (se verá más adelante)"
      ],
      "metadata": {
        "id": "2GY1XFfzyPHG"
      },
      "execution_count": null,
      "outputs": []
    },
    {
      "cell_type": "code",
      "source": [
        "dt.fit(data[[num_var]], data['tip'])"
      ],
      "metadata": {
        "colab": {
          "base_uri": "https://localhost:8080/",
          "height": 74
        },
        "id": "0vmhaBMwylEy",
        "outputId": "9a7f8014-e0d0-4ce7-f2c4-83d11eea6e95"
      },
      "execution_count": null,
      "outputs": [
        {
          "output_type": "execute_result",
          "data": {
            "text/plain": [
              "DecisionTreeRegressor(max_depth=5, max_leaf_nodes=10, random_state=0)"
            ],
            "text/html": [
              "<style>#sk-container-id-1 {color: black;background-color: white;}#sk-container-id-1 pre{padding: 0;}#sk-container-id-1 div.sk-toggleable {background-color: white;}#sk-container-id-1 label.sk-toggleable__label {cursor: pointer;display: block;width: 100%;margin-bottom: 0;padding: 0.3em;box-sizing: border-box;text-align: center;}#sk-container-id-1 label.sk-toggleable__label-arrow:before {content: \"▸\";float: left;margin-right: 0.25em;color: #696969;}#sk-container-id-1 label.sk-toggleable__label-arrow:hover:before {color: black;}#sk-container-id-1 div.sk-estimator:hover label.sk-toggleable__label-arrow:before {color: black;}#sk-container-id-1 div.sk-toggleable__content {max-height: 0;max-width: 0;overflow: hidden;text-align: left;background-color: #f0f8ff;}#sk-container-id-1 div.sk-toggleable__content pre {margin: 0.2em;color: black;border-radius: 0.25em;background-color: #f0f8ff;}#sk-container-id-1 input.sk-toggleable__control:checked~div.sk-toggleable__content {max-height: 200px;max-width: 100%;overflow: auto;}#sk-container-id-1 input.sk-toggleable__control:checked~label.sk-toggleable__label-arrow:before {content: \"▾\";}#sk-container-id-1 div.sk-estimator input.sk-toggleable__control:checked~label.sk-toggleable__label {background-color: #d4ebff;}#sk-container-id-1 div.sk-label input.sk-toggleable__control:checked~label.sk-toggleable__label {background-color: #d4ebff;}#sk-container-id-1 input.sk-hidden--visually {border: 0;clip: rect(1px 1px 1px 1px);clip: rect(1px, 1px, 1px, 1px);height: 1px;margin: -1px;overflow: hidden;padding: 0;position: absolute;width: 1px;}#sk-container-id-1 div.sk-estimator {font-family: monospace;background-color: #f0f8ff;border: 1px dotted black;border-radius: 0.25em;box-sizing: border-box;margin-bottom: 0.5em;}#sk-container-id-1 div.sk-estimator:hover {background-color: #d4ebff;}#sk-container-id-1 div.sk-parallel-item::after {content: \"\";width: 100%;border-bottom: 1px solid gray;flex-grow: 1;}#sk-container-id-1 div.sk-label:hover label.sk-toggleable__label {background-color: #d4ebff;}#sk-container-id-1 div.sk-serial::before {content: \"\";position: absolute;border-left: 1px solid gray;box-sizing: border-box;top: 0;bottom: 0;left: 50%;z-index: 0;}#sk-container-id-1 div.sk-serial {display: flex;flex-direction: column;align-items: center;background-color: white;padding-right: 0.2em;padding-left: 0.2em;position: relative;}#sk-container-id-1 div.sk-item {position: relative;z-index: 1;}#sk-container-id-1 div.sk-parallel {display: flex;align-items: stretch;justify-content: center;background-color: white;position: relative;}#sk-container-id-1 div.sk-item::before, #sk-container-id-1 div.sk-parallel-item::before {content: \"\";position: absolute;border-left: 1px solid gray;box-sizing: border-box;top: 0;bottom: 0;left: 50%;z-index: -1;}#sk-container-id-1 div.sk-parallel-item {display: flex;flex-direction: column;z-index: 1;position: relative;background-color: white;}#sk-container-id-1 div.sk-parallel-item:first-child::after {align-self: flex-end;width: 50%;}#sk-container-id-1 div.sk-parallel-item:last-child::after {align-self: flex-start;width: 50%;}#sk-container-id-1 div.sk-parallel-item:only-child::after {width: 0;}#sk-container-id-1 div.sk-dashed-wrapped {border: 1px dashed gray;margin: 0 0.4em 0.5em 0.4em;box-sizing: border-box;padding-bottom: 0.4em;background-color: white;}#sk-container-id-1 div.sk-label label {font-family: monospace;font-weight: bold;display: inline-block;line-height: 1.2em;}#sk-container-id-1 div.sk-label-container {text-align: center;}#sk-container-id-1 div.sk-container {/* jupyter's `normalize.less` sets `[hidden] { display: none; }` but bootstrap.min.css set `[hidden] { display: none !important; }` so we also need the `!important` here to be able to override the default hidden behavior on the sphinx rendered scikit-learn.org. See: https://github.com/scikit-learn/scikit-learn/issues/21755 */display: inline-block !important;position: relative;}#sk-container-id-1 div.sk-text-repr-fallback {display: none;}</style><div id=\"sk-container-id-1\" class=\"sk-top-container\"><div class=\"sk-text-repr-fallback\"><pre>DecisionTreeRegressor(max_depth=5, max_leaf_nodes=10, random_state=0)</pre><b>In a Jupyter environment, please rerun this cell to show the HTML representation or trust the notebook. <br />On GitHub, the HTML representation is unable to render, please try loading this page with nbviewer.org.</b></div><div class=\"sk-container\" hidden><div class=\"sk-item\"><div class=\"sk-estimator sk-toggleable\"><input class=\"sk-toggleable__control sk-hidden--visually\" id=\"sk-estimator-id-1\" type=\"checkbox\" checked><label for=\"sk-estimator-id-1\" class=\"sk-toggleable__label sk-toggleable__label-arrow\">DecisionTreeRegressor</label><div class=\"sk-toggleable__content\"><pre>DecisionTreeRegressor(max_depth=5, max_leaf_nodes=10, random_state=0)</pre></div></div></div></div></div>"
            ]
          },
          "metadata": {},
          "execution_count": 37
        }
      ]
    },
    {
      "cell_type": "code",
      "source": [
        "data[num_var+'_cat'] = dt.predict(data[[num_var]])\n",
        "data[num_var+'_cat'].value_counts()\n",
        "# Son distribuciones con otra serie de patrones invisibles para nosotros"
      ],
      "metadata": {
        "colab": {
          "base_uri": "https://localhost:8080/"
        },
        "id": "SwDsgm_ly2BB",
        "outputId": "65830902-a7d8-4f19-afd7-47b986ec2607"
      },
      "execution_count": null,
      "outputs": [
        {
          "output_type": "execute_result",
          "data": {
            "text/plain": [
              "1.452380     2109\n",
              "0.982755     1510\n",
              "1.971608     1269\n",
              "2.593349      851\n",
              "3.934026      380\n",
              "8.786894      132\n",
              "4.818168      131\n",
              "1.319412       34\n",
              "11.195385      13\n",
              "0.000000        4\n",
              "Name: fare_cat, dtype: int64"
            ]
          },
          "metadata": {},
          "execution_count": 38
        }
      ]
    },
    {
      "cell_type": "markdown",
      "source": [
        "¿Y qué pasa si tenemos nulos?\n",
        "\n",
        "Hay 2 enfoques:\n",
        "- Ver si el nulo tiene algún impacto pasándolo por el modelo (codificarlo como un valor muy extremo para que no afecte a la distribución real)\n",
        "- No tratar el nulo y añadirlo como nueva categoría (como hemos hecho antes)."
      ],
      "metadata": {
        "id": "dBo_0e-LzqwW"
      }
    },
    {
      "cell_type": "markdown",
      "source": [
        "### Redondeo\n",
        "\n",
        "De esta manera evitamos que features continuas con mucha cardinalidad (muchos valores únicos) aparezcan como variables muy predictoras cuando la realidad es opuesta. Esto suele pasar mucho en modelos de árboles de decisión.\n",
        "\n",
        "Más adelante los veréis!\n",
        "\n",
        "Nota: El problema en realidad está en el concepto de Feature Importance. Se espera que te diga tus mejores variables, pero está muy sesgada al tipo de variable. Mejor optar por otras maneras: Permutaciones o Shapley Values.\n",
        "\n",
        "https://www.r-bloggers.com/2018/06/be-aware-of-bias-in-rf-variable-importance-metrics/"
      ],
      "metadata": {
        "id": "bJga2wLesk1P"
      }
    },
    {
      "cell_type": "code",
      "source": [
        "num_var = 'distance'\n",
        "data[num_var+'_round'] = data[num_var].round()\n",
        "data[[num_var, num_var+'_round']]"
      ],
      "metadata": {
        "colab": {
          "base_uri": "https://localhost:8080/",
          "height": 423
        },
        "id": "LMLrFUUMt4cE",
        "outputId": "0e82e6b0-28f1-4fe3-893f-1ab9a6760e65"
      },
      "execution_count": null,
      "outputs": [
        {
          "output_type": "execute_result",
          "data": {
            "text/plain": [
              "      distance  distance_round\n",
              "0         1.60             2.0\n",
              "1         0.79             1.0\n",
              "2         1.37             1.0\n",
              "3         7.70             8.0\n",
              "4         2.16             2.0\n",
              "...        ...             ...\n",
              "6428      0.75             1.0\n",
              "6429     18.74            19.0\n",
              "6430      4.14             4.0\n",
              "6431      1.12             1.0\n",
              "6432      3.85             4.0\n",
              "\n",
              "[6433 rows x 2 columns]"
            ],
            "text/html": [
              "\n",
              "  <div id=\"df-a131b51b-57e7-4ff1-b002-b395c8170fc1\">\n",
              "    <div class=\"colab-df-container\">\n",
              "      <div>\n",
              "<style scoped>\n",
              "    .dataframe tbody tr th:only-of-type {\n",
              "        vertical-align: middle;\n",
              "    }\n",
              "\n",
              "    .dataframe tbody tr th {\n",
              "        vertical-align: top;\n",
              "    }\n",
              "\n",
              "    .dataframe thead th {\n",
              "        text-align: right;\n",
              "    }\n",
              "</style>\n",
              "<table border=\"1\" class=\"dataframe\">\n",
              "  <thead>\n",
              "    <tr style=\"text-align: right;\">\n",
              "      <th></th>\n",
              "      <th>distance</th>\n",
              "      <th>distance_round</th>\n",
              "    </tr>\n",
              "  </thead>\n",
              "  <tbody>\n",
              "    <tr>\n",
              "      <th>0</th>\n",
              "      <td>1.60</td>\n",
              "      <td>2.0</td>\n",
              "    </tr>\n",
              "    <tr>\n",
              "      <th>1</th>\n",
              "      <td>0.79</td>\n",
              "      <td>1.0</td>\n",
              "    </tr>\n",
              "    <tr>\n",
              "      <th>2</th>\n",
              "      <td>1.37</td>\n",
              "      <td>1.0</td>\n",
              "    </tr>\n",
              "    <tr>\n",
              "      <th>3</th>\n",
              "      <td>7.70</td>\n",
              "      <td>8.0</td>\n",
              "    </tr>\n",
              "    <tr>\n",
              "      <th>4</th>\n",
              "      <td>2.16</td>\n",
              "      <td>2.0</td>\n",
              "    </tr>\n",
              "    <tr>\n",
              "      <th>...</th>\n",
              "      <td>...</td>\n",
              "      <td>...</td>\n",
              "    </tr>\n",
              "    <tr>\n",
              "      <th>6428</th>\n",
              "      <td>0.75</td>\n",
              "      <td>1.0</td>\n",
              "    </tr>\n",
              "    <tr>\n",
              "      <th>6429</th>\n",
              "      <td>18.74</td>\n",
              "      <td>19.0</td>\n",
              "    </tr>\n",
              "    <tr>\n",
              "      <th>6430</th>\n",
              "      <td>4.14</td>\n",
              "      <td>4.0</td>\n",
              "    </tr>\n",
              "    <tr>\n",
              "      <th>6431</th>\n",
              "      <td>1.12</td>\n",
              "      <td>1.0</td>\n",
              "    </tr>\n",
              "    <tr>\n",
              "      <th>6432</th>\n",
              "      <td>3.85</td>\n",
              "      <td>4.0</td>\n",
              "    </tr>\n",
              "  </tbody>\n",
              "</table>\n",
              "<p>6433 rows × 2 columns</p>\n",
              "</div>\n",
              "      <button class=\"colab-df-convert\" onclick=\"convertToInteractive('df-a131b51b-57e7-4ff1-b002-b395c8170fc1')\"\n",
              "              title=\"Convert this dataframe to an interactive table.\"\n",
              "              style=\"display:none;\">\n",
              "        \n",
              "  <svg xmlns=\"http://www.w3.org/2000/svg\" height=\"24px\"viewBox=\"0 0 24 24\"\n",
              "       width=\"24px\">\n",
              "    <path d=\"M0 0h24v24H0V0z\" fill=\"none\"/>\n",
              "    <path d=\"M18.56 5.44l.94 2.06.94-2.06 2.06-.94-2.06-.94-.94-2.06-.94 2.06-2.06.94zm-11 1L8.5 8.5l.94-2.06 2.06-.94-2.06-.94L8.5 2.5l-.94 2.06-2.06.94zm10 10l.94 2.06.94-2.06 2.06-.94-2.06-.94-.94-2.06-.94 2.06-2.06.94z\"/><path d=\"M17.41 7.96l-1.37-1.37c-.4-.4-.92-.59-1.43-.59-.52 0-1.04.2-1.43.59L10.3 9.45l-7.72 7.72c-.78.78-.78 2.05 0 2.83L4 21.41c.39.39.9.59 1.41.59.51 0 1.02-.2 1.41-.59l7.78-7.78 2.81-2.81c.8-.78.8-2.07 0-2.86zM5.41 20L4 18.59l7.72-7.72 1.47 1.35L5.41 20z\"/>\n",
              "  </svg>\n",
              "      </button>\n",
              "      \n",
              "  <style>\n",
              "    .colab-df-container {\n",
              "      display:flex;\n",
              "      flex-wrap:wrap;\n",
              "      gap: 12px;\n",
              "    }\n",
              "\n",
              "    .colab-df-convert {\n",
              "      background-color: #E8F0FE;\n",
              "      border: none;\n",
              "      border-radius: 50%;\n",
              "      cursor: pointer;\n",
              "      display: none;\n",
              "      fill: #1967D2;\n",
              "      height: 32px;\n",
              "      padding: 0 0 0 0;\n",
              "      width: 32px;\n",
              "    }\n",
              "\n",
              "    .colab-df-convert:hover {\n",
              "      background-color: #E2EBFA;\n",
              "      box-shadow: 0px 1px 2px rgba(60, 64, 67, 0.3), 0px 1px 3px 1px rgba(60, 64, 67, 0.15);\n",
              "      fill: #174EA6;\n",
              "    }\n",
              "\n",
              "    [theme=dark] .colab-df-convert {\n",
              "      background-color: #3B4455;\n",
              "      fill: #D2E3FC;\n",
              "    }\n",
              "\n",
              "    [theme=dark] .colab-df-convert:hover {\n",
              "      background-color: #434B5C;\n",
              "      box-shadow: 0px 1px 3px 1px rgba(0, 0, 0, 0.15);\n",
              "      filter: drop-shadow(0px 1px 2px rgba(0, 0, 0, 0.3));\n",
              "      fill: #FFFFFF;\n",
              "    }\n",
              "  </style>\n",
              "\n",
              "      <script>\n",
              "        const buttonEl =\n",
              "          document.querySelector('#df-a131b51b-57e7-4ff1-b002-b395c8170fc1 button.colab-df-convert');\n",
              "        buttonEl.style.display =\n",
              "          google.colab.kernel.accessAllowed ? 'block' : 'none';\n",
              "\n",
              "        async function convertToInteractive(key) {\n",
              "          const element = document.querySelector('#df-a131b51b-57e7-4ff1-b002-b395c8170fc1');\n",
              "          const dataTable =\n",
              "            await google.colab.kernel.invokeFunction('convertToInteractive',\n",
              "                                                     [key], {});\n",
              "          if (!dataTable) return;\n",
              "\n",
              "          const docLinkHtml = 'Like what you see? Visit the ' +\n",
              "            '<a target=\"_blank\" href=https://colab.research.google.com/notebooks/data_table.ipynb>data table notebook</a>'\n",
              "            + ' to learn more about interactive tables.';\n",
              "          element.innerHTML = '';\n",
              "          dataTable['output_type'] = 'display_data';\n",
              "          await google.colab.output.renderOutput(dataTable, element);\n",
              "          const docLink = document.createElement('div');\n",
              "          docLink.innerHTML = docLinkHtml;\n",
              "          element.appendChild(docLink);\n",
              "        }\n",
              "      </script>\n",
              "    </div>\n",
              "  </div>\n",
              "  "
            ]
          },
          "metadata": {},
          "execution_count": 39
        }
      ]
    },
    {
      "cell_type": "markdown",
      "source": [
        "# Variables categóricas"
      ],
      "metadata": {
        "id": "jGPuda5_lPQv"
      }
    },
    {
      "cell_type": "markdown",
      "source": [
        "## Modelos geométricos\n",
        "\n",
        "Estos modelos tan sólo trabajan con variables numéricas."
      ],
      "metadata": {
        "id": "8CenF78323xT"
      }
    },
    {
      "cell_type": "markdown",
      "source": [
        "### Formato ordinal\n",
        "\n",
        "La variable passengers es una variable numérica que podría convertirse a ordinal.\n",
        "\n",
        "Esta variable tiene un sentido del orden así que se podría entrar al modelo.\n",
        "\n",
        "Pocas variables son de este tipo."
      ],
      "metadata": {
        "id": "sdb-JnRW2-Sg"
      }
    },
    {
      "cell_type": "code",
      "source": [
        "cat_var = 'passengers'\n",
        "\n",
        "data[cat_var].value_counts()"
      ],
      "metadata": {
        "colab": {
          "base_uri": "https://localhost:8080/"
        },
        "id": "oVzf_yvN28Fh",
        "outputId": "2ee0bf2e-47ae-4cb8-b15f-11c760d8bb36"
      },
      "execution_count": null,
      "outputs": [
        {
          "output_type": "execute_result",
          "data": {
            "text/plain": [
              "1    4678\n",
              "2     876\n",
              "5     277\n",
              "3     243\n",
              "6     153\n",
              "4     110\n",
              "0      96\n",
              "Name: passengers, dtype: int64"
            ]
          },
          "metadata": {},
          "execution_count": 40
        }
      ]
    },
    {
      "cell_type": "markdown",
      "source": [
        "### One Hot Encoding\n",
        "\n",
        "Variables con categorías que no se pueden pasar a ordinales, pero nos gustaría que el modelo geométrico las viera.\n",
        "\n",
        "Por ejemplo: pickup_borough.\n"
      ],
      "metadata": {
        "id": "jEF0LgCS3ARh"
      }
    },
    {
      "cell_type": "code",
      "source": [
        "cat_var = 'pickup_borough'\n",
        "\n",
        "data[cat_var].value_counts()"
      ],
      "metadata": {
        "colab": {
          "base_uri": "https://localhost:8080/"
        },
        "id": "yj3GwHN_3aBM",
        "outputId": "66b81439-99fc-4562-d689-ae3171d769fa"
      },
      "execution_count": null,
      "outputs": [
        {
          "output_type": "execute_result",
          "data": {
            "text/plain": [
              "Manhattan    5268\n",
              "Queens        657\n",
              "Brooklyn      383\n",
              "Bronx          99\n",
              "Name: pickup_borough, dtype: int64"
            ]
          },
          "metadata": {},
          "execution_count": 41
        }
      ]
    },
    {
      "cell_type": "markdown",
      "source": [
        "Generaremos tantas columnas como barrios tengamos."
      ],
      "metadata": {
        "id": "elbsndf34EUm"
      }
    },
    {
      "cell_type": "code",
      "source": [
        "pd.get_dummies(data, columns=['pickup_borough'])"
      ],
      "metadata": {
        "colab": {
          "base_uri": "https://localhost:8080/",
          "height": 834
        },
        "id": "7nwTqEle3_pk",
        "outputId": "d58928b7-b13f-48f0-e76c-faeecd36da1a"
      },
      "execution_count": null,
      "outputs": [
        {
          "output_type": "execute_result",
          "data": {
            "text/plain": [
              "                  pickup             dropoff  passengers  distance  fare  \\\n",
              "0    2019-03-23 20:21:09 2019-03-23 20:27:24           1      1.60   7.0   \n",
              "1    2019-03-04 16:11:55 2019-03-04 16:19:00           1      0.79   5.0   \n",
              "2    2019-03-27 17:53:01 2019-03-27 18:00:25           1      1.37   7.5   \n",
              "3    2019-03-10 01:23:59 2019-03-10 01:49:51           1      7.70  27.0   \n",
              "4    2019-03-30 13:27:42 2019-03-30 13:37:14           3      2.16   9.0   \n",
              "...                  ...                 ...         ...       ...   ...   \n",
              "6428 2019-03-31 09:51:53 2019-03-31 09:55:27           1      0.75   4.5   \n",
              "6429 2019-03-31 17:38:00 2019-03-31 18:34:23           1     18.74  58.0   \n",
              "6430 2019-03-23 22:55:18 2019-03-23 23:14:25           1      4.14  16.0   \n",
              "6431 2019-03-04 10:09:25 2019-03-04 10:14:29           1      1.12   6.0   \n",
              "6432 2019-03-13 19:31:22 2019-03-13 19:48:02           1      3.85  15.0   \n",
              "\n",
              "       tip  tolls  total   color      payment  ...  fare_std fare_norm  \\\n",
              "0     2.15    0.0  12.95  yellow  credit card  ... -0.527324  0.040268   \n",
              "1     0.00    0.0   9.30  yellow         cash  ... -0.700471  0.026846   \n",
              "2     2.36    0.0  14.16  yellow  credit card  ... -0.484038  0.043624   \n",
              "3     6.15    0.0  36.95  yellow  credit card  ...  1.204142  0.174497   \n",
              "4     1.10    0.0  13.40  yellow  credit card  ... -0.354178  0.053691   \n",
              "...    ...    ...    ...     ...          ...  ...       ...       ...   \n",
              "6428  1.06    0.0   6.36   green  credit card  ... -0.743757  0.023490   \n",
              "6429  0.00    0.0  58.80   green  credit card  ...  3.887914  0.382550   \n",
              "6430  0.00    0.0  17.30   green         cash  ...  0.251835  0.100671   \n",
              "6431  0.00    0.0   6.80   green  credit card  ... -0.613898  0.033557   \n",
              "6432  3.36    0.0  20.16   green  credit card  ...  0.165262  0.093960   \n",
              "\n",
              "           fare_cut      fare_qcut  fare_cat  distance_round  \\\n",
              "0     (0.851, 15.9]     (6.0, 7.0]  1.452380             2.0   \n",
              "1     (0.851, 15.9]   (0.999, 5.0]  0.982755             1.0   \n",
              "2     (0.851, 15.9]     (7.0, 8.0]  1.452380             1.0   \n",
              "3      (15.9, 30.8]  (26.0, 150.0]  3.934026             8.0   \n",
              "4     (0.851, 15.9]     (8.0, 9.5]  1.452380             2.0   \n",
              "...             ...            ...       ...             ...   \n",
              "6428  (0.851, 15.9]   (0.999, 5.0]  0.982755             1.0   \n",
              "6429   (45.7, 60.6]  (26.0, 150.0]  1.319412            19.0   \n",
              "6430   (15.9, 30.8]   (13.5, 17.0]  2.593349             4.0   \n",
              "6431  (0.851, 15.9]     (5.0, 6.0]  0.982755             1.0   \n",
              "6432  (0.851, 15.9]   (13.5, 17.0]  1.971608             4.0   \n",
              "\n",
              "      pickup_borough_Bronx  pickup_borough_Brooklyn  pickup_borough_Manhattan  \\\n",
              "0                        0                        0                         1   \n",
              "1                        0                        0                         1   \n",
              "2                        0                        0                         1   \n",
              "3                        0                        0                         1   \n",
              "4                        0                        0                         1   \n",
              "...                    ...                      ...                       ...   \n",
              "6428                     0                        0                         1   \n",
              "6429                     0                        0                         0   \n",
              "6430                     0                        1                         0   \n",
              "6431                     0                        1                         0   \n",
              "6432                     0                        1                         0   \n",
              "\n",
              "     pickup_borough_Queens  \n",
              "0                        0  \n",
              "1                        0  \n",
              "2                        0  \n",
              "3                        0  \n",
              "4                        0  \n",
              "...                    ...  \n",
              "6428                     0  \n",
              "6429                     1  \n",
              "6430                     0  \n",
              "6431                     0  \n",
              "6432                     0  \n",
              "\n",
              "[6433 rows x 27 columns]"
            ],
            "text/html": [
              "\n",
              "  <div id=\"df-f7552b31-d8bb-4c52-8899-7ee4cc053e9c\">\n",
              "    <div class=\"colab-df-container\">\n",
              "      <div>\n",
              "<style scoped>\n",
              "    .dataframe tbody tr th:only-of-type {\n",
              "        vertical-align: middle;\n",
              "    }\n",
              "\n",
              "    .dataframe tbody tr th {\n",
              "        vertical-align: top;\n",
              "    }\n",
              "\n",
              "    .dataframe thead th {\n",
              "        text-align: right;\n",
              "    }\n",
              "</style>\n",
              "<table border=\"1\" class=\"dataframe\">\n",
              "  <thead>\n",
              "    <tr style=\"text-align: right;\">\n",
              "      <th></th>\n",
              "      <th>pickup</th>\n",
              "      <th>dropoff</th>\n",
              "      <th>passengers</th>\n",
              "      <th>distance</th>\n",
              "      <th>fare</th>\n",
              "      <th>tip</th>\n",
              "      <th>tolls</th>\n",
              "      <th>total</th>\n",
              "      <th>color</th>\n",
              "      <th>payment</th>\n",
              "      <th>...</th>\n",
              "      <th>fare_std</th>\n",
              "      <th>fare_norm</th>\n",
              "      <th>fare_cut</th>\n",
              "      <th>fare_qcut</th>\n",
              "      <th>fare_cat</th>\n",
              "      <th>distance_round</th>\n",
              "      <th>pickup_borough_Bronx</th>\n",
              "      <th>pickup_borough_Brooklyn</th>\n",
              "      <th>pickup_borough_Manhattan</th>\n",
              "      <th>pickup_borough_Queens</th>\n",
              "    </tr>\n",
              "  </thead>\n",
              "  <tbody>\n",
              "    <tr>\n",
              "      <th>0</th>\n",
              "      <td>2019-03-23 20:21:09</td>\n",
              "      <td>2019-03-23 20:27:24</td>\n",
              "      <td>1</td>\n",
              "      <td>1.60</td>\n",
              "      <td>7.0</td>\n",
              "      <td>2.15</td>\n",
              "      <td>0.0</td>\n",
              "      <td>12.95</td>\n",
              "      <td>yellow</td>\n",
              "      <td>credit card</td>\n",
              "      <td>...</td>\n",
              "      <td>-0.527324</td>\n",
              "      <td>0.040268</td>\n",
              "      <td>(0.851, 15.9]</td>\n",
              "      <td>(6.0, 7.0]</td>\n",
              "      <td>1.452380</td>\n",
              "      <td>2.0</td>\n",
              "      <td>0</td>\n",
              "      <td>0</td>\n",
              "      <td>1</td>\n",
              "      <td>0</td>\n",
              "    </tr>\n",
              "    <tr>\n",
              "      <th>1</th>\n",
              "      <td>2019-03-04 16:11:55</td>\n",
              "      <td>2019-03-04 16:19:00</td>\n",
              "      <td>1</td>\n",
              "      <td>0.79</td>\n",
              "      <td>5.0</td>\n",
              "      <td>0.00</td>\n",
              "      <td>0.0</td>\n",
              "      <td>9.30</td>\n",
              "      <td>yellow</td>\n",
              "      <td>cash</td>\n",
              "      <td>...</td>\n",
              "      <td>-0.700471</td>\n",
              "      <td>0.026846</td>\n",
              "      <td>(0.851, 15.9]</td>\n",
              "      <td>(0.999, 5.0]</td>\n",
              "      <td>0.982755</td>\n",
              "      <td>1.0</td>\n",
              "      <td>0</td>\n",
              "      <td>0</td>\n",
              "      <td>1</td>\n",
              "      <td>0</td>\n",
              "    </tr>\n",
              "    <tr>\n",
              "      <th>2</th>\n",
              "      <td>2019-03-27 17:53:01</td>\n",
              "      <td>2019-03-27 18:00:25</td>\n",
              "      <td>1</td>\n",
              "      <td>1.37</td>\n",
              "      <td>7.5</td>\n",
              "      <td>2.36</td>\n",
              "      <td>0.0</td>\n",
              "      <td>14.16</td>\n",
              "      <td>yellow</td>\n",
              "      <td>credit card</td>\n",
              "      <td>...</td>\n",
              "      <td>-0.484038</td>\n",
              "      <td>0.043624</td>\n",
              "      <td>(0.851, 15.9]</td>\n",
              "      <td>(7.0, 8.0]</td>\n",
              "      <td>1.452380</td>\n",
              "      <td>1.0</td>\n",
              "      <td>0</td>\n",
              "      <td>0</td>\n",
              "      <td>1</td>\n",
              "      <td>0</td>\n",
              "    </tr>\n",
              "    <tr>\n",
              "      <th>3</th>\n",
              "      <td>2019-03-10 01:23:59</td>\n",
              "      <td>2019-03-10 01:49:51</td>\n",
              "      <td>1</td>\n",
              "      <td>7.70</td>\n",
              "      <td>27.0</td>\n",
              "      <td>6.15</td>\n",
              "      <td>0.0</td>\n",
              "      <td>36.95</td>\n",
              "      <td>yellow</td>\n",
              "      <td>credit card</td>\n",
              "      <td>...</td>\n",
              "      <td>1.204142</td>\n",
              "      <td>0.174497</td>\n",
              "      <td>(15.9, 30.8]</td>\n",
              "      <td>(26.0, 150.0]</td>\n",
              "      <td>3.934026</td>\n",
              "      <td>8.0</td>\n",
              "      <td>0</td>\n",
              "      <td>0</td>\n",
              "      <td>1</td>\n",
              "      <td>0</td>\n",
              "    </tr>\n",
              "    <tr>\n",
              "      <th>4</th>\n",
              "      <td>2019-03-30 13:27:42</td>\n",
              "      <td>2019-03-30 13:37:14</td>\n",
              "      <td>3</td>\n",
              "      <td>2.16</td>\n",
              "      <td>9.0</td>\n",
              "      <td>1.10</td>\n",
              "      <td>0.0</td>\n",
              "      <td>13.40</td>\n",
              "      <td>yellow</td>\n",
              "      <td>credit card</td>\n",
              "      <td>...</td>\n",
              "      <td>-0.354178</td>\n",
              "      <td>0.053691</td>\n",
              "      <td>(0.851, 15.9]</td>\n",
              "      <td>(8.0, 9.5]</td>\n",
              "      <td>1.452380</td>\n",
              "      <td>2.0</td>\n",
              "      <td>0</td>\n",
              "      <td>0</td>\n",
              "      <td>1</td>\n",
              "      <td>0</td>\n",
              "    </tr>\n",
              "    <tr>\n",
              "      <th>...</th>\n",
              "      <td>...</td>\n",
              "      <td>...</td>\n",
              "      <td>...</td>\n",
              "      <td>...</td>\n",
              "      <td>...</td>\n",
              "      <td>...</td>\n",
              "      <td>...</td>\n",
              "      <td>...</td>\n",
              "      <td>...</td>\n",
              "      <td>...</td>\n",
              "      <td>...</td>\n",
              "      <td>...</td>\n",
              "      <td>...</td>\n",
              "      <td>...</td>\n",
              "      <td>...</td>\n",
              "      <td>...</td>\n",
              "      <td>...</td>\n",
              "      <td>...</td>\n",
              "      <td>...</td>\n",
              "      <td>...</td>\n",
              "      <td>...</td>\n",
              "    </tr>\n",
              "    <tr>\n",
              "      <th>6428</th>\n",
              "      <td>2019-03-31 09:51:53</td>\n",
              "      <td>2019-03-31 09:55:27</td>\n",
              "      <td>1</td>\n",
              "      <td>0.75</td>\n",
              "      <td>4.5</td>\n",
              "      <td>1.06</td>\n",
              "      <td>0.0</td>\n",
              "      <td>6.36</td>\n",
              "      <td>green</td>\n",
              "      <td>credit card</td>\n",
              "      <td>...</td>\n",
              "      <td>-0.743757</td>\n",
              "      <td>0.023490</td>\n",
              "      <td>(0.851, 15.9]</td>\n",
              "      <td>(0.999, 5.0]</td>\n",
              "      <td>0.982755</td>\n",
              "      <td>1.0</td>\n",
              "      <td>0</td>\n",
              "      <td>0</td>\n",
              "      <td>1</td>\n",
              "      <td>0</td>\n",
              "    </tr>\n",
              "    <tr>\n",
              "      <th>6429</th>\n",
              "      <td>2019-03-31 17:38:00</td>\n",
              "      <td>2019-03-31 18:34:23</td>\n",
              "      <td>1</td>\n",
              "      <td>18.74</td>\n",
              "      <td>58.0</td>\n",
              "      <td>0.00</td>\n",
              "      <td>0.0</td>\n",
              "      <td>58.80</td>\n",
              "      <td>green</td>\n",
              "      <td>credit card</td>\n",
              "      <td>...</td>\n",
              "      <td>3.887914</td>\n",
              "      <td>0.382550</td>\n",
              "      <td>(45.7, 60.6]</td>\n",
              "      <td>(26.0, 150.0]</td>\n",
              "      <td>1.319412</td>\n",
              "      <td>19.0</td>\n",
              "      <td>0</td>\n",
              "      <td>0</td>\n",
              "      <td>0</td>\n",
              "      <td>1</td>\n",
              "    </tr>\n",
              "    <tr>\n",
              "      <th>6430</th>\n",
              "      <td>2019-03-23 22:55:18</td>\n",
              "      <td>2019-03-23 23:14:25</td>\n",
              "      <td>1</td>\n",
              "      <td>4.14</td>\n",
              "      <td>16.0</td>\n",
              "      <td>0.00</td>\n",
              "      <td>0.0</td>\n",
              "      <td>17.30</td>\n",
              "      <td>green</td>\n",
              "      <td>cash</td>\n",
              "      <td>...</td>\n",
              "      <td>0.251835</td>\n",
              "      <td>0.100671</td>\n",
              "      <td>(15.9, 30.8]</td>\n",
              "      <td>(13.5, 17.0]</td>\n",
              "      <td>2.593349</td>\n",
              "      <td>4.0</td>\n",
              "      <td>0</td>\n",
              "      <td>1</td>\n",
              "      <td>0</td>\n",
              "      <td>0</td>\n",
              "    </tr>\n",
              "    <tr>\n",
              "      <th>6431</th>\n",
              "      <td>2019-03-04 10:09:25</td>\n",
              "      <td>2019-03-04 10:14:29</td>\n",
              "      <td>1</td>\n",
              "      <td>1.12</td>\n",
              "      <td>6.0</td>\n",
              "      <td>0.00</td>\n",
              "      <td>0.0</td>\n",
              "      <td>6.80</td>\n",
              "      <td>green</td>\n",
              "      <td>credit card</td>\n",
              "      <td>...</td>\n",
              "      <td>-0.613898</td>\n",
              "      <td>0.033557</td>\n",
              "      <td>(0.851, 15.9]</td>\n",
              "      <td>(5.0, 6.0]</td>\n",
              "      <td>0.982755</td>\n",
              "      <td>1.0</td>\n",
              "      <td>0</td>\n",
              "      <td>1</td>\n",
              "      <td>0</td>\n",
              "      <td>0</td>\n",
              "    </tr>\n",
              "    <tr>\n",
              "      <th>6432</th>\n",
              "      <td>2019-03-13 19:31:22</td>\n",
              "      <td>2019-03-13 19:48:02</td>\n",
              "      <td>1</td>\n",
              "      <td>3.85</td>\n",
              "      <td>15.0</td>\n",
              "      <td>3.36</td>\n",
              "      <td>0.0</td>\n",
              "      <td>20.16</td>\n",
              "      <td>green</td>\n",
              "      <td>credit card</td>\n",
              "      <td>...</td>\n",
              "      <td>0.165262</td>\n",
              "      <td>0.093960</td>\n",
              "      <td>(0.851, 15.9]</td>\n",
              "      <td>(13.5, 17.0]</td>\n",
              "      <td>1.971608</td>\n",
              "      <td>4.0</td>\n",
              "      <td>0</td>\n",
              "      <td>1</td>\n",
              "      <td>0</td>\n",
              "      <td>0</td>\n",
              "    </tr>\n",
              "  </tbody>\n",
              "</table>\n",
              "<p>6433 rows × 27 columns</p>\n",
              "</div>\n",
              "      <button class=\"colab-df-convert\" onclick=\"convertToInteractive('df-f7552b31-d8bb-4c52-8899-7ee4cc053e9c')\"\n",
              "              title=\"Convert this dataframe to an interactive table.\"\n",
              "              style=\"display:none;\">\n",
              "        \n",
              "  <svg xmlns=\"http://www.w3.org/2000/svg\" height=\"24px\"viewBox=\"0 0 24 24\"\n",
              "       width=\"24px\">\n",
              "    <path d=\"M0 0h24v24H0V0z\" fill=\"none\"/>\n",
              "    <path d=\"M18.56 5.44l.94 2.06.94-2.06 2.06-.94-2.06-.94-.94-2.06-.94 2.06-2.06.94zm-11 1L8.5 8.5l.94-2.06 2.06-.94-2.06-.94L8.5 2.5l-.94 2.06-2.06.94zm10 10l.94 2.06.94-2.06 2.06-.94-2.06-.94-.94-2.06-.94 2.06-2.06.94z\"/><path d=\"M17.41 7.96l-1.37-1.37c-.4-.4-.92-.59-1.43-.59-.52 0-1.04.2-1.43.59L10.3 9.45l-7.72 7.72c-.78.78-.78 2.05 0 2.83L4 21.41c.39.39.9.59 1.41.59.51 0 1.02-.2 1.41-.59l7.78-7.78 2.81-2.81c.8-.78.8-2.07 0-2.86zM5.41 20L4 18.59l7.72-7.72 1.47 1.35L5.41 20z\"/>\n",
              "  </svg>\n",
              "      </button>\n",
              "      \n",
              "  <style>\n",
              "    .colab-df-container {\n",
              "      display:flex;\n",
              "      flex-wrap:wrap;\n",
              "      gap: 12px;\n",
              "    }\n",
              "\n",
              "    .colab-df-convert {\n",
              "      background-color: #E8F0FE;\n",
              "      border: none;\n",
              "      border-radius: 50%;\n",
              "      cursor: pointer;\n",
              "      display: none;\n",
              "      fill: #1967D2;\n",
              "      height: 32px;\n",
              "      padding: 0 0 0 0;\n",
              "      width: 32px;\n",
              "    }\n",
              "\n",
              "    .colab-df-convert:hover {\n",
              "      background-color: #E2EBFA;\n",
              "      box-shadow: 0px 1px 2px rgba(60, 64, 67, 0.3), 0px 1px 3px 1px rgba(60, 64, 67, 0.15);\n",
              "      fill: #174EA6;\n",
              "    }\n",
              "\n",
              "    [theme=dark] .colab-df-convert {\n",
              "      background-color: #3B4455;\n",
              "      fill: #D2E3FC;\n",
              "    }\n",
              "\n",
              "    [theme=dark] .colab-df-convert:hover {\n",
              "      background-color: #434B5C;\n",
              "      box-shadow: 0px 1px 3px 1px rgba(0, 0, 0, 0.15);\n",
              "      filter: drop-shadow(0px 1px 2px rgba(0, 0, 0, 0.3));\n",
              "      fill: #FFFFFF;\n",
              "    }\n",
              "  </style>\n",
              "\n",
              "      <script>\n",
              "        const buttonEl =\n",
              "          document.querySelector('#df-f7552b31-d8bb-4c52-8899-7ee4cc053e9c button.colab-df-convert');\n",
              "        buttonEl.style.display =\n",
              "          google.colab.kernel.accessAllowed ? 'block' : 'none';\n",
              "\n",
              "        async function convertToInteractive(key) {\n",
              "          const element = document.querySelector('#df-f7552b31-d8bb-4c52-8899-7ee4cc053e9c');\n",
              "          const dataTable =\n",
              "            await google.colab.kernel.invokeFunction('convertToInteractive',\n",
              "                                                     [key], {});\n",
              "          if (!dataTable) return;\n",
              "\n",
              "          const docLinkHtml = 'Like what you see? Visit the ' +\n",
              "            '<a target=\"_blank\" href=https://colab.research.google.com/notebooks/data_table.ipynb>data table notebook</a>'\n",
              "            + ' to learn more about interactive tables.';\n",
              "          element.innerHTML = '';\n",
              "          dataTable['output_type'] = 'display_data';\n",
              "          await google.colab.output.renderOutput(dataTable, element);\n",
              "          const docLink = document.createElement('div');\n",
              "          docLink.innerHTML = docLinkHtml;\n",
              "          element.appendChild(docLink);\n",
              "        }\n",
              "      </script>\n",
              "    </div>\n",
              "  </div>\n",
              "  "
            ]
          },
          "metadata": {},
          "execution_count": 42
        }
      ]
    },
    {
      "cell_type": "code",
      "source": [
        "# get_dummies Convert categorical variable into dummy/indicator variables.\n",
        "\n",
        "# Each variable is converted in as many 0/1 variables as there are different values.\n",
        "# Columns in the output are each named after a value; if the input is a DataFrame, the name of the original variable is prepended to the value.\n",
        "\n",
        "# La desventaja es el número de columnas añadidas"
      ],
      "metadata": {
        "id": "LBlo8JrdL9Ff"
      },
      "execution_count": null,
      "outputs": []
    },
    {
      "cell_type": "markdown",
      "source": [
        "## Modelos lógicos"
      ],
      "metadata": {
        "id": "yzZGeDTn26EG"
      }
    },
    {
      "cell_type": "markdown",
      "source": [
        "### One hot encoding\n",
        "\n",
        "Como hemos visto arriba.\n",
        "\n",
        "### Formato ordinal\n",
        "\n",
        "Como hemos visto arriba.\n",
        "\n",
        "### Label Encoding\n",
        "\n",
        "Convertimos una variable string a categórica. Se le asigna un id."
      ],
      "metadata": {
        "id": "OsizzIDb4aqA"
      }
    },
    {
      "cell_type": "code",
      "source": [
        "cat_var = 'pickup_borough'\n",
        "le = LabelEncoder()\n",
        "# Convertir una variable en categórica (pasarla como un número)\n",
        "data[cat_var+'_enc'] = le.fit_transform(data[cat_var])\n",
        "# Acomoda y Transforma data[cat_var] usando LabelEncoder()"
      ],
      "metadata": {
        "id": "hgCT1L8ElAzZ"
      },
      "execution_count": null,
      "outputs": []
    },
    {
      "cell_type": "code",
      "source": [
        "data[[cat_var, cat_var+'_enc']].value_counts()"
      ],
      "metadata": {
        "colab": {
          "base_uri": "https://localhost:8080/"
        },
        "id": "zn1zZZFQ5irJ",
        "outputId": "903aeff4-bc85-4588-f8bf-2463d05f460c"
      },
      "execution_count": null,
      "outputs": [
        {
          "output_type": "execute_result",
          "data": {
            "text/plain": [
              "pickup_borough  pickup_borough_enc\n",
              "Manhattan       2                     5268\n",
              "Queens          3                      657\n",
              "Brooklyn        1                      383\n",
              "Bronx           0                       99\n",
              "dtype: int64"
            ]
          },
          "metadata": {},
          "execution_count": 45
        }
      ]
    },
    {
      "cell_type": "markdown",
      "source": [
        "### Agrupamiento de categorías\n",
        "\n",
        "Variables categóricas con muchas categorías únicas.\n",
        "\n",
        "Ley de Pareto: Reducir a aquellas categorías más importantes."
      ],
      "metadata": {
        "id": "nqOYAsK05tkU"
      }
    },
    {
      "cell_type": "code",
      "source": [
        "cat_var = 'pickup_zone'"
      ],
      "metadata": {
        "id": "BycB4HQc56LR"
      },
      "execution_count": null,
      "outputs": []
    },
    {
      "cell_type": "code",
      "source": [
        "data[cat_var].value_counts()"
      ],
      "metadata": {
        "colab": {
          "base_uri": "https://localhost:8080/"
        },
        "id": "RUEHA2ZU6BPU",
        "outputId": "c75e783b-aade-4aa7-8bfa-541bd5b1d2b0"
      },
      "execution_count": null,
      "outputs": [
        {
          "output_type": "execute_result",
          "data": {
            "text/plain": [
              "Midtown Center                         230\n",
              "Upper East Side South                  211\n",
              "Penn Station/Madison Sq West           210\n",
              "Clinton East                           208\n",
              "Midtown East                           198\n",
              "                                      ... \n",
              "Homecrest                                1\n",
              "Bedford Park                             1\n",
              "Riverdale/North Riverdale/Fieldston      1\n",
              "Hollis                                   1\n",
              "Hillcrest/Pomonok                        1\n",
              "Name: pickup_zone, Length: 194, dtype: int64"
            ]
          },
          "metadata": {},
          "execution_count": 47
        }
      ]
    },
    {
      "cell_type": "code",
      "source": [
        "top = data[cat_var].value_counts().to_frame().head(10)\n",
        "top\n",
        "# Escojo las variables más significativas top 10\n",
        "# to_frame covierte Series en DataFrame"
      ],
      "metadata": {
        "colab": {
          "base_uri": "https://localhost:8080/",
          "height": 362
        },
        "id": "uzWjDcw1w5VS",
        "outputId": "1e422904-68f5-462b-c586-47a557faa9c0"
      },
      "execution_count": null,
      "outputs": [
        {
          "output_type": "execute_result",
          "data": {
            "text/plain": [
              "                              pickup_zone\n",
              "Midtown Center                        230\n",
              "Upper East Side South                 211\n",
              "Penn Station/Madison Sq West          210\n",
              "Clinton East                          208\n",
              "Midtown East                          198\n",
              "Upper East Side North                 186\n",
              "Times Sq/Theatre District             184\n",
              "Union Sq                              180\n",
              "Lincoln Square East                   177\n",
              "Murray Hill                           162"
            ],
            "text/html": [
              "\n",
              "  <div id=\"df-072b78f4-0027-4694-b37e-766abe36fb70\">\n",
              "    <div class=\"colab-df-container\">\n",
              "      <div>\n",
              "<style scoped>\n",
              "    .dataframe tbody tr th:only-of-type {\n",
              "        vertical-align: middle;\n",
              "    }\n",
              "\n",
              "    .dataframe tbody tr th {\n",
              "        vertical-align: top;\n",
              "    }\n",
              "\n",
              "    .dataframe thead th {\n",
              "        text-align: right;\n",
              "    }\n",
              "</style>\n",
              "<table border=\"1\" class=\"dataframe\">\n",
              "  <thead>\n",
              "    <tr style=\"text-align: right;\">\n",
              "      <th></th>\n",
              "      <th>pickup_zone</th>\n",
              "    </tr>\n",
              "  </thead>\n",
              "  <tbody>\n",
              "    <tr>\n",
              "      <th>Midtown Center</th>\n",
              "      <td>230</td>\n",
              "    </tr>\n",
              "    <tr>\n",
              "      <th>Upper East Side South</th>\n",
              "      <td>211</td>\n",
              "    </tr>\n",
              "    <tr>\n",
              "      <th>Penn Station/Madison Sq West</th>\n",
              "      <td>210</td>\n",
              "    </tr>\n",
              "    <tr>\n",
              "      <th>Clinton East</th>\n",
              "      <td>208</td>\n",
              "    </tr>\n",
              "    <tr>\n",
              "      <th>Midtown East</th>\n",
              "      <td>198</td>\n",
              "    </tr>\n",
              "    <tr>\n",
              "      <th>Upper East Side North</th>\n",
              "      <td>186</td>\n",
              "    </tr>\n",
              "    <tr>\n",
              "      <th>Times Sq/Theatre District</th>\n",
              "      <td>184</td>\n",
              "    </tr>\n",
              "    <tr>\n",
              "      <th>Union Sq</th>\n",
              "      <td>180</td>\n",
              "    </tr>\n",
              "    <tr>\n",
              "      <th>Lincoln Square East</th>\n",
              "      <td>177</td>\n",
              "    </tr>\n",
              "    <tr>\n",
              "      <th>Murray Hill</th>\n",
              "      <td>162</td>\n",
              "    </tr>\n",
              "  </tbody>\n",
              "</table>\n",
              "</div>\n",
              "      <button class=\"colab-df-convert\" onclick=\"convertToInteractive('df-072b78f4-0027-4694-b37e-766abe36fb70')\"\n",
              "              title=\"Convert this dataframe to an interactive table.\"\n",
              "              style=\"display:none;\">\n",
              "        \n",
              "  <svg xmlns=\"http://www.w3.org/2000/svg\" height=\"24px\"viewBox=\"0 0 24 24\"\n",
              "       width=\"24px\">\n",
              "    <path d=\"M0 0h24v24H0V0z\" fill=\"none\"/>\n",
              "    <path d=\"M18.56 5.44l.94 2.06.94-2.06 2.06-.94-2.06-.94-.94-2.06-.94 2.06-2.06.94zm-11 1L8.5 8.5l.94-2.06 2.06-.94-2.06-.94L8.5 2.5l-.94 2.06-2.06.94zm10 10l.94 2.06.94-2.06 2.06-.94-2.06-.94-.94-2.06-.94 2.06-2.06.94z\"/><path d=\"M17.41 7.96l-1.37-1.37c-.4-.4-.92-.59-1.43-.59-.52 0-1.04.2-1.43.59L10.3 9.45l-7.72 7.72c-.78.78-.78 2.05 0 2.83L4 21.41c.39.39.9.59 1.41.59.51 0 1.02-.2 1.41-.59l7.78-7.78 2.81-2.81c.8-.78.8-2.07 0-2.86zM5.41 20L4 18.59l7.72-7.72 1.47 1.35L5.41 20z\"/>\n",
              "  </svg>\n",
              "      </button>\n",
              "      \n",
              "  <style>\n",
              "    .colab-df-container {\n",
              "      display:flex;\n",
              "      flex-wrap:wrap;\n",
              "      gap: 12px;\n",
              "    }\n",
              "\n",
              "    .colab-df-convert {\n",
              "      background-color: #E8F0FE;\n",
              "      border: none;\n",
              "      border-radius: 50%;\n",
              "      cursor: pointer;\n",
              "      display: none;\n",
              "      fill: #1967D2;\n",
              "      height: 32px;\n",
              "      padding: 0 0 0 0;\n",
              "      width: 32px;\n",
              "    }\n",
              "\n",
              "    .colab-df-convert:hover {\n",
              "      background-color: #E2EBFA;\n",
              "      box-shadow: 0px 1px 2px rgba(60, 64, 67, 0.3), 0px 1px 3px 1px rgba(60, 64, 67, 0.15);\n",
              "      fill: #174EA6;\n",
              "    }\n",
              "\n",
              "    [theme=dark] .colab-df-convert {\n",
              "      background-color: #3B4455;\n",
              "      fill: #D2E3FC;\n",
              "    }\n",
              "\n",
              "    [theme=dark] .colab-df-convert:hover {\n",
              "      background-color: #434B5C;\n",
              "      box-shadow: 0px 1px 3px 1px rgba(0, 0, 0, 0.15);\n",
              "      filter: drop-shadow(0px 1px 2px rgba(0, 0, 0, 0.3));\n",
              "      fill: #FFFFFF;\n",
              "    }\n",
              "  </style>\n",
              "\n",
              "      <script>\n",
              "        const buttonEl =\n",
              "          document.querySelector('#df-072b78f4-0027-4694-b37e-766abe36fb70 button.colab-df-convert');\n",
              "        buttonEl.style.display =\n",
              "          google.colab.kernel.accessAllowed ? 'block' : 'none';\n",
              "\n",
              "        async function convertToInteractive(key) {\n",
              "          const element = document.querySelector('#df-072b78f4-0027-4694-b37e-766abe36fb70');\n",
              "          const dataTable =\n",
              "            await google.colab.kernel.invokeFunction('convertToInteractive',\n",
              "                                                     [key], {});\n",
              "          if (!dataTable) return;\n",
              "\n",
              "          const docLinkHtml = 'Like what you see? Visit the ' +\n",
              "            '<a target=\"_blank\" href=https://colab.research.google.com/notebooks/data_table.ipynb>data table notebook</a>'\n",
              "            + ' to learn more about interactive tables.';\n",
              "          element.innerHTML = '';\n",
              "          dataTable['output_type'] = 'display_data';\n",
              "          await google.colab.output.renderOutput(dataTable, element);\n",
              "          const docLink = document.createElement('div');\n",
              "          docLink.innerHTML = docLinkHtml;\n",
              "          element.appendChild(docLink);\n",
              "        }\n",
              "      </script>\n",
              "    </div>\n",
              "  </div>\n",
              "  "
            ]
          },
          "metadata": {},
          "execution_count": 49
        }
      ]
    },
    {
      "cell_type": "code",
      "source": [
        "top = data[cat_var].value_counts().to_frame().head(10)\n",
        "data[cat_var+'_grouped'] = data[cat_var]\n",
        "\n",
        "# Creamos una nueva variable categórica donde si data[cat_var] no pertenece al top 10\n",
        "# Cree una nueva variable categórica llamada 'Other'\n",
        "data.loc[data[cat_var].isin(top.index) == False, cat_var+'_grouped'] = 'Other'\n",
        "data[cat_var+'_grouped'].value_counts()"
      ],
      "metadata": {
        "id": "C6fvN_N56EZ-",
        "colab": {
          "base_uri": "https://localhost:8080/"
        },
        "outputId": "247c5375-6939-4966-aee9-32bd805cf5f3"
      },
      "execution_count": null,
      "outputs": [
        {
          "output_type": "execute_result",
          "data": {
            "text/plain": [
              "Other                           4487\n",
              "Midtown Center                   230\n",
              "Upper East Side South            211\n",
              "Penn Station/Madison Sq West     210\n",
              "Clinton East                     208\n",
              "Midtown East                     198\n",
              "Upper East Side North            186\n",
              "Times Sq/Theatre District        184\n",
              "Union Sq                         180\n",
              "Lincoln Square East              177\n",
              "Murray Hill                      162\n",
              "Name: pickup_zone_grouped, dtype: int64"
            ]
          },
          "metadata": {},
          "execution_count": 50
        }
      ]
    }
  ]
}